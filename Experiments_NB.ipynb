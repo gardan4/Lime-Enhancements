{
 "cells": [
  {
   "cell_type": "code",
   "execution_count": 1,
   "metadata": {
    "ExecuteTime": {
     "end_time": "2024-01-22T16:37:22.299905200Z",
     "start_time": "2024-01-22T16:37:22.260975600Z"
    }
   },
   "outputs": [],
   "source": [
    "import numpy \n",
    "import pandas as pd\n",
    "from sklearn.model_selection import train_test_split\n",
    "from sklearn.naive_bayes import GaussianNB\n",
    "from sklearn.metrics import accuracy_score, classification_report,confusion_matrix\n",
    "import numpy as np"
   ]
  },
  {
   "cell_type": "code",
   "execution_count": 2,
   "metadata": {
    "ExecuteTime": {
     "end_time": "2024-01-22T16:37:22.471409300Z",
     "start_time": "2024-01-22T16:37:22.388632400Z"
    }
   },
   "outputs": [],
   "source": [
    "from data_prep import DataPrep"
   ]
  },
  {
   "cell_type": "code",
   "execution_count": 3,
   "metadata": {
    "ExecuteTime": {
     "end_time": "2024-01-22T16:37:23.070612100Z",
     "start_time": "2024-01-22T16:37:22.541223900Z"
    }
   },
   "outputs": [
    {
     "name": "stderr",
     "output_type": "stream",
     "text": [
      "c:\\Users\\Asus\\vscodeprojects\\Lime-Enhancements\\data_prep.py:17: SettingWithCopyWarning: \n",
      "A value is trying to be set on a copy of a slice from a DataFrame.\n",
      "Try using .loc[row_indexer,col_indexer] = value instead\n",
      "\n",
      "See the caveats in the documentation: https://pandas.pydata.org/pandas-docs/stable/user_guide/indexing.html#returning-a-view-versus-a-copy\n",
      "  compas_df['length_of_stay'] = (pd.to_datetime(compas_df['c_jail_out']) - pd.to_datetime(compas_df['c_jail_in'])).dt.days\n"
     ]
    }
   ],
   "source": [
    "data_location = \"./data/compas-scores-two-years.csv\"\n",
    "compas_score_full = pd.read_csv(data_location)\n",
    "data_prepper = DataPrep(compas_score_full)\n",
    "X, y, X_cols = data_prepper.get()\n",
    "\n",
    "features = [c for c in X]\n",
    "\n",
    "categorical_feature_name = ['two_year_recid', 'c_charge_degree_F', 'c_charge_degree_M',\\\n",
    "                            'sex_Female', 'sex_Male', 'race']\n",
    "\n",
    "categorical_feature_indcs = [features.index(c) for c in categorical_feature_name]\n",
    "race_indc = features.index('race')\n",
    "\n",
    "X=X.to_numpy()\n",
    "#make all columns float\n",
    "X = X.astype(float)\n",
    "y=np.array(y)\n",
    "\n"
   ]
  },
  {
   "cell_type": "code",
   "execution_count": 4,
   "metadata": {
    "ExecuteTime": {
     "end_time": "2024-01-22T16:37:23.070612100Z",
     "start_time": "2024-01-22T16:37:22.941851400Z"
    }
   },
   "outputs": [],
   "source": [
    "X_train, X_test, y_train, y_test = train_test_split(X, y, test_size=0.2, random_state=42)"
   ]
  },
  {
   "cell_type": "code",
   "execution_count": 5,
   "metadata": {
    "ExecuteTime": {
     "end_time": "2024-01-22T16:37:23.241154400Z",
     "start_time": "2024-01-22T16:37:22.962861300Z"
    }
   },
   "outputs": [
    {
     "name": "stdout",
     "output_type": "stream",
     "text": [
      "Accuracy: 0.8307692307692308\n",
      "Classification Report:\n",
      "              precision    recall  f1-score   support\n",
      "\n",
      "           0       0.54      0.42      0.47       224\n",
      "           1       0.88      0.92      0.90      1011\n",
      "\n",
      "    accuracy                           0.83      1235\n",
      "   macro avg       0.71      0.67      0.69      1235\n",
      "weighted avg       0.82      0.83      0.82      1235\n",
      "\n"
     ]
    }
   ],
   "source": [
    "naive_bayes_model = GaussianNB()\n",
    "naive_bayes_model.fit(X_train, y_train)\n",
    "\n",
    "y_pred = naive_bayes_model.predict(X_test)\n",
    "\n",
    "\n",
    "accuracy = accuracy_score(y_test, y_pred)\n",
    "print(f'Accuracy: {accuracy}')\n",
    "\n",
    "print('Classification Report:')\n",
    "print(classification_report(y_test, y_pred))"
   ]
  },
  {
   "cell_type": "code",
   "execution_count": 6,
   "metadata": {
    "ExecuteTime": {
     "end_time": "2024-01-22T16:37:23.242153100Z",
     "start_time": "2024-01-22T16:37:23.015870Z"
    }
   },
   "outputs": [
    {
     "name": "stdout",
     "output_type": "stream",
     "text": [
      "Confusion Matrix:\n",
      "[[ 94 130]\n",
      " [ 79 932]]\n"
     ]
    }
   ],
   "source": [
    "conf_matrix = confusion_matrix(y_test, y_pred)\n",
    "print('Confusion Matrix:')\n",
    "print(conf_matrix)"
   ]
  },
  {
   "cell_type": "markdown",
   "metadata": {},
   "source": [
    "### Standard deviation"
   ]
  },
  {
   "cell_type": "code",
   "execution_count": 7,
   "metadata": {
    "ExecuteTime": {
     "end_time": "2024-01-22T16:37:23.458580Z",
     "start_time": "2024-01-22T16:37:23.309970600Z"
    }
   },
   "outputs": [],
   "source": [
    "from sklearn.preprocessing import MinMaxScaler"
   ]
  },
  {
   "cell_type": "code",
   "execution_count": 8,
   "metadata": {
    "ExecuteTime": {
     "end_time": "2024-01-22T16:37:24.209100100Z",
     "start_time": "2024-01-22T16:37:24.197417Z"
    }
   },
   "outputs": [],
   "source": [
    "from sklearn.feature_selection import mutual_info_classif"
   ]
  },
  {
   "cell_type": "markdown",
   "metadata": {},
   "source": [
    "### Mutual information"
   ]
  },
  {
   "cell_type": "code",
   "execution_count": 9,
   "metadata": {
    "ExecuteTime": {
     "end_time": "2024-01-22T16:37:25.997673400Z",
     "start_time": "2024-01-22T16:37:25.295978400Z"
    }
   },
   "outputs": [
    {
     "name": "stdout",
     "output_type": "stream",
     "text": [
      "\n",
      "Scaled Information Gain:\n",
      "             Feature  Scaled Information Gain\n",
      "2       priors_count                 1.000000\n",
      "1     two_year_recid                 0.741626\n",
      "8               race                 0.431101\n",
      "0                age                 0.430770\n",
      "3     length_of_stay                 0.417032\n",
      "4  c_charge_degree_F                 0.217664\n",
      "5  c_charge_degree_M                 0.173355\n",
      "6         sex_Female                 0.086700\n",
      "7           sex_Male                 0.078037\n"
     ]
    }
   ],
   "source": [
    "information_gain = mutual_info_classif(X, y, discrete_features='auto', random_state=42)\n",
    "\n",
    "scaled_information_gain = information_gain / information_gain.max()\n",
    "\n",
    "information_gain_df = pd.DataFrame({'Feature': X_cols, 'Scaled Information Gain': scaled_information_gain})\n",
    "information_gain_df = information_gain_df.sort_values(by='Scaled Information Gain', ascending=False)\n",
    "\n",
    "print(\"\\nScaled Information Gain:\")\n",
    "print(information_gain_df)"
   ]
  },
  {
   "cell_type": "markdown",
   "metadata": {},
   "source": [
    "### Changing in LIME base "
   ]
  },
  {
   "cell_type": "markdown",
   "metadata": {},
   "source": [
    "if model_regressor is None:\n",
    "            model_regressor = GaussianNB(random_state=self.random_state)\n",
    "easy_model = model_regressor\n",
    "easy_model.fit(neighborhood_data[:, used_features],\n",
    "                       labels_column, sample_weight=weights)\n",
    "prediction_score = easy_model.score(\n",
    "            neighborhood_data[:, used_features],\n",
    "            labels_column, sample_weight=weights)\n",
    "\n",
    "local_pred = easy_model.predict(neighborhood_data[0, used_features].reshape(1, -1))\n",
    "information_gain = mutual_info_classif(X, y, discrete_features='auto', random_state=42)\n",
    "\n",
    "scaled_information_gain = information_gain / information_gain.max()\n",
    "\n",
    "information_gain_df = pd.DataFrame({'Feature': X.columns, 'Scaled Information Gain': scaled_information_gain})\n",
    "information_gain_df = information_gain_df.sort_values(by='Scaled Information Gain', ascending=False)\n",
    "\n",
    "easy_model_coef=information_gain_df\n",
    "if self.verbose:\n",
    "    print('Prediction_local', local_pred, )\n",
    "    print('Right:', neighborhood_labels[0, label])\n",
    "return (sorted(zip(used_features, easy_model_coef),\n",
    "                       key=lambda x: np.abs(x[1]), reverse=True),\n",
    "                prediction_score, local_pred)"
   ]
  },
  {
   "cell_type": "code",
   "execution_count": 10,
   "metadata": {
    "ExecuteTime": {
     "end_time": "2024-01-22T16:37:26.704717900Z",
     "start_time": "2024-01-22T16:37:26.657135100Z"
    }
   },
   "outputs": [],
   "source": [
    "from model_builder import ModelBuild\n"
   ]
  },
  {
   "cell_type": "code",
   "execution_count": 11,
   "metadata": {
    "ExecuteTime": {
     "end_time": "2024-01-22T16:37:28.410812300Z",
     "start_time": "2024-01-22T16:37:28.336010400Z"
    }
   },
   "outputs": [
    {
     "name": "stdout",
     "output_type": "stream",
     "text": [
      "['age', 'two_year_recid', 'priors_count', 'length_of_stay', 'c_charge_degree_F', 'c_charge_degree_M', 'sex_Female', 'sex_Male', 'race']\n",
      "['age', 'two_year_recid', 'priors_count', 'length_of_stay', 'c_charge_degree_F', 'c_charge_degree_M', 'sex_Female', 'sex_Male', 'race']\n",
      "Instance to be explained:\n",
      "age                  22.0\n",
      "two_year_recid        0.0\n",
      "priors_count          1.0\n",
      "length_of_stay        4.0\n",
      "c_charge_degree_F     1.0\n",
      "c_charge_degree_M     0.0\n",
      "sex_Female            0.0\n",
      "sex_Male              1.0\n",
      "race                  1.0\n",
      "Name: 76, dtype: float64\n"
     ]
    }
   ],
   "source": [
    "print(X_cols)\n",
    "modelBuilder = ModelBuild('DecisionTree')\n",
    "model, accuracy, cm = modelBuilder.train_eval(X_train, y_train, X_test, y_test)\n",
    "explainer_lime = modelBuilder.naive_bayes_explain(X_train, X_cols)\n",
    "print(X_cols)\n",
    "\n",
    "instance_no = 76\n",
    "#instance to explain (for easy column viewing converted to pandas)\n",
    "print(f\"Instance to be explained:\\n{pd.DataFrame(X_test, columns=X_cols).iloc[instance_no]}\")\n"
   ]
  },
  {
   "cell_type": "code",
   "execution_count": 18,
   "metadata": {},
   "outputs": [],
   "source": [
    "import pandas as pd\n",
    "\n",
    "def compare_objects(exp1, exp2, previous_df=None):\n",
    "    # return explainer object as list\n",
    "    exp1 = exp1.as_list()\n",
    "    exp2 = exp2.as_list()\n",
    "\n",
    "    # turn into Pandas DataFrames\n",
    "    df1 = pd.DataFrame(exp1, columns=['feature', 'value'])\n",
    "    df2 = pd.DataFrame(exp2, columns=['feature', 'value'])\n",
    "\n",
    "    # Merge DataFrames on the 'feature' column (outer join to handle non-matching strings)\n",
    "    merged_df = pd.merge(df1, df2, on='feature', how='outer', suffixes=('_df1', '_df2'))\n",
    "\n",
    "    # Fill NaN values with 0 for features that are present in only one explanation\n",
    "    merged_df['value_df1'].fillna(0, inplace=True)\n",
    "    merged_df['value_df2'].fillna(0, inplace=True)\n",
    "\n",
    "    # calculate absolute difference\n",
    "    merged_df['difference'] = merged_df['value_df1'] - merged_df['value_df2']\n",
    "\n",
    "    return merged_df[['feature', 'difference']]"
   ]
  },
  {
   "cell_type": "code",
   "execution_count": 19,
   "metadata": {
    "ExecuteTime": {
     "end_time": "2024-01-22T16:37:31.661364Z",
     "start_time": "2024-01-22T16:37:30.726290500Z"
    }
   },
   "outputs": [
    {
     "name": "stdout",
     "output_type": "stream",
     "text": [
      "[[1. 1. 1. 1. 1.]\n",
      " [0. 0. 1. 1. 0.]\n",
      " [0. 1. 0. 1. 0.]\n",
      " ...\n",
      " [0. 0. 0. 0. 0.]\n",
      " [0. 0. 0. 0. 0.]\n",
      " [0. 0. 0. 1. 0.]]\n",
      "[0 1 1 1 1 1 1 1 1 1 1 0 1 0 0 1 1 1 0 1 0 1 1 1 1 1 1 1 1 1 1 1 1 1 0 1 1\n",
      " 1 1 1 1 1 1 1 0 1 1 1 1 1 1 0 1 1 1 1 1 0 1 0 1 0 1 1 1 0 1 0 1 1 1 0 1 1\n",
      " 0 0 1 1 1 1 1 0 1 1 1 0 0 1 1 1 0 1 1 0 1 0 0 1 1 0]\n",
      "                         feature  difference\n",
      "0            priors_count > 4.00    1.355602\n",
      "1          length_of_stay > 6.00    0.163014\n",
      "2      c_charge_degree_F <= 0.00    0.041502\n",
      "3  0.00 < two_year_recid <= 1.00    0.077809\n",
      "4            0.00 < race <= 1.00    0.069315\n",
      "5             sex_Female <= 0.00   -0.017835\n"
     ]
    }
   ],
   "source": [
    "real_lime = modelBuilder.explain(X_train, X_cols)\n",
    "#exp_inst = explainer_lime.explain_instance(X_test[instance_no], model.predict_proba, num_features=5)\n",
    "exp_inst_dt = explainer_lime.explain_instance(X_test[0], model.predict_proba, num_features=5)\n",
    "exp_inst = real_lime.explain_instance(X_test[0], model.predict_proba, num_features=5)\n",
    "df  = compare_objects(exp_inst_dt,exp_inst)\n",
    "print(df)"
   ]
  },
  {
   "cell_type": "code",
   "execution_count": null,
   "metadata": {},
   "outputs": [],
   "source": []
  }
 ],
 "metadata": {
  "kernelspec": {
   "display_name": "Python 3",
   "language": "python",
   "name": "python3"
  },
  "language_info": {
   "codemirror_mode": {
    "name": "ipython",
    "version": 3
   },
   "file_extension": ".py",
   "mimetype": "text/x-python",
   "name": "python",
   "nbconvert_exporter": "python",
   "pygments_lexer": "ipython3",
   "version": "3.11.4"
  }
 },
 "nbformat": 4,
 "nbformat_minor": 2
}
