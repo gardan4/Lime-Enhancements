{
 "cells": [
  {
   "cell_type": "code",
   "execution_count": 27,
   "metadata": {
    "ExecuteTime": {
     "end_time": "2024-01-22T16:37:22.299905200Z",
     "start_time": "2024-01-22T16:37:22.260975600Z"
    }
   },
   "outputs": [],
   "source": [
    "import numpy \n",
    "import pandas as pd\n",
    "from sklearn.model_selection import train_test_split\n",
    "from sklearn.naive_bayes import GaussianNB\n",
    "from sklearn.metrics import accuracy_score, classification_report,confusion_matrix\n",
    "import numpy as np"
   ]
  },
  {
   "cell_type": "code",
   "execution_count": 28,
   "metadata": {
    "ExecuteTime": {
     "end_time": "2024-01-22T16:37:22.471409300Z",
     "start_time": "2024-01-22T16:37:22.388632400Z"
    }
   },
   "outputs": [],
   "source": [
    "from data_prep import DataPrep"
   ]
  },
  {
   "cell_type": "code",
   "execution_count": 29,
   "metadata": {
    "ExecuteTime": {
     "end_time": "2024-01-22T16:37:23.070612100Z",
     "start_time": "2024-01-22T16:37:22.541223900Z"
    }
   },
   "outputs": [
    {
     "name": "stderr",
     "output_type": "stream",
     "text": [
      "C:\\Users\\Tabea Heusel\\PycharmProjects\\Lime-Enhancements\\data_prep.py:17: SettingWithCopyWarning: \n",
      "A value is trying to be set on a copy of a slice from a DataFrame.\n",
      "Try using .loc[row_indexer,col_indexer] = value instead\n",
      "\n",
      "See the caveats in the documentation: https://pandas.pydata.org/pandas-docs/stable/user_guide/indexing.html#returning-a-view-versus-a-copy\n",
      "  compas_df['length_of_stay'] = (pd.to_datetime(compas_df['c_jail_out']) - pd.to_datetime(compas_df['c_jail_in'])).dt.days\n"
     ]
    }
   ],
   "source": [
    "data_location = \"./data/compas-scores-two-years.csv\"\n",
    "compas_score_full = pd.read_csv(data_location)\n",
    "data_prepper = DataPrep(compas_score_full)\n",
    "X, y, X_cols = data_prepper.get()\n",
    "\n",
    "features = [c for c in X]\n",
    "\n",
    "categorical_feature_name = ['two_year_recid', 'c_charge_degree_F', 'c_charge_degree_M',\\\n",
    "                            'sex_Female', 'sex_Male', 'race']\n",
    "\n",
    "categorical_feature_indcs = [features.index(c) for c in categorical_feature_name]\n",
    "race_indc = features.index('race')\n",
    "\n",
    "X=X.to_numpy()\n",
    "#make all columns float\n",
    "X = X.astype(float)\n",
    "y=np.array(y)\n",
    "\n"
   ]
  },
  {
   "cell_type": "code",
   "execution_count": 30,
   "metadata": {
    "ExecuteTime": {
     "end_time": "2024-01-22T16:37:23.070612100Z",
     "start_time": "2024-01-22T16:37:22.941851400Z"
    }
   },
   "outputs": [],
   "source": [
    "X_train, X_test, y_train, y_test = train_test_split(X, y, test_size=0.2, random_state=42)"
   ]
  },
  {
   "cell_type": "code",
   "execution_count": 31,
   "metadata": {
    "ExecuteTime": {
     "end_time": "2024-01-22T16:37:23.241154400Z",
     "start_time": "2024-01-22T16:37:22.962861300Z"
    }
   },
   "outputs": [
    {
     "name": "stdout",
     "output_type": "stream",
     "text": [
      "Accuracy: 0.8307692307692308\n",
      "Classification Report:\n",
      "              precision    recall  f1-score   support\n",
      "\n",
      "           0       0.54      0.42      0.47       224\n",
      "           1       0.88      0.92      0.90      1011\n",
      "\n",
      "    accuracy                           0.83      1235\n",
      "   macro avg       0.71      0.67      0.69      1235\n",
      "weighted avg       0.82      0.83      0.82      1235\n",
      "\n"
     ]
    }
   ],
   "source": [
    "naive_bayes_model = GaussianNB()\n",
    "naive_bayes_model.fit(X_train, y_train)\n",
    "\n",
    "y_pred = naive_bayes_model.predict(X_test)\n",
    "\n",
    "\n",
    "accuracy = accuracy_score(y_test, y_pred)\n",
    "print(f'Accuracy: {accuracy}')\n",
    "\n",
    "print('Classification Report:')\n",
    "print(classification_report(y_test, y_pred))"
   ]
  },
  {
   "cell_type": "code",
   "execution_count": 32,
   "metadata": {
    "ExecuteTime": {
     "end_time": "2024-01-22T16:37:23.242153100Z",
     "start_time": "2024-01-22T16:37:23.015870Z"
    }
   },
   "outputs": [
    {
     "name": "stdout",
     "output_type": "stream",
     "text": [
      "Confusion Matrix:\n",
      "[[ 94 130]\n",
      " [ 79 932]]\n"
     ]
    }
   ],
   "source": [
    "conf_matrix = confusion_matrix(y_test, y_pred)\n",
    "print('Confusion Matrix:')\n",
    "print(conf_matrix)"
   ]
  },
  {
   "cell_type": "markdown",
   "metadata": {},
   "source": [
    "### Standard deviation"
   ]
  },
  {
   "cell_type": "code",
   "execution_count": 33,
   "metadata": {
    "ExecuteTime": {
     "end_time": "2024-01-22T16:37:23.458580Z",
     "start_time": "2024-01-22T16:37:23.309970600Z"
    }
   },
   "outputs": [],
   "source": [
    "from sklearn.preprocessing import MinMaxScaler"
   ]
  },
  {
   "cell_type": "markdown",
   "metadata": {},
   "source": [
    "scaler = MinMaxScaler()\n",
    "scaled_std = scaler.fit_transform(std_per_variable.values.reshape(-1, 1))\n",
    "\n",
    "scaled_std_df = pd.DataFrame({'Feature': std_per_variable.index, 'Scaled Standard Deviation': scaled_std.flatten()})\n",
    "scaled_std_df = scaled_std_df.sort_values(by='Scaled Standard Deviation', ascending=False)\n",
    "\n",
    "print(\"Sorted Scaled Standard Deviation:\")\n",
    "print(scaled_std_df)"
   ]
  },
  {
   "cell_type": "code",
   "execution_count": 34,
   "metadata": {
    "ExecuteTime": {
     "end_time": "2024-01-22T16:37:24.209100100Z",
     "start_time": "2024-01-22T16:37:24.197417Z"
    }
   },
   "outputs": [],
   "source": [
    "from sklearn.feature_selection import mutual_info_classif"
   ]
  },
  {
   "cell_type": "markdown",
   "metadata": {},
   "source": [
    "### Mutual information"
   ]
  },
  {
   "cell_type": "code",
   "execution_count": 35,
   "metadata": {
    "ExecuteTime": {
     "end_time": "2024-01-22T16:37:25.997673400Z",
     "start_time": "2024-01-22T16:37:25.295978400Z"
    }
   },
   "outputs": [
    {
     "name": "stdout",
     "output_type": "stream",
     "text": [
      "\n",
      "Scaled Information Gain:\n",
      "             Feature  Scaled Information Gain\n",
      "2       priors_count                 1.000000\n",
      "1     two_year_recid                 0.741626\n",
      "8               race                 0.431101\n",
      "0                age                 0.430770\n",
      "3     length_of_stay                 0.417032\n",
      "4  c_charge_degree_F                 0.217664\n",
      "5  c_charge_degree_M                 0.173355\n",
      "6         sex_Female                 0.086700\n",
      "7           sex_Male                 0.078037\n"
     ]
    }
   ],
   "source": [
    "information_gain = mutual_info_classif(X, y, discrete_features='auto', random_state=42)\n",
    "\n",
    "scaled_information_gain = information_gain / information_gain.max()\n",
    "\n",
    "information_gain_df = pd.DataFrame({'Feature': X_cols, 'Scaled Information Gain': scaled_information_gain})\n",
    "information_gain_df = information_gain_df.sort_values(by='Scaled Information Gain', ascending=False)\n",
    "\n",
    "print(\"\\nScaled Information Gain:\")\n",
    "print(information_gain_df)"
   ]
  },
  {
   "cell_type": "markdown",
   "metadata": {},
   "source": [
    "### Changing in LIME base "
   ]
  },
  {
   "cell_type": "markdown",
   "metadata": {},
   "source": [
    "if model_regressor is None:\n",
    "            model_regressor = GaussianNB(random_state=self.random_state)\n",
    "easy_model = model_regressor\n",
    "easy_model.fit(neighborhood_data[:, used_features],\n",
    "                       labels_column, sample_weight=weights)\n",
    "prediction_score = easy_model.score(\n",
    "            neighborhood_data[:, used_features],\n",
    "            labels_column, sample_weight=weights)\n",
    "\n",
    "local_pred = easy_model.predict(neighborhood_data[0, used_features].reshape(1, -1))\n",
    "information_gain = mutual_info_classif(X, y, discrete_features='auto', random_state=42)\n",
    "\n",
    "scaled_information_gain = information_gain / information_gain.max()\n",
    "\n",
    "information_gain_df = pd.DataFrame({'Feature': X.columns, 'Scaled Information Gain': scaled_information_gain})\n",
    "information_gain_df = information_gain_df.sort_values(by='Scaled Information Gain', ascending=False)\n",
    "\n",
    "easy_model_coef=information_gain_df\n",
    "if self.verbose:\n",
    "    print('Prediction_local', local_pred, )\n",
    "    print('Right:', neighborhood_labels[0, label])\n",
    "return (sorted(zip(used_features, easy_model_coef),\n",
    "                       key=lambda x: np.abs(x[1]), reverse=True),\n",
    "                prediction_score, local_pred)"
   ]
  },
  {
   "cell_type": "code",
   "execution_count": 36,
   "metadata": {
    "ExecuteTime": {
     "end_time": "2024-01-22T16:37:26.704717900Z",
     "start_time": "2024-01-22T16:37:26.657135100Z"
    }
   },
   "outputs": [],
   "source": [
    "from model_builder import ModelBuild\n"
   ]
  },
  {
   "cell_type": "code",
   "execution_count": 37,
   "metadata": {
    "ExecuteTime": {
     "end_time": "2024-01-22T16:37:28.410812300Z",
     "start_time": "2024-01-22T16:37:28.336010400Z"
    }
   },
   "outputs": [
    {
     "name": "stdout",
     "output_type": "stream",
     "text": [
      "['age', 'two_year_recid', 'priors_count', 'length_of_stay', 'c_charge_degree_F', 'c_charge_degree_M', 'sex_Female', 'sex_Male', 'race']\n",
      "['age', 'two_year_recid', 'priors_count', 'length_of_stay', 'c_charge_degree_F', 'c_charge_degree_M', 'sex_Female', 'sex_Male', 'race']\n",
      "Instance to be explained:\n",
      "age                  22.0\n",
      "two_year_recid        0.0\n",
      "priors_count          1.0\n",
      "length_of_stay        4.0\n",
      "c_charge_degree_F     1.0\n",
      "c_charge_degree_M     0.0\n",
      "sex_Female            0.0\n",
      "sex_Male              1.0\n",
      "race                  1.0\n",
      "Name: 76, dtype: float64\n"
     ]
    }
   ],
   "source": [
    "print(X_cols)\n",
    "modelBuilder = ModelBuild('DecisionTree')\n",
    "model, accuracy, cm = modelBuilder.train_eval(X_train, y_train, X_test, y_test)\n",
    "explainer_lime = modelBuilder.naive_bayes_explain(X_train, X_cols)\n",
    "print(X_cols)\n",
    "\n",
    "instance_no = 76\n",
    "#instance to explain (for easy column viewing converted to pandas)\n",
    "print(f\"Instance to be explained:\\n{pd.DataFrame(X_test, columns=X_cols).iloc[instance_no]}\")\n"
   ]
  },
  {
   "cell_type": "code",
   "execution_count": 38,
   "metadata": {
    "ExecuteTime": {
     "end_time": "2024-01-22T16:37:31.661364Z",
     "start_time": "2024-01-22T16:37:30.726290500Z"
    }
   },
   "outputs": [
    {
     "name": "stdout",
     "output_type": "stream",
     "text": [
      "(5000, 5)\n",
      "(5000,)\n"
     ]
    },
    {
     "ename": "ValueError",
     "evalue": "Unknown label type: (array([0.        , 0.25      , 0.33333333, 0.44444444, 0.5       ,\n       0.55555556, 0.625     , 0.66666667, 0.71428571, 0.75      ,\n       0.8       , 0.83333333, 0.875     , 1.        ]),)",
     "output_type": "error",
     "traceback": [
      "\u001B[1;31m---------------------------------------------------------------------------\u001B[0m",
      "\u001B[1;31mValueError\u001B[0m                                Traceback (most recent call last)",
      "Cell \u001B[1;32mIn[38], line 1\u001B[0m\n\u001B[1;32m----> 1\u001B[0m exp_inst \u001B[38;5;241m=\u001B[39m \u001B[43mexplainer_lime\u001B[49m\u001B[38;5;241;43m.\u001B[39;49m\u001B[43mexplain_instance\u001B[49m\u001B[43m(\u001B[49m\u001B[43mX_test\u001B[49m\u001B[43m[\u001B[49m\u001B[43minstance_no\u001B[49m\u001B[43m]\u001B[49m\u001B[43m,\u001B[49m\u001B[43m \u001B[49m\u001B[43mmodel\u001B[49m\u001B[38;5;241;43m.\u001B[39;49m\u001B[43mpredict_proba\u001B[49m\u001B[43m,\u001B[49m\u001B[43m \u001B[49m\u001B[43mnum_features\u001B[49m\u001B[38;5;241;43m=\u001B[39;49m\u001B[38;5;241;43m5\u001B[39;49m\u001B[43m)\u001B[49m\n",
      "File \u001B[1;32m~\\PycharmProjects\\Lime-Enhancements\\NB_lime\\lime_tabular.py:460\u001B[0m, in \u001B[0;36mLimeTabularExplainer_NB.explain_instance\u001B[1;34m(self, data_row, predict_fn, labels, top_labels, num_features, num_samples, distance_metric, model_regressor, sampling_method)\u001B[0m\n\u001B[0;32m    455\u001B[0m     labels \u001B[38;5;241m=\u001B[39m [\u001B[38;5;241m0\u001B[39m]\n\u001B[0;32m    456\u001B[0m \u001B[38;5;28;01mfor\u001B[39;00m label \u001B[38;5;129;01min\u001B[39;00m labels:\n\u001B[0;32m    457\u001B[0m     (ret_exp\u001B[38;5;241m.\u001B[39mintercept[label],\n\u001B[0;32m    458\u001B[0m      ret_exp\u001B[38;5;241m.\u001B[39mlocal_exp[label],\n\u001B[0;32m    459\u001B[0m      ret_exp\u001B[38;5;241m.\u001B[39mscore[label],\n\u001B[1;32m--> 460\u001B[0m      ret_exp\u001B[38;5;241m.\u001B[39mlocal_pred[label]) \u001B[38;5;241m=\u001B[39m \u001B[38;5;28;43mself\u001B[39;49m\u001B[38;5;241;43m.\u001B[39;49m\u001B[43mbase\u001B[49m\u001B[38;5;241;43m.\u001B[39;49m\u001B[43mexplain_instance_with_data\u001B[49m\u001B[43m(\u001B[49m\n\u001B[0;32m    461\u001B[0m \u001B[43m            \u001B[49m\u001B[43mscaled_data\u001B[49m\u001B[43m,\u001B[49m\n\u001B[0;32m    462\u001B[0m \u001B[43m            \u001B[49m\u001B[43myss\u001B[49m\u001B[43m,\u001B[49m\n\u001B[0;32m    463\u001B[0m \u001B[43m            \u001B[49m\u001B[43mdistances\u001B[49m\u001B[43m,\u001B[49m\n\u001B[0;32m    464\u001B[0m \u001B[43m            \u001B[49m\u001B[43mlabel\u001B[49m\u001B[43m,\u001B[49m\n\u001B[0;32m    465\u001B[0m \u001B[43m            \u001B[49m\u001B[43mnum_features\u001B[49m\u001B[43m,\u001B[49m\n\u001B[0;32m    466\u001B[0m \u001B[43m            \u001B[49m\u001B[43mmodel_regressor\u001B[49m\u001B[38;5;241;43m=\u001B[39;49m\u001B[43mmodel_regressor\u001B[49m\u001B[43m,\u001B[49m\n\u001B[0;32m    467\u001B[0m \u001B[43m            \u001B[49m\u001B[43mfeature_selection\u001B[49m\u001B[38;5;241;43m=\u001B[39;49m\u001B[38;5;28;43mself\u001B[39;49m\u001B[38;5;241;43m.\u001B[39;49m\u001B[43mfeature_selection\u001B[49m\u001B[43m)\u001B[49m\n\u001B[0;32m    469\u001B[0m \u001B[38;5;28;01mif\u001B[39;00m \u001B[38;5;28mself\u001B[39m\u001B[38;5;241m.\u001B[39mmode \u001B[38;5;241m==\u001B[39m \u001B[38;5;124m\"\u001B[39m\u001B[38;5;124mregression\u001B[39m\u001B[38;5;124m\"\u001B[39m:\n\u001B[0;32m    470\u001B[0m     ret_exp\u001B[38;5;241m.\u001B[39mintercept[\u001B[38;5;241m1\u001B[39m] \u001B[38;5;241m=\u001B[39m ret_exp\u001B[38;5;241m.\u001B[39mintercept[\u001B[38;5;241m0\u001B[39m]\n",
      "File \u001B[1;32m~\\PycharmProjects\\Lime-Enhancements\\NB_lime\\lime_base.py:197\u001B[0m, in \u001B[0;36mLimeBase.explain_instance_with_data\u001B[1;34m(self, neighborhood_data, neighborhood_labels, distances, label, num_features, feature_selection, model_regressor)\u001B[0m\n\u001B[0;32m    195\u001B[0m \u001B[38;5;28mprint\u001B[39m(neighborhood_data[:, used_features]\u001B[38;5;241m.\u001B[39mshape)\n\u001B[0;32m    196\u001B[0m \u001B[38;5;28mprint\u001B[39m(labels_column\u001B[38;5;241m.\u001B[39mshape)\n\u001B[1;32m--> 197\u001B[0m \u001B[43measy_model\u001B[49m\u001B[38;5;241;43m.\u001B[39;49m\u001B[43mfit\u001B[49m\u001B[43m(\u001B[49m\u001B[43mneighborhood_data\u001B[49m\u001B[43m[\u001B[49m\u001B[43m:\u001B[49m\u001B[43m,\u001B[49m\u001B[43m \u001B[49m\u001B[43mused_features\u001B[49m\u001B[43m]\u001B[49m\u001B[43m,\u001B[49m\n\u001B[0;32m    198\u001B[0m \u001B[43m               \u001B[49m\u001B[43mlabels_column\u001B[49m\u001B[43m)\u001B[49m\n\u001B[0;32m    199\u001B[0m prediction_score \u001B[38;5;241m=\u001B[39m easy_model\u001B[38;5;241m.\u001B[39mscore(\n\u001B[0;32m    200\u001B[0m     neighborhood_data[:, used_features],\n\u001B[0;32m    201\u001B[0m     labels_column, sample_weight\u001B[38;5;241m=\u001B[39mweights)\n\u001B[0;32m    203\u001B[0m local_pred \u001B[38;5;241m=\u001B[39m easy_model\u001B[38;5;241m.\u001B[39mpredict(neighborhood_data[\u001B[38;5;241m0\u001B[39m, used_features]\u001B[38;5;241m.\u001B[39mreshape(\u001B[38;5;241m1\u001B[39m, \u001B[38;5;241m-\u001B[39m\u001B[38;5;241m1\u001B[39m))\n",
      "File \u001B[1;32m~\\PycharmProjects\\Lime-Enhancements\\venv\\lib\\site-packages\\sklearn\\base.py:1152\u001B[0m, in \u001B[0;36m_fit_context.<locals>.decorator.<locals>.wrapper\u001B[1;34m(estimator, *args, **kwargs)\u001B[0m\n\u001B[0;32m   1145\u001B[0m     estimator\u001B[38;5;241m.\u001B[39m_validate_params()\n\u001B[0;32m   1147\u001B[0m \u001B[38;5;28;01mwith\u001B[39;00m config_context(\n\u001B[0;32m   1148\u001B[0m     skip_parameter_validation\u001B[38;5;241m=\u001B[39m(\n\u001B[0;32m   1149\u001B[0m         prefer_skip_nested_validation \u001B[38;5;129;01mor\u001B[39;00m global_skip_validation\n\u001B[0;32m   1150\u001B[0m     )\n\u001B[0;32m   1151\u001B[0m ):\n\u001B[1;32m-> 1152\u001B[0m     \u001B[38;5;28;01mreturn\u001B[39;00m fit_method(estimator, \u001B[38;5;241m*\u001B[39margs, \u001B[38;5;241m*\u001B[39m\u001B[38;5;241m*\u001B[39mkwargs)\n",
      "File \u001B[1;32m~\\PycharmProjects\\Lime-Enhancements\\venv\\lib\\site-packages\\sklearn\\naive_bayes.py:263\u001B[0m, in \u001B[0;36mGaussianNB.fit\u001B[1;34m(self, X, y, sample_weight)\u001B[0m\n\u001B[0;32m    240\u001B[0m \u001B[38;5;250m\u001B[39m\u001B[38;5;124;03m\"\"\"Fit Gaussian Naive Bayes according to X, y.\u001B[39;00m\n\u001B[0;32m    241\u001B[0m \n\u001B[0;32m    242\u001B[0m \u001B[38;5;124;03mParameters\u001B[39;00m\n\u001B[1;32m   (...)\u001B[0m\n\u001B[0;32m    260\u001B[0m \u001B[38;5;124;03m    Returns the instance itself.\u001B[39;00m\n\u001B[0;32m    261\u001B[0m \u001B[38;5;124;03m\"\"\"\u001B[39;00m\n\u001B[0;32m    262\u001B[0m y \u001B[38;5;241m=\u001B[39m \u001B[38;5;28mself\u001B[39m\u001B[38;5;241m.\u001B[39m_validate_data(y\u001B[38;5;241m=\u001B[39my)\n\u001B[1;32m--> 263\u001B[0m \u001B[38;5;28;01mreturn\u001B[39;00m \u001B[38;5;28;43mself\u001B[39;49m\u001B[38;5;241;43m.\u001B[39;49m\u001B[43m_partial_fit\u001B[49m\u001B[43m(\u001B[49m\n\u001B[0;32m    264\u001B[0m \u001B[43m    \u001B[49m\u001B[43mX\u001B[49m\u001B[43m,\u001B[49m\u001B[43m \u001B[49m\u001B[43my\u001B[49m\u001B[43m,\u001B[49m\u001B[43m \u001B[49m\u001B[43mnp\u001B[49m\u001B[38;5;241;43m.\u001B[39;49m\u001B[43munique\u001B[49m\u001B[43m(\u001B[49m\u001B[43my\u001B[49m\u001B[43m)\u001B[49m\u001B[43m,\u001B[49m\u001B[43m \u001B[49m\u001B[43m_refit\u001B[49m\u001B[38;5;241;43m=\u001B[39;49m\u001B[38;5;28;43;01mTrue\u001B[39;49;00m\u001B[43m,\u001B[49m\u001B[43m \u001B[49m\u001B[43msample_weight\u001B[49m\u001B[38;5;241;43m=\u001B[39;49m\u001B[43msample_weight\u001B[49m\n\u001B[0;32m    265\u001B[0m \u001B[43m\u001B[49m\u001B[43m)\u001B[49m\n",
      "File \u001B[1;32m~\\PycharmProjects\\Lime-Enhancements\\venv\\lib\\site-packages\\sklearn\\naive_bayes.py:422\u001B[0m, in \u001B[0;36mGaussianNB._partial_fit\u001B[1;34m(self, X, y, classes, _refit, sample_weight)\u001B[0m\n\u001B[0;32m    419\u001B[0m \u001B[38;5;28;01mif\u001B[39;00m _refit:\n\u001B[0;32m    420\u001B[0m     \u001B[38;5;28mself\u001B[39m\u001B[38;5;241m.\u001B[39mclasses_ \u001B[38;5;241m=\u001B[39m \u001B[38;5;28;01mNone\u001B[39;00m\n\u001B[1;32m--> 422\u001B[0m first_call \u001B[38;5;241m=\u001B[39m \u001B[43m_check_partial_fit_first_call\u001B[49m\u001B[43m(\u001B[49m\u001B[38;5;28;43mself\u001B[39;49m\u001B[43m,\u001B[49m\u001B[43m \u001B[49m\u001B[43mclasses\u001B[49m\u001B[43m)\u001B[49m\n\u001B[0;32m    423\u001B[0m X, y \u001B[38;5;241m=\u001B[39m \u001B[38;5;28mself\u001B[39m\u001B[38;5;241m.\u001B[39m_validate_data(X, y, reset\u001B[38;5;241m=\u001B[39mfirst_call)\n\u001B[0;32m    424\u001B[0m \u001B[38;5;28;01mif\u001B[39;00m sample_weight \u001B[38;5;129;01mis\u001B[39;00m \u001B[38;5;129;01mnot\u001B[39;00m \u001B[38;5;28;01mNone\u001B[39;00m:\n",
      "File \u001B[1;32m~\\PycharmProjects\\Lime-Enhancements\\venv\\lib\\site-packages\\sklearn\\utils\\multiclass.py:422\u001B[0m, in \u001B[0;36m_check_partial_fit_first_call\u001B[1;34m(clf, classes)\u001B[0m\n\u001B[0;32m    415\u001B[0m             \u001B[38;5;28;01mraise\u001B[39;00m \u001B[38;5;167;01mValueError\u001B[39;00m(\n\u001B[0;32m    416\u001B[0m                 \u001B[38;5;124m\"\u001B[39m\u001B[38;5;124m`classes=\u001B[39m\u001B[38;5;132;01m%r\u001B[39;00m\u001B[38;5;124m` is not the same as on last call \u001B[39m\u001B[38;5;124m\"\u001B[39m\n\u001B[0;32m    417\u001B[0m                 \u001B[38;5;124m\"\u001B[39m\u001B[38;5;124mto partial_fit, was: \u001B[39m\u001B[38;5;132;01m%r\u001B[39;00m\u001B[38;5;124m\"\u001B[39m \u001B[38;5;241m%\u001B[39m (classes, clf\u001B[38;5;241m.\u001B[39mclasses_)\n\u001B[0;32m    418\u001B[0m             )\n\u001B[0;32m    420\u001B[0m     \u001B[38;5;28;01melse\u001B[39;00m:\n\u001B[0;32m    421\u001B[0m         \u001B[38;5;66;03m# This is the first call to partial_fit\u001B[39;00m\n\u001B[1;32m--> 422\u001B[0m         clf\u001B[38;5;241m.\u001B[39mclasses_ \u001B[38;5;241m=\u001B[39m \u001B[43munique_labels\u001B[49m\u001B[43m(\u001B[49m\u001B[43mclasses\u001B[49m\u001B[43m)\u001B[49m\n\u001B[0;32m    423\u001B[0m         \u001B[38;5;28;01mreturn\u001B[39;00m \u001B[38;5;28;01mTrue\u001B[39;00m\n\u001B[0;32m    425\u001B[0m \u001B[38;5;66;03m# classes is None and clf.classes_ has already previously been set:\u001B[39;00m\n\u001B[0;32m    426\u001B[0m \u001B[38;5;66;03m# nothing to do\u001B[39;00m\n",
      "File \u001B[1;32m~\\PycharmProjects\\Lime-Enhancements\\venv\\lib\\site-packages\\sklearn\\utils\\multiclass.py:105\u001B[0m, in \u001B[0;36munique_labels\u001B[1;34m(*ys)\u001B[0m\n\u001B[0;32m    103\u001B[0m _unique_labels \u001B[38;5;241m=\u001B[39m _FN_UNIQUE_LABELS\u001B[38;5;241m.\u001B[39mget(label_type, \u001B[38;5;28;01mNone\u001B[39;00m)\n\u001B[0;32m    104\u001B[0m \u001B[38;5;28;01mif\u001B[39;00m \u001B[38;5;129;01mnot\u001B[39;00m _unique_labels:\n\u001B[1;32m--> 105\u001B[0m     \u001B[38;5;28;01mraise\u001B[39;00m \u001B[38;5;167;01mValueError\u001B[39;00m(\u001B[38;5;124m\"\u001B[39m\u001B[38;5;124mUnknown label type: \u001B[39m\u001B[38;5;132;01m%s\u001B[39;00m\u001B[38;5;124m\"\u001B[39m \u001B[38;5;241m%\u001B[39m \u001B[38;5;28mrepr\u001B[39m(ys))\n\u001B[0;32m    107\u001B[0m \u001B[38;5;28;01mif\u001B[39;00m is_array_api_compliant:\n\u001B[0;32m    108\u001B[0m     \u001B[38;5;66;03m# array_api does not allow for mixed dtypes\u001B[39;00m\n\u001B[0;32m    109\u001B[0m     unique_ys \u001B[38;5;241m=\u001B[39m xp\u001B[38;5;241m.\u001B[39mconcat([_unique_labels(y) \u001B[38;5;28;01mfor\u001B[39;00m y \u001B[38;5;129;01min\u001B[39;00m ys])\n",
      "\u001B[1;31mValueError\u001B[0m: Unknown label type: (array([0.        , 0.25      , 0.33333333, 0.44444444, 0.5       ,\n       0.55555556, 0.625     , 0.66666667, 0.71428571, 0.75      ,\n       0.8       , 0.83333333, 0.875     , 1.        ]),)"
     ]
    }
   ],
   "source": [
    "exp_inst = explainer_lime.explain_instance(X_test[instance_no], model.predict_proba, num_features=5)"
   ]
  },
  {
   "cell_type": "code",
   "execution_count": null,
   "metadata": {},
   "outputs": [],
   "source": []
  }
 ],
 "metadata": {
  "kernelspec": {
   "display_name": "Python 3",
   "language": "python",
   "name": "python3"
  },
  "language_info": {
   "codemirror_mode": {
    "name": "ipython",
    "version": 3
   },
   "file_extension": ".py",
   "mimetype": "text/x-python",
   "name": "python",
   "nbconvert_exporter": "python",
   "pygments_lexer": "ipython3",
   "version": "3.11.4"
  }
 },
 "nbformat": 4,
 "nbformat_minor": 2
}
