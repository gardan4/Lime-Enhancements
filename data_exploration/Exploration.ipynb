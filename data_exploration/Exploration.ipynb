{
 "metadata": {
  "kernelspec": {
   "language": "python",
   "display_name": "Python 3",
   "name": "python3"
  },
  "language_info": {
   "pygments_lexer": "ipython3",
   "nbconvert_exporter": "python",
   "version": "3.6.4",
   "file_extension": ".py",
   "codemirror_mode": {
    "name": "ipython",
    "version": 3
   },
   "name": "python",
   "mimetype": "text/x-python"
  }
 },
 "nbformat_minor": 4,
 "nbformat": 4,
 "cells": [
  {
   "cell_type": "code",
   "source": [
    "import numpy as np\n",
    "import pandas as pd\n",
    "# import seaborn as sns\n",
    "import matplotlib.pyplot as plt\n",
    "from sklearn.model_selection import train_test_split\n",
    "from sklearn.tree import DecisionTreeClassifier\n",
    "from sklearn.metrics import accuracy_score, classification_report, confusion_matrix\n",
    "pd.set_option('display.max_columns', None)\n",
    "import warnings\n",
    "warnings.filterwarnings(action='ignore')"
   ],
   "metadata": {
    "_uuid": "2d9d047f-33b8-407f-bdb9-4d3c811dfb7e",
    "_cell_guid": "ca1e7f36-ec1d-4329-879e-f8acddc7b8cd",
    "collapsed": false,
    "jupyter": {
     "outputs_hidden": false
    },
    "execution": {
     "iopub.status.busy": "2023-07-10T12:29:43.497335Z",
     "iopub.execute_input": "2023-07-10T12:29:43.498105Z",
     "iopub.status.idle": "2023-07-10T12:29:45.609936Z",
     "shell.execute_reply.started": "2023-07-10T12:29:43.498065Z",
     "shell.execute_reply": "2023-07-10T12:29:45.609121Z"
    },
    "trusted": true,
    "ExecuteTime": {
     "end_time": "2023-12-01T15:16:04.788533400Z",
     "start_time": "2023-12-01T15:16:02.266487400Z"
    }
   },
   "execution_count": 1,
   "outputs": []
  },
  {
   "cell_type": "code",
   "source": [
    "compas = pd.read_csv(\"..\\\\data\\\\cox-violent-parsed.csv\")"
   ],
   "metadata": {
    "_uuid": "00ad1fdd-e486-4bdd-bb7e-acb829e19b1d",
    "_cell_guid": "b603939d-6fba-48f5-8333-f40382f8c84e",
    "collapsed": false,
    "jupyter": {
     "outputs_hidden": false
    },
    "execution": {
     "iopub.status.busy": "2023-07-10T12:29:45.611866Z",
     "iopub.execute_input": "2023-07-10T12:29:45.613093Z",
     "iopub.status.idle": "2023-07-10T12:29:45.96456Z",
     "shell.execute_reply.started": "2023-07-10T12:29:45.613051Z",
     "shell.execute_reply": "2023-07-10T12:29:45.957089Z"
    },
    "trusted": true,
    "ExecuteTime": {
     "end_time": "2023-12-01T15:30:49.313396300Z",
     "start_time": "2023-12-01T15:30:49.095978400Z"
    }
   },
   "execution_count": 6,
   "outputs": []
  },
  {
   "cell_type": "code",
   "source": [
    "compas.head()"
   ],
   "metadata": {
    "_uuid": "8c04cffd-a1d9-422f-a73f-a87782b63952",
    "_cell_guid": "4b6ccfcd-c9db-4c8c-bc3f-19271bf9af9d",
    "collapsed": false,
    "jupyter": {
     "outputs_hidden": false
    },
    "execution": {
     "iopub.status.busy": "2023-07-10T12:29:45.966126Z",
     "iopub.execute_input": "2023-07-10T12:29:45.966465Z",
     "iopub.status.idle": "2023-07-10T12:29:46.040883Z",
     "shell.execute_reply.started": "2023-07-10T12:29:45.966428Z",
     "shell.execute_reply": "2023-07-10T12:29:46.03957Z"
    },
    "trusted": true
   },
   "execution_count": null,
   "outputs": []
  },
  {
   "cell_type": "markdown",
   "source": [],
   "metadata": {
    "_uuid": "4a47b084-61bf-41a0-ba35-6adf56021719",
    "_cell_guid": "aaeaef34-2ea8-4d5f-8d02-cc42bdfba8b0",
    "trusted": true
   }
  },
  {
   "cell_type": "code",
   "source": [
    "compas[\"sex\"].replace({'Male': 1, 'Female': 0}, inplace=True)"
   ],
   "metadata": {
    "_uuid": "6900ddcb-4933-42bf-983f-4272d948b02c",
    "_cell_guid": "89eeee5b-d5c7-44d8-b7fb-dbabf9c4057c",
    "collapsed": false,
    "jupyter": {
     "outputs_hidden": false
    },
    "execution": {
     "iopub.status.busy": "2023-07-10T12:29:46.043519Z",
     "iopub.execute_input": "2023-07-10T12:29:46.04448Z",
     "iopub.status.idle": "2023-07-10T12:29:46.067836Z",
     "shell.execute_reply.started": "2023-07-10T12:29:46.04444Z",
     "shell.execute_reply": "2023-07-10T12:29:46.066912Z"
    },
    "trusted": true
   },
   "execution_count": null,
   "outputs": []
  },
  {
   "cell_type": "code",
   "source": [
    "compas.info()"
   ],
   "metadata": {
    "_uuid": "c3cb981f-6648-4031-9503-b9719179ef61",
    "_cell_guid": "5b7c8afd-0ba7-41cf-9f55-5f7ed9c93a39",
    "collapsed": false,
    "jupyter": {
     "outputs_hidden": false
    },
    "execution": {
     "iopub.status.busy": "2023-07-10T12:29:46.069142Z",
     "iopub.execute_input": "2023-07-10T12:29:46.070999Z",
     "iopub.status.idle": "2023-07-10T12:29:46.203419Z",
     "shell.execute_reply.started": "2023-07-10T12:29:46.070958Z",
     "shell.execute_reply": "2023-07-10T12:29:46.200903Z"
    },
    "trusted": true
   },
   "execution_count": null,
   "outputs": []
  },
  {
   "cell_type": "code",
   "source": [
    "compas = compas.drop(['last','first','out_custody','in_custody','c_offense_date','decile_score.1','priors_count.1','c_case_number','days_b_screening_arrest','start','end','event','screening_date','c_case_number','juv_other_count','juv_misd_count','juv_fel_count','r_days_from_arrest','id','r_charge_degree','r_offense_date', 'vr_case_number','r_case_number','r_jail_out','c_arrest_date','r_charge_desc','r_jail_in', 'violent_recid','vr_charge_degree','vr_offense_date','vr_charge_desc'], axis=1)"
   ],
   "metadata": {
    "_uuid": "81b4ec6e-67fc-4027-962b-47b1c8d96c39",
    "_cell_guid": "31aceba6-8644-482d-944a-d17282078ac4",
    "collapsed": false,
    "jupyter": {
     "outputs_hidden": false
    },
    "execution": {
     "iopub.status.busy": "2023-07-10T12:29:46.204566Z",
     "iopub.execute_input": "2023-07-10T12:29:46.205579Z",
     "iopub.status.idle": "2023-07-10T12:29:46.217565Z",
     "shell.execute_reply.started": "2023-07-10T12:29:46.205545Z",
     "shell.execute_reply": "2023-07-10T12:29:46.216307Z"
    },
    "trusted": true
   },
   "execution_count": null,
   "outputs": []
  },
  {
   "cell_type": "code",
   "source": [
    "compas['c_jail_in'] = pd.to_datetime(compas['c_jail_in'])\n",
    "compas['c_jail_out'] = pd.to_datetime(compas['c_jail_out'])\n",
    "compas['days_in_jail'] = abs((compas['c_jail_out'] - compas['c_jail_in']).dt.days)"
   ],
   "metadata": {
    "_uuid": "507a8d32-e489-4c0c-ba9a-8ca1659d0010",
    "_cell_guid": "e1ee0fb4-181e-4927-ac0b-cce29a700d61",
    "collapsed": false,
    "jupyter": {
     "outputs_hidden": false
    },
    "execution": {
     "iopub.status.busy": "2023-07-10T12:29:46.219007Z",
     "iopub.execute_input": "2023-07-10T12:29:46.219357Z",
     "iopub.status.idle": "2023-07-10T12:29:48.17365Z",
     "shell.execute_reply.started": "2023-07-10T12:29:46.219321Z",
     "shell.execute_reply": "2023-07-10T12:29:48.172882Z"
    },
    "trusted": true
   },
   "execution_count": null,
   "outputs": []
  },
  {
   "cell_type": "code",
   "source": [
    "compas.head()"
   ],
   "metadata": {
    "_uuid": "21591df6-4600-4bf4-9e62-92b7b1581058",
    "_cell_guid": "1b7989cc-1b50-43fb-97f9-7eb351e0efe2",
    "collapsed": false,
    "jupyter": {
     "outputs_hidden": false
    },
    "execution": {
     "iopub.status.busy": "2023-07-10T12:29:48.175397Z",
     "iopub.execute_input": "2023-07-10T12:29:48.176091Z",
     "iopub.status.idle": "2023-07-10T12:29:48.199625Z",
     "shell.execute_reply.started": "2023-07-10T12:29:48.17605Z",
     "shell.execute_reply": "2023-07-10T12:29:48.198662Z"
    },
    "trusted": true
   },
   "execution_count": null,
   "outputs": []
  },
  {
   "cell_type": "code",
   "source": [
    "compas.info()"
   ],
   "metadata": {
    "_uuid": "b73ca863-a0a3-42d8-9dfe-e0f65a015ed7",
    "_cell_guid": "51d5744c-64d9-4b28-baf4-14a6a658273e",
    "collapsed": false,
    "jupyter": {
     "outputs_hidden": false
    },
    "execution": {
     "iopub.status.busy": "2023-07-10T12:29:48.201412Z",
     "iopub.execute_input": "2023-07-10T12:29:48.202292Z",
     "iopub.status.idle": "2023-07-10T12:29:48.286871Z",
     "shell.execute_reply.started": "2023-07-10T12:29:48.202243Z",
     "shell.execute_reply": "2023-07-10T12:29:48.285518Z"
    },
    "trusted": true
   },
   "execution_count": null,
   "outputs": []
  },
  {
   "cell_type": "code",
   "source": [
    "#fill numeric columns with mean\n",
    "for col in compas.columns:\n",
    "    if compas[col].dtype == \"object\":\n",
    "        compas[col] = compas[col].fillna(\"UNKNOWN\")\n",
    "    else:\n",
    "        compas[col] = compas[col].fillna(compas[col].mean())\n",
    "# compas.info()"
   ],
   "metadata": {
    "_uuid": "97a935f3-1ea0-4364-80e9-45dc0a27965c",
    "_cell_guid": "c35e9eb4-e1c5-44b5-9a51-95ed8c58f0ba",
    "collapsed": false,
    "jupyter": {
     "outputs_hidden": false
    },
    "execution": {
     "iopub.status.busy": "2023-07-10T12:29:48.291738Z",
     "iopub.execute_input": "2023-07-10T12:29:48.292113Z",
     "iopub.status.idle": "2023-07-10T12:29:49.074375Z",
     "shell.execute_reply.started": "2023-07-10T12:29:48.292084Z",
     "shell.execute_reply": "2023-07-10T12:29:49.073346Z"
    },
    "trusted": true
   },
   "execution_count": null,
   "outputs": []
  },
  {
   "cell_type": "markdown",
   "source": [
    "**EDA**\n",
    "\n",
    "After making the appropriate corrections and keeping the columns that interest us the most, we are going to make an exploratory analysis of the data"
   ],
   "metadata": {
    "_uuid": "dea91bae-529b-4232-b4a9-6f9dcf092869",
    "_cell_guid": "1da7ceeb-99bf-49fe-a0ce-cfa5b2905143",
    "trusted": true
   }
  },
  {
   "cell_type": "code",
   "execution_count": 3,
   "outputs": [
    {
     "ename": "NameError",
     "evalue": "name 'compas' is not defined",
     "output_type": "error",
     "traceback": [
      "\u001B[1;31m---------------------------------------------------------------------------\u001B[0m",
      "\u001B[1;31mNameError\u001B[0m                                 Traceback (most recent call last)",
      "Cell \u001B[1;32mIn[3], line 2\u001B[0m\n\u001B[0;32m      1\u001B[0m \u001B[38;5;66;03m#print data types\u001B[39;00m\n\u001B[1;32m----> 2\u001B[0m \u001B[43mcompas\u001B[49m\u001B[38;5;241m.\u001B[39mdtypes\n",
      "\u001B[1;31mNameError\u001B[0m: name 'compas' is not defined"
     ]
    }
   ],
   "source": [
    "#print data types\n",
    "compas.dtypes"
   ],
   "metadata": {
    "collapsed": false,
    "ExecuteTime": {
     "end_time": "2023-12-01T15:16:07.163292700Z",
     "start_time": "2023-12-01T15:16:07.111427700Z"
    }
   }
  },
  {
   "cell_type": "code",
   "source": [
    "compas.describe().T"
   ],
   "metadata": {
    "_uuid": "63a39068-4686-48d8-9aed-8170942772d3",
    "_cell_guid": "bc8c63b7-515c-4d13-9557-03c9de3bf32c",
    "collapsed": false,
    "jupyter": {
     "outputs_hidden": false
    },
    "execution": {
     "iopub.status.busy": "2023-07-10T12:29:49.075832Z",
     "iopub.execute_input": "2023-07-10T12:29:49.076207Z",
     "iopub.status.idle": "2023-07-10T12:29:49.125607Z",
     "shell.execute_reply.started": "2023-07-10T12:29:49.076178Z",
     "shell.execute_reply": "2023-07-10T12:29:49.124586Z"
    },
    "trusted": true,
    "ExecuteTime": {
     "end_time": "2023-12-01T15:16:07.851732100Z",
     "start_time": "2023-12-01T15:16:07.799872100Z"
    }
   },
   "execution_count": 4,
   "outputs": [
    {
     "ename": "NameError",
     "evalue": "name 'compas' is not defined",
     "output_type": "error",
     "traceback": [
      "\u001B[1;31m---------------------------------------------------------------------------\u001B[0m",
      "\u001B[1;31mNameError\u001B[0m                                 Traceback (most recent call last)",
      "Cell \u001B[1;32mIn[4], line 1\u001B[0m\n\u001B[1;32m----> 1\u001B[0m \u001B[43mcompas\u001B[49m\u001B[38;5;241m.\u001B[39mdescribe()\u001B[38;5;241m.\u001B[39mT\n",
      "\u001B[1;31mNameError\u001B[0m: name 'compas' is not defined"
     ]
    }
   ]
  },
  {
   "cell_type": "code",
   "source": [
    "compas.describe(include=[\"object\",\"category\"]).T"
   ],
   "metadata": {
    "_uuid": "b72c3448-fdd6-4bbf-a6cc-96f0d02087b1",
    "_cell_guid": "8f4ffdb3-70c9-4d2a-8172-d1d4ef2193bd",
    "collapsed": false,
    "jupyter": {
     "outputs_hidden": false
    },
    "execution": {
     "iopub.status.busy": "2023-07-10T12:29:49.126711Z",
     "iopub.execute_input": "2023-07-10T12:29:49.127005Z",
     "iopub.status.idle": "2023-07-10T12:29:49.202474Z",
     "shell.execute_reply.started": "2023-07-10T12:29:49.126981Z",
     "shell.execute_reply": "2023-07-10T12:29:49.201248Z"
    },
    "trusted": true,
    "ExecuteTime": {
     "end_time": "2023-11-14T14:52:41.727322300Z",
     "start_time": "2023-11-14T14:52:41.617729600Z"
    }
   },
   "execution_count": 98,
   "outputs": [
    {
     "data": {
      "text/plain": "                       count unique                    top   freq\nname                   18316  10855           brandon ross     13\ncompas_screening_date  18316    703             20/03/2013     72\ndob                    18316   7485             21/11/1991     21\nage_cat                18316      3                25 - 45  10372\nrace                   18316      6       African-American   9791\nc_charge_degree        18316     15                   (F3)  10294\nc_charge_desc          18316    514  arrest case no charge   3085\ntype_of_assessment     18316      1     Risk of Recidivism  18316\nscore_text             18316      4                    Low   8597\nv_type_of_assessment   18316      1       Risk of Violence  18316\nv_score_text           18316      4                    Low  11147\nv_screening_date       18316    703             20/03/2013     72",
      "text/html": "<div>\n<style scoped>\n    .dataframe tbody tr th:only-of-type {\n        vertical-align: middle;\n    }\n\n    .dataframe tbody tr th {\n        vertical-align: top;\n    }\n\n    .dataframe thead th {\n        text-align: right;\n    }\n</style>\n<table border=\"1\" class=\"dataframe\">\n  <thead>\n    <tr style=\"text-align: right;\">\n      <th></th>\n      <th>count</th>\n      <th>unique</th>\n      <th>top</th>\n      <th>freq</th>\n    </tr>\n  </thead>\n  <tbody>\n    <tr>\n      <th>name</th>\n      <td>18316</td>\n      <td>10855</td>\n      <td>brandon ross</td>\n      <td>13</td>\n    </tr>\n    <tr>\n      <th>compas_screening_date</th>\n      <td>18316</td>\n      <td>703</td>\n      <td>20/03/2013</td>\n      <td>72</td>\n    </tr>\n    <tr>\n      <th>dob</th>\n      <td>18316</td>\n      <td>7485</td>\n      <td>21/11/1991</td>\n      <td>21</td>\n    </tr>\n    <tr>\n      <th>age_cat</th>\n      <td>18316</td>\n      <td>3</td>\n      <td>25 - 45</td>\n      <td>10372</td>\n    </tr>\n    <tr>\n      <th>race</th>\n      <td>18316</td>\n      <td>6</td>\n      <td>African-American</td>\n      <td>9791</td>\n    </tr>\n    <tr>\n      <th>c_charge_degree</th>\n      <td>18316</td>\n      <td>15</td>\n      <td>(F3)</td>\n      <td>10294</td>\n    </tr>\n    <tr>\n      <th>c_charge_desc</th>\n      <td>18316</td>\n      <td>514</td>\n      <td>arrest case no charge</td>\n      <td>3085</td>\n    </tr>\n    <tr>\n      <th>type_of_assessment</th>\n      <td>18316</td>\n      <td>1</td>\n      <td>Risk of Recidivism</td>\n      <td>18316</td>\n    </tr>\n    <tr>\n      <th>score_text</th>\n      <td>18316</td>\n      <td>4</td>\n      <td>Low</td>\n      <td>8597</td>\n    </tr>\n    <tr>\n      <th>v_type_of_assessment</th>\n      <td>18316</td>\n      <td>1</td>\n      <td>Risk of Violence</td>\n      <td>18316</td>\n    </tr>\n    <tr>\n      <th>v_score_text</th>\n      <td>18316</td>\n      <td>4</td>\n      <td>Low</td>\n      <td>11147</td>\n    </tr>\n    <tr>\n      <th>v_screening_date</th>\n      <td>18316</td>\n      <td>703</td>\n      <td>20/03/2013</td>\n      <td>72</td>\n    </tr>\n  </tbody>\n</table>\n</div>"
     },
     "execution_count": 98,
     "metadata": {},
     "output_type": "execute_result"
    }
   ]
  },
  {
   "cell_type": "code",
   "source": [
    "plt.figure(figsize=(8,5))\n",
    "sns.countplot(data=compas,x=\"sex\",hue=\"age_cat\",palette=\"Blues_r\")\n",
    "plt.title(\"Number of cases by sex and age\")\n",
    "plt.xlabel(\"\")\n",
    "# so only the graphic appears without any text referring to the object type.\n",
    "plt.show(block=False)"
   ],
   "metadata": {
    "_uuid": "ce1fc0e0-678f-42c5-a7a4-a509b1c0c9a9",
    "_cell_guid": "63a48c4f-9010-40c5-aa5a-7bfe5a8bfa78",
    "collapsed": false,
    "jupyter": {
     "outputs_hidden": false
    },
    "execution": {
     "iopub.status.busy": "2023-07-10T12:29:49.204237Z",
     "iopub.execute_input": "2023-07-10T12:29:49.204645Z",
     "iopub.status.idle": "2023-07-10T12:29:49.546289Z",
     "shell.execute_reply.started": "2023-07-10T12:29:49.204607Z",
     "shell.execute_reply": "2023-07-10T12:29:49.545217Z"
    },
    "trusted": true,
    "ExecuteTime": {
     "end_time": "2023-11-14T14:52:41.875167Z",
     "start_time": "2023-11-14T14:52:41.648410300Z"
    }
   },
   "execution_count": 99,
   "outputs": [
    {
     "data": {
      "text/plain": "<Figure size 800x500 with 1 Axes>",
      "image/png": "[encoded data removed]"
     },
     "metadata": {},
     "output_type": "display_data"
    }
   ]
  },
  {
   "cell_type": "code",
   "source": [
    "decile_mean_age = compas.groupby(\"age_cat\")[\"decile_score\"].mean().reset_index()\n",
    "sns.barplot(data=decile_mean_age,x=\"age_cat\",y=\"decile_score\",palette=\"Blues_r\")\n",
    "plt.ylabel(\"Decile score mean\")\n",
    "plt.xlabel(\"\")\n",
    "plt.title(\"Mean decile score by age range\")\n",
    "# so only the graphic appears without any text referring to the object type.\n",
    "plt.show(block=False)"
   ],
   "metadata": {
    "_uuid": "a8b7c133-c334-448a-bbd7-b08110aa8abf",
    "_cell_guid": "81dd5fc8-3f05-4bbf-b2db-cbe40597a5e1",
    "collapsed": false,
    "jupyter": {
     "outputs_hidden": false
    },
    "execution": {
     "iopub.status.busy": "2023-07-10T12:29:49.547936Z",
     "iopub.execute_input": "2023-07-10T12:29:49.548345Z",
     "iopub.status.idle": "2023-07-10T12:29:49.779796Z",
     "shell.execute_reply.started": "2023-07-10T12:29:49.548306Z",
     "shell.execute_reply": "2023-07-10T12:29:49.778769Z"
    },
    "trusted": true,
    "ExecuteTime": {
     "end_time": "2023-11-14T14:52:41.982640Z",
     "start_time": "2023-11-14T14:52:41.795071Z"
    }
   },
   "execution_count": 100,
   "outputs": [
    {
     "data": {
      "text/plain": "<Figure size 640x480 with 1 Axes>",
      "image/png": "[encoded data removed]"
     },
     "metadata": {},
     "output_type": "display_data"
    }
   ]
  },
  {
   "cell_type": "code",
   "source": [
    "compas2 = compas.groupby([\"sex\",\"age_cat\"])[\"is_recid\"].mean().reset_index()\n",
    "\n",
    "plt.figure(figsize=(7,4))\n",
    "\n",
    "\n",
    "sns.barplot(x=compas2[\"age_cat\"],y=compas2[\"is_recid\"] ,hue=compas2[\"sex\"].astype(str),palette=\"Blues_r\")\n",
    "\n",
    "plt.title(\"Mean recidivism by age and sex\")\n",
    "plt.xlabel(\"\")\n",
    "plt.ylabel(\"recidivism rate\")\n",
    "plt.axhline(y=0.34,color=\"red\")\n",
    "plt.text(x=1.93,y=0.32,s=\"is_recid,s mean\")\n",
    "# so only the graphic appears without any text referring to the object type.\n",
    "plt.show(block=False)"
   ],
   "metadata": {
    "_uuid": "7c305646-fd54-4b6a-9e5f-ad61b50216eb",
    "_cell_guid": "547abf77-cd0d-450d-865e-639536c0b23e",
    "collapsed": false,
    "jupyter": {
     "outputs_hidden": false
    },
    "execution": {
     "iopub.status.busy": "2023-07-10T12:29:49.781156Z",
     "iopub.execute_input": "2023-07-10T12:29:49.781476Z",
     "iopub.status.idle": "2023-07-10T12:29:50.059662Z",
     "shell.execute_reply.started": "2023-07-10T12:29:49.781449Z",
     "shell.execute_reply": "2023-07-10T12:29:50.058687Z"
    },
    "trusted": true,
    "ExecuteTime": {
     "end_time": "2023-11-14T14:52:42.078634Z",
     "start_time": "2023-11-14T14:52:41.896644700Z"
    }
   },
   "execution_count": 101,
   "outputs": [
    {
     "data": {
      "text/plain": "<Figure size 700x400 with 1 Axes>",
      "image/png": "[encoded data removed]"
     },
     "metadata": {},
     "output_type": "display_data"
    }
   ]
  },
  {
   "cell_type": "code",
   "source": [
    "compas3 = compas[\"race\"].value_counts(normalize=True,ascending=False).reset_index()\n",
    "\n",
    "plt.figure(figsize=(8,4))\n",
    "sns.barplot(x=compas3.index,y=compas3[\"race\"],palette=\"Blues_r\")\n",
    "plt.xticks(rotation=45)\n",
    "plt.xlabel(\"\")\n",
    "plt.ylabel(\"percentage of cases\")\n",
    "plt.title(\"Percentage of cases by race\")\n",
    "# so only the graphic appears without any text referring to the object type.\n",
    "plt.show(block=False)"
   ],
   "metadata": {
    "_uuid": "0f3ad7cf-94a9-4d4a-bbf9-e045bb35821e",
    "_cell_guid": "d815f3de-85c5-4d9d-9bd5-c0508bc6d5be",
    "collapsed": false,
    "jupyter": {
     "outputs_hidden": false
    },
    "execution": {
     "iopub.status.busy": "2023-07-10T12:29:50.061063Z",
     "iopub.execute_input": "2023-07-10T12:29:50.061383Z",
     "iopub.status.idle": "2023-07-10T12:29:50.32789Z",
     "shell.execute_reply.started": "2023-07-10T12:29:50.061355Z",
     "shell.execute_reply": "2023-07-10T12:29:50.326748Z"
    },
    "trusted": true,
    "ExecuteTime": {
     "end_time": "2023-11-14T14:52:42.169084900Z",
     "start_time": "2023-11-14T14:52:42.039322700Z"
    }
   },
   "execution_count": 102,
   "outputs": [
    {
     "data": {
      "text/plain": "<Figure size 800x400 with 1 Axes>",
      "image/png": "[encoded data removed]"
     },
     "metadata": {},
     "output_type": "display_data"
    }
   ]
  },
  {
   "cell_type": "code",
   "source": [
    "#get all numeric columns fro compass\n",
    "compas_numeric = compas.select_dtypes(include=[\"int64\",\"float64\"])\n",
    "#corr matrix\n",
    "corr_matrix = compas_numeric.corr()\n",
    "sns.heatmap(corr_matrix, annot=True)\n",
    "plt.show"
   ],
   "metadata": {
    "_uuid": "84cf3c97-6e7e-4ef4-8153-31046a0ab8e6",
    "_cell_guid": "a86afb25-99db-459e-884c-7614b4254f1f",
    "collapsed": false,
    "jupyter": {
     "outputs_hidden": false
    },
    "execution": {
     "iopub.status.busy": "2023-07-10T12:29:50.329253Z",
     "iopub.execute_input": "2023-07-10T12:29:50.329647Z",
     "iopub.status.idle": "2023-07-10T12:29:50.965439Z",
     "shell.execute_reply.started": "2023-07-10T12:29:50.329616Z",
     "shell.execute_reply": "2023-07-10T12:29:50.964675Z"
    },
    "trusted": true,
    "ExecuteTime": {
     "end_time": "2023-11-14T14:52:42.434496100Z",
     "start_time": "2023-11-14T14:52:42.168081100Z"
    }
   },
   "execution_count": 103,
   "outputs": [
    {
     "data": {
      "text/plain": "<function matplotlib.pyplot.show(close=None, block=None)>"
     },
     "execution_count": 103,
     "metadata": {},
     "output_type": "execute_result"
    },
    {
     "data": {
      "text/plain": "<Figure size 640x480 with 2 Axes>",
      "image/png": "[encoded data removed]"
     },
     "metadata": {},
     "output_type": "display_data"
    }
   ]
  },
  {
   "cell_type": "markdown",
   "source": [
    "**SPLITTING DATA**"
   ],
   "metadata": {
    "_uuid": "521b6a8e-a821-48d5-9dea-1c3c5f9dd3eb",
    "_cell_guid": "f90eff47-d0eb-42f9-b224-7c9f25978a94",
    "trusted": true
   }
  },
  {
   "cell_type": "code",
   "source": [
    "X = compas[['days_in_jail', 'age', 'sex', 'decile_score', 'priors_count', 'c_days_from_compas', 'is_violent_recid', 'v_decile_score']]\n",
    "y = compas['is_recid']"
   ],
   "metadata": {
    "_uuid": "a354556e-e92b-495f-861e-8c954a340c0e",
    "_cell_guid": "1bf0381b-2ef0-416b-8323-392c8b47082c",
    "collapsed": false,
    "jupyter": {
     "outputs_hidden": false
    },
    "execution": {
     "iopub.status.busy": "2023-07-10T12:29:50.966782Z",
     "iopub.execute_input": "2023-07-10T12:29:50.967472Z",
     "iopub.status.idle": "2023-07-10T12:29:50.977973Z",
     "shell.execute_reply.started": "2023-07-10T12:29:50.967434Z",
     "shell.execute_reply": "2023-07-10T12:29:50.974841Z"
    },
    "trusted": true,
    "ExecuteTime": {
     "end_time": "2023-11-14T14:52:42.437635700Z",
     "start_time": "2023-11-14T14:52:42.435494Z"
    }
   },
   "execution_count": 104,
   "outputs": []
  },
  {
   "cell_type": "code",
   "source": [
    "X_train, X_test, y_train, y_test = train_test_split(X, y, test_size=0.3, random_state=42)"
   ],
   "metadata": {
    "_uuid": "0885c325-979a-49db-b871-18fcb6f35087",
    "_cell_guid": "c0b7e308-f391-48cc-afbf-af776586b530",
    "collapsed": false,
    "jupyter": {
     "outputs_hidden": false
    },
    "execution": {
     "iopub.status.busy": "2023-07-10T12:29:50.979096Z",
     "iopub.execute_input": "2023-07-10T12:29:50.979557Z",
     "iopub.status.idle": "2023-07-10T12:29:50.995366Z",
     "shell.execute_reply.started": "2023-07-10T12:29:50.979516Z",
     "shell.execute_reply": "2023-07-10T12:29:50.99415Z"
    },
    "trusted": true,
    "ExecuteTime": {
     "end_time": "2023-11-14T14:52:42.444340400Z",
     "start_time": "2023-11-14T14:52:42.438628100Z"
    }
   },
   "execution_count": 105,
   "outputs": []
  },
  {
   "cell_type": "markdown",
   "source": [
    "**TRAINING THE MODEL WITH SEX IN THE DATASET**"
   ],
   "metadata": {
    "_uuid": "5fb83681-1d3d-45e3-8408-b2367571193f",
    "_cell_guid": "38adcac6-7962-4466-ac41-b47f9fd10f02",
    "trusted": true
   }
  },
  {
   "cell_type": "code",
   "source": [
    "# Initialize the decision tree classifier\n",
    "dtree = DecisionTreeClassifier()\n",
    "\n",
    "# Fit the model to the training data\n",
    "dtree.fit(X_train, y_train)\n",
    "\n",
    "# Make predictions on the test set\n",
    "y_pred = dtree.predict(X_test)\n",
    "\n",
    "# Calculate the accuracy score\n",
    "accuracy = accuracy_score(y_test, y_pred)\n",
    "print(f\"Accuracy: {accuracy}\")\n",
    "\n",
    "# Print the classification report\n",
    "report = classification_report(y_test, y_pred)\n",
    "print(f\"Classification report:\\n{report}\")"
   ],
   "metadata": {
    "_uuid": "e7e3a8fd-5a57-4af2-8e69-1f9233b3bad3",
    "_cell_guid": "60e07e67-d74f-4899-b7fb-524456aeab97",
    "collapsed": false,
    "jupyter": {
     "outputs_hidden": false
    },
    "execution": {
     "iopub.status.busy": "2023-07-10T12:29:50.997067Z",
     "iopub.execute_input": "2023-07-10T12:29:50.997513Z",
     "iopub.status.idle": "2023-07-10T12:29:51.077205Z",
     "shell.execute_reply.started": "2023-07-10T12:29:50.997472Z",
     "shell.execute_reply": "2023-07-10T12:29:51.076044Z"
    },
    "trusted": true,
    "ExecuteTime": {
     "end_time": "2023-11-14T14:52:42.506578100Z",
     "start_time": "2023-11-14T14:52:42.447911400Z"
    }
   },
   "execution_count": 106,
   "outputs": [
    {
     "name": "stdout",
     "output_type": "stream",
     "text": [
      "Accuracy: 0.8649681528662421\n",
      "Classification report:\n",
      "              precision    recall  f1-score   support\n",
      "\n",
      "          -1       0.97      0.99      0.98       225\n",
      "           0       0.88      0.84      0.86      2714\n",
      "           1       0.84      0.88      0.86      2556\n",
      "\n",
      "    accuracy                           0.86      5495\n",
      "   macro avg       0.90      0.90      0.90      5495\n",
      "weighted avg       0.87      0.86      0.86      5495\n",
      "\n"
     ]
    }
   ]
  },
  {
   "cell_type": "code",
   "source": [
    "cm = confusion_matrix(y_test, y_pred)\n",
    "\n",
    "# Visualize the confusion matrix using seaborn\n",
    "sns.heatmap(cm, annot=True, fmt='d', cmap='Blues', cbar=False)\n",
    "plt.xlabel('Predicted')\n",
    "plt.ylabel('True')\n",
    "plt.show()"
   ],
   "metadata": {
    "_uuid": "18016c8b-a4bf-4704-8665-b3dd72274c68",
    "_cell_guid": "2e7813aa-b837-4f60-96e5-01852d4501d7",
    "collapsed": false,
    "jupyter": {
     "outputs_hidden": false
    },
    "execution": {
     "iopub.status.busy": "2023-07-10T12:29:51.078362Z",
     "iopub.execute_input": "2023-07-10T12:29:51.078786Z",
     "iopub.status.idle": "2023-07-10T12:29:51.261561Z",
     "shell.execute_reply.started": "2023-07-10T12:29:51.078746Z",
     "shell.execute_reply": "2023-07-10T12:29:51.260438Z"
    },
    "trusted": true,
    "ExecuteTime": {
     "end_time": "2023-11-14T14:52:42.583648300Z",
     "start_time": "2023-11-14T14:52:42.483521800Z"
    }
   },
   "execution_count": 107,
   "outputs": [
    {
     "data": {
      "text/plain": "<Figure size 640x480 with 1 Axes>",
      "image/png": "[encoded data removed]"
     },
     "metadata": {},
     "output_type": "display_data"
    }
   ]
  },
  {
   "cell_type": "markdown",
   "source": [
    "**TRAINING THE MODEL GENDER UNAWARE**"
   ],
   "metadata": {
    "_uuid": "bd23e703-d781-4822-bacc-6928cfe0fac3",
    "_cell_guid": "7cfef094-54b9-40be-a2cd-ae1015541a17",
    "trusted": true
   }
  },
  {
   "cell_type": "code",
   "source": [
    "X = compas[['days_in_jail', 'age', 'decile_score', 'priors_count', 'c_days_from_compas', 'is_violent_recid', 'v_decile_score']]\n",
    "y = compas['is_recid']"
   ],
   "metadata": {
    "_uuid": "950a668f-74c6-4f62-b3ac-774a226e8cbb",
    "_cell_guid": "ca249674-fafa-4409-b293-888e44335f44",
    "collapsed": false,
    "jupyter": {
     "outputs_hidden": false
    },
    "execution": {
     "iopub.status.busy": "2023-07-10T12:29:51.262995Z",
     "iopub.execute_input": "2023-07-10T12:29:51.263627Z",
     "iopub.status.idle": "2023-07-10T12:29:51.270233Z",
     "shell.execute_reply.started": "2023-07-10T12:29:51.263587Z",
     "shell.execute_reply": "2023-07-10T12:29:51.269272Z"
    },
    "trusted": true,
    "ExecuteTime": {
     "end_time": "2023-11-14T14:52:42.583648300Z",
     "start_time": "2023-11-14T14:52:42.579648400Z"
    }
   },
   "execution_count": 108,
   "outputs": []
  },
  {
   "cell_type": "code",
   "source": [
    "X_train, X_test, y_train, y_test = train_test_split(X, y, test_size=0.3, random_state=42)"
   ],
   "metadata": {
    "_uuid": "a66c517d-e2fe-4895-94b5-7388b25113d4",
    "_cell_guid": "b3741a7e-d6cc-47d6-a331-6ef1cf58d527",
    "collapsed": false,
    "jupyter": {
     "outputs_hidden": false
    },
    "execution": {
     "iopub.status.busy": "2023-07-10T12:29:51.271599Z",
     "iopub.execute_input": "2023-07-10T12:29:51.271925Z",
     "iopub.status.idle": "2023-07-10T12:29:51.289226Z",
     "shell.execute_reply.started": "2023-07-10T12:29:51.271898Z",
     "shell.execute_reply": "2023-07-10T12:29:51.288022Z"
    },
    "trusted": true,
    "ExecuteTime": {
     "end_time": "2023-11-14T14:52:42.584648200Z",
     "start_time": "2023-11-14T14:52:42.579648400Z"
    }
   },
   "execution_count": 109,
   "outputs": []
  },
  {
   "cell_type": "code",
   "source": [
    "# Initialize the decision tree classifier\n",
    "dtree = DecisionTreeClassifier()\n",
    "\n",
    "# Fit the model to the training data\n",
    "dtree.fit(X_train, y_train)\n",
    "\n",
    "# Make predictions on the test set\n",
    "y_pred = dtree.predict(X_test)\n",
    "\n",
    "# Calculate the accuracy score\n",
    "accuracy = accuracy_score(y_test, y_pred)\n",
    "print(f\"Accuracy: {accuracy}\")\n",
    "\n",
    "# Print the classification report\n",
    "report = classification_report(y_test, y_pred)\n",
    "print(f\"Classification report:\\n{report}\")"
   ],
   "metadata": {
    "_uuid": "ec0911ab-437b-4c19-b877-a13a13052d75",
    "_cell_guid": "8ee329f8-2ba3-4bdf-82c4-5508862be647",
    "collapsed": false,
    "jupyter": {
     "outputs_hidden": false
    },
    "execution": {
     "iopub.status.busy": "2023-07-10T12:29:51.291282Z",
     "iopub.execute_input": "2023-07-10T12:29:51.291638Z",
     "iopub.status.idle": "2023-07-10T12:29:51.366471Z",
     "shell.execute_reply.started": "2023-07-10T12:29:51.291607Z",
     "shell.execute_reply": "2023-07-10T12:29:51.365725Z"
    },
    "trusted": true,
    "ExecuteTime": {
     "end_time": "2023-11-14T14:52:42.610258700Z",
     "start_time": "2023-11-14T14:52:42.579648400Z"
    }
   },
   "execution_count": 110,
   "outputs": [
    {
     "name": "stdout",
     "output_type": "stream",
     "text": [
      "Accuracy: 0.8616924476797089\n",
      "Classification report:\n",
      "              precision    recall  f1-score   support\n",
      "\n",
      "          -1       0.97      0.99      0.98       225\n",
      "           0       0.88      0.84      0.86      2714\n",
      "           1       0.84      0.87      0.86      2556\n",
      "\n",
      "    accuracy                           0.86      5495\n",
      "   macro avg       0.89      0.90      0.90      5495\n",
      "weighted avg       0.86      0.86      0.86      5495\n",
      "\n"
     ]
    }
   ]
  },
  {
   "cell_type": "code",
   "source": [
    "cm = confusion_matrix(y_test, y_pred)\n",
    "\n",
    "# Visualize the confusion matrix using seaborn\n",
    "sns.heatmap(cm, annot=True, fmt='d', cmap='Blues', cbar=False)\n",
    "plt.xlabel('Predicted')\n",
    "plt.ylabel('True')\n",
    "plt.show()"
   ],
   "metadata": {
    "_uuid": "f307381b-046f-42b9-8fa9-0a5b9313d887",
    "_cell_guid": "7e43f52b-bce9-433e-9dd6-e579f51108eb",
    "collapsed": false,
    "jupyter": {
     "outputs_hidden": false
    },
    "execution": {
     "iopub.status.busy": "2023-07-10T12:29:51.367591Z",
     "iopub.execute_input": "2023-07-10T12:29:51.368432Z",
     "iopub.status.idle": "2023-07-10T12:29:51.553691Z",
     "shell.execute_reply.started": "2023-07-10T12:29:51.368399Z",
     "shell.execute_reply": "2023-07-10T12:29:51.552659Z"
    },
    "trusted": true,
    "ExecuteTime": {
     "end_time": "2023-11-14T14:52:42.690902400Z",
     "start_time": "2023-11-14T14:52:42.611227200Z"
    }
   },
   "execution_count": 111,
   "outputs": [
    {
     "data": {
      "text/plain": "<Figure size 640x480 with 1 Axes>",
      "image/png": "[encoded data removed]"
     },
     "metadata": {},
     "output_type": "display_data"
    }
   ]
  },
  {
   "cell_type": "markdown",
   "source": [
    "**TRAINING THE MODEL FOR MALE AND FEMALE**"
   ],
   "metadata": {
    "_uuid": "00cdb919-0dd2-4fc5-bc33-75e7ce89b5a2",
    "_cell_guid": "8e3f49e9-5b08-4509-8ced-04343aae59c6",
    "trusted": true
   }
  },
  {
   "cell_type": "markdown",
   "source": [],
   "metadata": {
    "_uuid": "fed1c8ba-bcb2-494c-bafb-9b4beb97cc85",
    "_cell_guid": "496f6d45-4dec-4193-950c-a2177a7edd3d",
    "trusted": true
   }
  },
  {
   "cell_type": "code",
   "source": [
    "X = compas[['days_in_jail', 'sex', 'age', 'decile_score', 'priors_count', 'c_days_from_compas', 'is_violent_recid', 'v_decile_score']]\n",
    "y = compas['is_recid']"
   ],
   "metadata": {
    "_uuid": "23ad5eaf-74cf-4c94-b291-38e1040909a0",
    "_cell_guid": "f7216afc-433f-42e2-b14c-5856facfef9d",
    "collapsed": false,
    "jupyter": {
     "outputs_hidden": false
    },
    "execution": {
     "iopub.status.busy": "2023-07-10T12:29:51.555262Z",
     "iopub.execute_input": "2023-07-10T12:29:51.556328Z",
     "iopub.status.idle": "2023-07-10T12:29:51.563991Z",
     "shell.execute_reply.started": "2023-07-10T12:29:51.556287Z",
     "shell.execute_reply": "2023-07-10T12:29:51.5626Z"
    },
    "trusted": true,
    "ExecuteTime": {
     "end_time": "2023-11-14T14:52:42.698156400Z",
     "start_time": "2023-11-14T14:52:42.693255900Z"
    }
   },
   "execution_count": 112,
   "outputs": []
  },
  {
   "cell_type": "code",
   "source": [
    "X_train, X_test, y_train, y_test = train_test_split(X, y, test_size=0.3, random_state=42)"
   ],
   "metadata": {
    "_uuid": "4345b339-52f2-41f2-b38a-e65305697002",
    "_cell_guid": "db201f1c-921b-445d-9925-d894394bb644",
    "collapsed": false,
    "jupyter": {
     "outputs_hidden": false
    },
    "execution": {
     "iopub.status.busy": "2023-07-10T12:29:51.565576Z",
     "iopub.execute_input": "2023-07-10T12:29:51.565985Z",
     "iopub.status.idle": "2023-07-10T12:29:51.582244Z",
     "shell.execute_reply.started": "2023-07-10T12:29:51.56595Z",
     "shell.execute_reply": "2023-07-10T12:29:51.581108Z"
    },
    "trusted": true,
    "ExecuteTime": {
     "end_time": "2023-11-14T14:52:42.703018Z",
     "start_time": "2023-11-14T14:52:42.695763500Z"
    }
   },
   "execution_count": 113,
   "outputs": []
  },
  {
   "cell_type": "code",
   "source": [
    "dtree = DecisionTreeClassifier()\n",
    "\n",
    "# Fit the model to the training data\n",
    "dtree.fit(X_train, y_train)\n",
    "\n",
    "# Make predictions on the test set\n",
    "y_pred = dtree.predict(X_test)\n",
    "\n",
    "# Calculate the accuracy score\n",
    "accuracy = accuracy_score(y_test, y_pred)\n",
    "print(f\"Accuracy: {accuracy}\")\n",
    "\n",
    "# Print the classification report\n",
    "report = classification_report(y_test, y_pred)\n",
    "print(f\"Classification report:\\n{report}\")"
   ],
   "metadata": {
    "_uuid": "2ac9194e-e7ab-4a4a-897d-dfd54bc536bc",
    "_cell_guid": "2029ba6b-a4a5-4b8a-adb3-e8c963366678",
    "collapsed": false,
    "jupyter": {
     "outputs_hidden": false
    },
    "execution": {
     "iopub.status.busy": "2023-07-10T12:29:51.589108Z",
     "iopub.execute_input": "2023-07-10T12:29:51.589949Z",
     "iopub.status.idle": "2023-07-10T12:29:51.667865Z",
     "shell.execute_reply.started": "2023-07-10T12:29:51.589911Z",
     "shell.execute_reply": "2023-07-10T12:29:51.665033Z"
    },
    "trusted": true,
    "ExecuteTime": {
     "end_time": "2023-11-14T14:52:42.800031400Z",
     "start_time": "2023-11-14T14:52:42.704018300Z"
    }
   },
   "execution_count": 114,
   "outputs": [
    {
     "name": "stdout",
     "output_type": "stream",
     "text": [
      "Accuracy: 0.8646041856232939\n",
      "Classification report:\n",
      "              precision    recall  f1-score   support\n",
      "\n",
      "          -1       0.97      0.99      0.98       225\n",
      "           0       0.88      0.84      0.86      2714\n",
      "           1       0.84      0.88      0.86      2556\n",
      "\n",
      "    accuracy                           0.86      5495\n",
      "   macro avg       0.90      0.90      0.90      5495\n",
      "weighted avg       0.87      0.86      0.86      5495\n",
      "\n"
     ]
    }
   ]
  },
  {
   "cell_type": "code",
   "source": [
    "PROTECTED = \"sex\"\n",
    "MEN = 1.0 \n",
    "WOMEN = 0.0 \n",
    "men_indices = np.where(X_test[PROTECTED] == MEN)[0]\n",
    "women_indices = np.where(X_test[PROTECTED] == WOMEN)[0]\n",
    "print(men_indices, \"No of Men =\", men_indices.size)\n",
    "print(women_indices, \"No of Women =\", women_indices.size)"
   ],
   "metadata": {
    "_uuid": "dd01be40-22dd-4cc9-8153-fa2c916ea12f",
    "_cell_guid": "3b012e7c-580d-4314-b28a-dcf513b1a713",
    "collapsed": false,
    "jupyter": {
     "outputs_hidden": false
    },
    "execution": {
     "iopub.status.busy": "2023-07-10T12:29:51.677632Z",
     "iopub.execute_input": "2023-07-10T12:29:51.678107Z",
     "iopub.status.idle": "2023-07-10T12:29:51.68743Z",
     "shell.execute_reply.started": "2023-07-10T12:29:51.678064Z",
     "shell.execute_reply": "2023-07-10T12:29:51.68626Z"
    },
    "trusted": true,
    "ExecuteTime": {
     "end_time": "2023-11-14T14:52:42.800031400Z",
     "start_time": "2023-11-14T14:52:42.742562500Z"
    }
   },
   "execution_count": 115,
   "outputs": [
    {
     "name": "stdout",
     "output_type": "stream",
     "text": [
      "[   0    1    2 ... 5491 5493 5494] No of Men = 4492\n",
      "[   7   15   16 ... 5483 5490 5492] No of Women = 1003\n"
     ]
    }
   ]
  },
  {
   "cell_type": "code",
   "source": [
    "Y_test_m = [y_test.values[i] for i in men_indices]\n",
    "Y_test_f = [y_test.values[i] for i in women_indices]\n",
    "print(Y_test_m)\n",
    "print(Y_test_f)"
   ],
   "metadata": {
    "_uuid": "3ce52989-5262-46a7-9c23-bb718dcedb7f",
    "_cell_guid": "41322d1a-ef95-45ea-a22f-b3759e9bddd8",
    "collapsed": false,
    "jupyter": {
     "outputs_hidden": false
    },
    "execution": {
     "iopub.status.busy": "2023-07-10T12:29:51.689123Z",
     "iopub.execute_input": "2023-07-10T12:29:51.689763Z",
     "iopub.status.idle": "2023-07-10T12:29:51.719043Z",
     "shell.execute_reply.started": "2023-07-10T12:29:51.689724Z",
     "shell.execute_reply": "2023-07-10T12:29:51.716627Z"
    },
    "trusted": true,
    "ExecuteTime": {
     "end_time": "2023-11-14T14:52:42.801031500Z",
     "start_time": "2023-11-14T14:52:42.746465100Z"
    }
   },
   "execution_count": 116,
   "outputs": [
    {
     "name": "stdout",
     "output_type": "stream",
     "text": [
      "[1, 0, 0, 0, 0, 1, 1, 0, 0, 0, 1, 1, 0, 0, -1, 1, 0, 0, 1, 1, -1, 0, 0, 0, 1, 0, 0, 1, 1, 0, 1, 0, 1, 1, 0, 1, 1, 1, 1, 1, 1, 1, 1, 0, 0, 1, 1, 0, 1, 0, 0, 1, 1, 1, 1, 1, 0, 1, 0, 1, 0, 1, 0, 0, 1, 1, 0, 1, 1, 1, 1, 0, 0, 0, 0, 1, -1, 0, 0, 0, 0, 0, 0, 1, 0, 1, 1, 0, 1, 0, 1, 0, 1, 1, 0, 0, 1, 1, 0, 1, 0, 1, 0, 1, 0, 0, 0, -1, 1, 0, 0, 0, -1, 1, 1, 1, 0, -1, 1, 1, 1, 0, 1, 0, 0, 0, 0, 1, 1, 0, 0, 1, 1, -1, 0, 1, 1, 1, 1, 1, -1, 0, 0, 0, 0, 0, 0, 0, 0, -1, 1, 0, 0, 1, 1, 1, 1, 1, 0, 0, 0, 0, 1, 0, 0, 1, 1, 0, 0, 1, 1, 1, 1, 0, 1, 0, 0, 1, -1, 1, 0, 0, 0, 1, 0, 0, 0, 1, 0, 0, 0, 1, 1, 1, 0, 0, 0, 1, 0, 0, -1, 1, 0, 1, 0, 1, 1, 0, 1, 1, 1, 1, 0, 1, -1, 1, 1, 0, 1, 0, 0, 0, 1, 1, 1, 1, 1, 0, 0, 1, 1, 0, 0, 1, 1, 1, 1, 1, 0, 0, 1, 1, 1, 1, 0, 0, 0, 0, 1, 1, 1, 0, 1, 1, 1, -1, 0, 1, 0, 0, 0, 1, 0, 1, 0, 1, 0, 1, 1, 1, 0, 0, 0, 1, 1, 0, 0, 1, 1, 0, 1, 0, 0, 1, 1, 1, 1, 0, 0, 0, 1, 1, 1, 0, 0, 0, 1, 1, 0, 0, 1, 1, 1, 1, 1, 0, 0, 1, 1, 0, 1, 1, 1, 0, 0, 0, 1, 0, 1, 1, 1, 1, 0, 1, 1, 0, 1, 1, 1, 1, 0, 0, 1, 1, 0, 1, 0, 0, 1, 1, 1, 1, 0, 1, 1, 0, 0, 1, 0, 1, 1, 0, 1, 1, 1, 1, 1, 1, 1, 1, 0, 0, 0, 0, 1, 1, 0, 0, 0, 0, 0, -1, 1, 1, 1, 0, 1, 0, 1, 0, 0, 0, 1, 1, 1, 1, 1, -1, 1, 1, 1, 1, 0, 0, 1, 0, -1, 1, 0, 1, 1, 1, 0, 0, -1, 0, 1, 1, 0, 1, 1, 0, 0, 1, 0, 1, 0, 0, 0, 0, 0, 1, 0, 0, 0, 0, 1, -1, 1, 0, 1, 0, 1, 0, 1, 0, 1, 1, 0, 1, 0, 0, 1, 0, 0, 0, 1, 1, 1, 0, 1, 1, 1, 0, 1, 1, 0, 0, 1, -1, -1, 0, 0, 0, -1, 1, 1, 0, 0, 0, 0, 1, -1, 1, 1, 0, 0, 1, 0, 0, 0, 1, 1, 0, 1, 0, 0, 0, 0, 0, 0, 0, 0, 1, 0, -1, 0, 0, 1, 0, 1, 1, 1, 1, 0, 1, 1, 0, -1, 1, 0, 0, 1, 0, -1, 1, 1, 1, 1, 1, 0, 1, 1, 0, 0, 0, 0, 1, 0, 0, 1, 0, 1, 1, 1, 1, 0, 1, 1, 0, 0, 1, 0, 0, 0, 1, 1, 0, 0, 0, 1, 1, 1, 1, 1, 1, 0, 0, 0, 0, 1, 0, -1, 1, 0, 0, 1, 0, 1, -1, 1, 1, 1, 0, 1, 1, 0, 1, 0, 0, 0, 1, 0, 0, 1, 1, 0, 0, 1, 0, 1, 0, 0, 0, 1, 1, 0, 0, 0, 1, 1, 0, 1, 1, 1, 1, 1, 0, -1, 0, 0, 1, 0, 1, 1, 1, 1, 1, 1, 1, 0, 1, 0, 0, 1, 1, 1, 1, 1, 1, 0, 1, 0, 1, -1, 1, 0, 0, 1, 1, 0, 1, 1, 0, 1, 1, 1, 1, 0, 0, 1, 1, 1, 1, 0, 0, 0, 0, 1, 1, 1, 0, 1, 0, 1, 1, 0, -1, 0, 0, 0, 0, 1, 0, 0, 1, 0, 0, 0, 0, 1, 1, 1, 1, 1, 0, 0, 1, -1, 1, 1, 0, 0, 1, 1, 1, 0, 0, 1, 0, 0, 0, 0, 1, 0, 1, 0, 1, 0, 1, 1, 1, 0, 1, 0, 1, 0, 0, 1, 0, -1, 1, 0, 1, 0, 0, 0, 1, 1, 1, 0, 0, 1, 1, 0, 0, 1, 1, 0, 1, -1, 1, 0, -1, 0, 1, 0, 1, 0, 0, 1, 0, 1, -1, 0, 1, 0, 0, 1, 1, 0, 1, 0, 0, 0, 0, 1, 1, 0, 1, 1, 1, 1, 0, 0, 1, 1, 0, 1, 1, 1, 1, 1, 0, 0, 0, 1, 1, 1, 0, 1, 1, 0, 1, 1, 1, 0, 1, 0, 1, 1, 0, 1, 0, 0, 1, 0, 0, 0, 0, 1, 1, 0, 0, 0, 0, 1, 0, 1, 1, 0, 0, 1, 0, 0, 0, 1, 0, 1, 1, 0, 1, 1, 1, 1, 1, 1, 0, 0, 0, 0, 0, 1, 1, 0, 1, 1, 1, 1, 0, 0, 0, 0, 0, 1, 0, 1, 0, 0, 0, 1, 0, 0, 0, 0, 1, -1, 0, 1, 1, 1, 1, 0, 1, 0, 0, 0, 0, 0, 0, 0, 0, 1, 1, -1, 1, 1, 1, -1, 1, 1, 1, 1, 1, 1, 1, 0, 1, 1, 0, 0, 0, 1, 1, 1, 1, 0, 1, -1, 0, 1, 0, 0, -1, -1, 1, 0, 1, 0, 1, 0, 0, 0, -1, 0, 0, 1, 1, -1, 1, 0, 1, 0, 0, 1, 0, 0, 1, 0, 1, 0, 1, 1, 1, 0, 1, 1, 1, 1, 1, 0, 0, 1, 1, 1, 1, 1, 0, 1, 0, -1, 0, 1, 0, 0, 0, 0, 1, 1, 0, 0, -1, 0, 0, 0, 1, 1, 1, 1, 0, 1, 0, 0, 0, 1, 1, 1, 1, 1, 0, 0, 1, 1, 0, 0, 0, 1, 1, 1, 1, 0, 0, 1, 1, -1, 1, 1, 1, 0, 1, 1, 0, 0, 0, 1, 0, 0, 0, 1, 0, 1, 1, 0, 1, 0, 0, 1, 0, 0, 0, 1, 1, 1, 1, 0, 0, 0, 1, 0, 0, 1, 0, 0, 0, 1, 0, 0, 0, 1, 1, 1, -1, 0, 1, 0, 0, 0, 1, 1, 1, 0, 0, 1, 0, 0, 0, 1, 1, 1, 0, 1, 1, 1, 1, 1, 0, 1, 1, 1, 0, 0, 0, 1, 1, 0, 0, 1, 0, 1, 1, 0, 1, 1, 1, 1, 0, 0, 0, 1, 0, 1, 0, 0, 0, 1, 0, 0, 0, 1, 1, 0, 0, 0, 0, 0, 0, 0, 0, 1, 1, 0, 1, 1, 1, 0, 0, 1, 0, -1, 1, 1, 1, 0, 1, 0, 1, 1, 0, 1, 0, 0, -1, 0, 1, 1, 0, 1, 0, 1, 0, 0, 0, 1, 1, 1, 1, 1, 0, 1, 1, 1, 1, 1, 1, 1, 1, -1, 1, 1, 1, 1, 0, 1, -1, 0, 0, 1, 1, 1, 1, 1, 1, 1, 0, 0, 0, 1, 0, 0, 1, 1, 0, 0, 0, 1, -1, -1, 1, 0, 1, 1, 1, 1, 1, 0, 0, 1, 1, -1, 0, 0, 0, 1, 0, 0, -1, 1, 1, 1, 0, 1, 0, 0, 1, 0, 1, 0, 0, 0, 0, 0, 0, 0, 1, 1, 0, 1, 0, 0, 1, 0, 1, 0, 1, 0, 0, 1, 1, 0, 1, 1, -1, 1, 1, 0, 1, 1, 0, 1, 1, 0, 1, 0, 1, 0, 0, 1, 1, 1, 0, 1, 0, 1, 1, 0, 1, 0, 1, 0, 0, 0, 1, 1, 0, 0, 0, 0, 1, 1, 0, 1, 1, 0, 1, 0, 1, 1, 1, 1, 1, 1, 0, 1, 1, 0, 1, 1, 0, 0, 0, 0, 0, 0, 1, 1, 1, 1, 1, 1, 1, 1, 1, 1, 0, -1, 1, 0, 1, 0, 0, 1, 0, 0, 1, 1, 0, 1, 0, 0, 1, 1, 1, 0, 0, -1, 1, 0, 0, 0, 0, 0, 1, 0, 1, 1, 0, 0, 1, 0, 1, 0, 1, 1, 1, 1, 1, 1, 1, 0, 1, 0, 1, 0, 0, 0, 0, 1, 1, 0, 0, 0, 0, 0, 0, 1, 1, 1, 0, 1, 0, 0, 1, 1, 0, 1, 0, 1, 0, 0, 0, 1, 0, 1, 1, 0, 0, 1, 1, 1, 1, 1, 1, 1, 1, 1, 1, 1, 1, 0, 0, 1, 0, 1, 1, 0, 0, 1, 1, 1, 1, 1, 0, 1, 0, 1, 1, -1, 1, 1, 0, 1, 1, 1, 0, 0, 0, 1, 0, 0, 1, 1, 0, 1, 0, 1, 0, 1, 0, 0, 0, 0, 1, 1, 1, 0, 1, 0, 1, 0, 0, 1, 0, 0, 0, 0, 0, 1, 0, 1, 0, 1, 1, 1, 0, 1, 0, 1, 1, 0, 1, 0, 0, 1, 1, 1, 1, 1, 1, 0, 1, 1, 1, 0, 1, 0, 1, 0, 0, 1, 0, 1, 0, 0, 1, 0, 0, 0, 0, 0, 1, 0, 0, 1, 1, 1, 1, 0, 1, 1, 1, 1, -1, 0, 1, 1, -1, 1, 1, 1, 0, 0, 1, 0, 0, 1, 1, 1, 0, 0, 1, 1, 0, 0, 0, 1, 1, 1, 0, 0, 0, 0, 1, 0, 0, 0, 0, 1, 1, 0, 1, 0, 0, 1, 1, 0, 0, 1, 1, 0, 0, 1, 0, 0, 1, 1, 1, 0, 1, 1, 0, 1, 1, 1, 1, 1, 1, 0, 1, 0, 0, 1, 1, 1, 0, 0, 1, 0, 0, 0, 0, 1, 0, 1, 0, 1, 0, 0, 0, 0, 1, 0, 1, 0, 1, 1, 1, -1, 1, 0, 1, 0, 1, -1, 1, 1, 0, 1, -1, 0, 0, 1, 0, 1, 1, 1, 1, -1, 0, 1, 0, 1, 1, 1, 0, 1, 1, 1, 0, 1, 0, 0, 0, 0, -1, 0, 0, 1, 1, 0, 1, 0, 0, 1, 0, 1, 1, 1, 1, -1, 0, 0, 0, 0, 0, 0, 0, 1, 1, 1, 0, 0, 0, 0, 1, 0, 0, 0, 0, 1, 1, 1, 0, 0, 1, 0, 0, -1, 0, 0, 0, 1, 0, 1, 1, 1, 1, 1, 0, 1, 1, 1, 1, 0, 0, 0, 0, 1, 1, 0, 1, 1, 1, 0, 1, 0, 1, 1, 0, 0, 1, 1, 0, 1, -1, 0, 1, 0, 1, 0, 0, -1, 1, 0, 0, 0, 1, 0, 0, 1, 0, 1, 0, -1, 0, 1, 0, 0, 0, 1, 1, 0, -1, 0, 0, 0, 0, 0, 1, 0, 0, 1, 1, 1, 0, 0, 0, 1, 0, 1, 0, 1, 1, 0, 1, 0, 1, 1, 1, 0, 1, 1, 1, 1, -1, 0, 0, 1, 0, 0, -1, 1, 0, 0, 0, 0, 1, 0, 0, 0, 0, 0, 1, -1, 0, 1, 1, 0, 0, 0, 0, 1, 0, 0, 0, 1, 0, 1, 1, 0, 1, 1, 0, 0, 0, 1, 1, 0, 0, 0, 0, 1, 0, 1, 0, 1, 0, 0, 0, 0, 0, 1, 1, -1, 1, 1, 1, 1, 0, 0, 0, 0, 1, 0, 0, -1, 0, 1, 0, 1, 1, 0, 1, 0, 1, 0, 1, 1, 0, 1, 1, 0, 1, 1, 0, 1, 0, 0, 1, 0, 1, 0, 0, 0, 1, 0, 0, 1, 1, 0, 0, 0, 1, 0, 1, 0, 0, 0, 1, 0, 0, 0, 0, 0, 0, 1, 0, -1, 0, 0, -1, 0, -1, 0, 1, 0, 1, 0, 1, 0, 0, 1, 1, 1, 1, 0, 0, 1, 1, 1, 0, 1, 1, -1, 1, 1, 1, 1, 1, 0, 0, 0, 1, 0, 1, 0, 0, 0, 1, 1, 0, 1, 0, 1, 1, 0, 0, 1, 1, 0, 1, 0, 1, 0, 0, 1, 1, 1, 1, -1, 1, 1, 1, 0, 0, 0, 0, 0, 0, 1, 1, 0, 1, 0, 0, 0, 1, 0, 1, 1, 1, 1, 0, 1, 0, 0, 1, 1, 0, 1, 1, 0, 1, 1, 1, 0, 1, 0, 1, 1, 0, 0, 1, 0, 1, 0, 0, 0, 0, 0, 1, 0, 1, 0, 0, 1, 0, 0, 1, 1, 0, 1, 1, 0, 1, 0, 0, 0, 0, 1, 0, 1, 1, 1, 0, 1, 1, 0, 1, 0, 0, 1, 0, 0, 0, 1, 0, 1, 0, 1, 1, 0, 1, 0, 0, 0, 0, 0, 0, 0, 0, 0, 0, 0, 0, 0, 1, 0, 0, 1, 1, 0, 0, 0, 1, 1, 0, 1, 0, 0, 0, 0, 1, 1, 1, 1, 0, 0, 0, 1, 0, 1, 1, 0, 0, 1, 0, 1, 0, 1, 0, 1, 0, 1, 0, 0, 1, 1, 1, 1, 1, 0, 1, 1, 1, 0, 1, 1, 0, 0, 1, 1, 1, 0, 1, 1, 1, 0, -1, 0, 1, 1, 1, 0, 1, 1, 1, 1, 1, 1, 0, 1, 1, 1, 1, 0, 1, 1, 0, 0, 1, 1, 0, -1, 1, 1, 1, 1, -1, 0, 1, 0, 1, 0, 1, 1, 0, 1, 0, 1, 0, 1, 1, 0, 0, 1, 1, 1, -1, 0, 0, 1, 1, 0, 0, 0, 0, -1, 1, 0, -1, 1, 0, 0, 0, 1, 0, 1, -1, 1, 0, 0, 1, 1, 1, 1, 0, 0, 0, -1, 0, 1, 1, 1, 0, 0, 0, 1, 0, 0, 1, 1, 0, 0, 1, -1, 0, 0, 0, 0, 0, 1, 0, 1, 0, 0, 1, 0, -1, 0, 1, 0, 1, 0, 1, 1, 0, 0, 1, 0, 1, 0, 1, -1, 1, 0, 0, 0, 1, 1, 1, 0, 0, 1, 1, 1, 1, 1, 0, 1, 1, 0, 0, 1, 0, 0, 1, 0, 1, 0, 1, 0, 0, 0, 1, 0, 0, 0, 0, 0, 0, 0, 1, 1, -1, 0, 0, 0, 0, 1, 0, 0, 1, 1, 1, 0, 1, 0, 0, 1, 1, 0, 1, 0, 0, 0, 0, 0, 0, 0, 0, 0, 1, 1, 0, 1, 1, 0, 1, 1, 1, 1, 0, 0, 1, 1, 1, 1, 0, 1, -1, 1, 0, 1, 0, 0, 0, 0, 0, 0, 0, 0, -1, 1, 1, 0, 1, 0, 1, 1, 0, 0, 1, 0, 0, 0, 1, 1, 1, 0, 1, 0, 0, -1, 1, 0, 0, -1, 1, 0, 1, 1, 1, 1, 0, 1, 1, 0, 1, 0, 0, 0, 1, 1, 0, 1, 0, 1, 1, 1, 1, 1, 0, 1, 1, 1, 1, 0, 0, 0, 0, 0, 0, 1, 1, 1, 0, 0, 1, 1, 0, 1, 0, 0, 1, 1, 0, 0, 0, 1, 0, 1, 1, 0, 0, 0, 1, 0, 1, 1, 0, 1, 1, 1, 0, 1, 0, -1, 1, 1, 0, 1, 0, 0, 1, 0, 0, 1, 1, 1, 0, 0, 0, 0, 0, 0, 0, 0, 0, 1, 1, 0, 0, 0, 0, 1, 1, 1, 0, 1, 0, 1, 1, 0, 0, 0, 1, 1, 1, 1, 1, 0, 1, 1, 0, 1, 0, 1, 0, 0, 1, 1, 1, 0, 1, 0, 0, 0, 0, 0, 0, 1, 0, 1, 0, 0, 0, -1, 1, 1, 0, 1, 1, 0, 1, 1, 1, 0, 1, 1, 0, 0, 0, 0, 0, 0, 1, 0, 0, 1, 1, 0, 0, 1, 0, 0, 0, 0, 1, 1, 0, 0, 0, 0, 0, 1, 0, 0, 1, 0, 0, 0, 0, 1, 1, 0, 0, 1, 0, 0, 1, 1, 0, 0, 0, 1, 1, 1, 0, 1, 0, 0, 1, 1, 0, 1, 0, 1, 1, 0, 1, -1, 1, 1, 1, 0, -1, 1, 1, 1, 0, 0, 1, 1, 1, 0, 0, -1, 0, 1, 1, 1, 0, 1, 1, 1, 0, 1, 1, 1, 0, 1, 0, 1, 0, 1, 1, 1, -1, 0, 1, 1, 0, 1, 0, 1, 0, 0, 1, 1, 0, 0, 0, 0, 0, 1, 0, 1, 1, 1, 1, 1, 1, 1, 1, 1, 0, 0, 0, 1, 0, 0, 1, 0, 0, 1, 1, 1, 0, 1, 1, 0, 1, 1, 1, 1, 0, 0, 0, 1, 0, 1, 0, 0, 1, 1, 0, 0, 0, 0, 1, 0, 1, 0, 1, 1, 0, 1, 1, 1, 1, 0, 0, 1, -1, 1, 0, 0, 0, 1, 1, 1, 0, 1, 1, 0, 0, 1, 1, 0, 1, 0, 1, 0, 0, 1, 1, 0, 1, 0, 0, 1, 0, 0, 0, 0, 1, 1, 0, 0, 1, 0, 1, 0, -1, 0, 1, 1, -1, 1, 1, 1, 1, 1, 1, 1, 1, 0, 0, 1, 1, 0, -1, 0, 0, 1, 1, 1, 1, 0, -1, 1, 0, 0, -1, 1, 0, 0, 1, 1, 1, 0, 0, 0, 1, 0, 1, 1, 1, 1, 0, 0, 1, 1, 0, 1, 1, 1, 1, 1, 1, 1, 0, 1, 1, 1, 1, 1, 1, 1, 0, 0, 0, 0, 1, 1, 1, 1, 0, 0, 0, 1, 0, 1, 0, 1, 0, 1, 1, 0, 1, 0, 1, 1, 0, 0, 0, 0, 0, 1, 0, 0, 1, 0, -1, 0, 0, 1, 1, 0, 1, 0, 0, 1, 1, 1, 1, 1, 1, 1, 1, 1, 0, 1, 0, 0, 0, 1, 1, 1, -1, 0, 0, 0, 1, 1, 1, 1, 0, 0, 0, 0, 1, 0, 1, 1, 1, 1, 1, 1, 1, 1, 0, 0, 1, 1, 1, 0, 1, 0, 0, 0, 1, 1, 1, 1, 0, 1, 0, 1, 1, 0, 1, 1, 0, 1, 1, 0, 0, 0, 1, 0, 1, 0, 0, 0, 0, 0, 0, 0, 1, 0, 0, 1, 0, 1, 1, 0, 1, 0, 0, 1, 1, 0, 1, 0, 0, 1, -1, 1, 1, 1, 0, 1, 0, 0, 0, 1, 0, 0, 1, 0, 0, 1, 0, 1, 1, 0, 0, 1, 0, 0, 0, 1, 0, 1, 1, 0, 1, 0, 0, 0, 1, 0, 0, 1, 0, 0, 1, 0, 0, 0, 0, 1, 0, 0, 0, 1, 0, 0, 1, 0, 0, 1, 1, 0, 1, 0, 1, 1, 1, 0, 0, 0, 0, 0, 1, 0, 1, 0, 0, 1, -1, 1, 0, 0, 1, 1, 0, 0, 0, 0, -1, 0, 1, 1, 0, 0, 0, 1, 1, 0, 1, 1, 1, 1, 1, 1, 0, 0, 1, 0, 1, 0, 0, 0, 0, 0, 0, 1, 0, 0, 1, 0, 0, 1, 0, 0, 1, 0, 0, 1, 0, 1, 0, 1, 0, 1, 1, 0, 1, 0, 1, 0, 0, 1, 1, 1, 1, 0, 1, 1, 1, 0, 1, 1, 0, 0, 1, 0, 1, 0, 1, 0, 0, 0, 1, 0, 1, 0, 0, 0, 0, 1, 1, 0, 0, 0, 0, 1, 1, 1, 0, 1, 0, 0, 1, 0, 0, 0, 0, 1, 0, 0, 1, 0, 0, 1, 0, 1, 1, 1, 0, 0, 1, 0, 0, 1, 0, 1, 1, -1, 1, 0, 1, 1, 1, -1, 0, 1, 0, 0, 1, 1, 0, 1, 1, 1, 0, 1, 0, 0, 0, 0, 1, 0, 1, 1, 1, 0, 0, 0, 0, 0, 1, 1, 0, 1, 0, 1, 1, 1, 0, 0, 0, 1, 0, 0, 0, 0, 0, 1, 0, 1, 1, 1, 1, 0, 0, 1, 1, 1, 1, 1, 1, 0, 0, 1, 0, 0, 0, 1, 0, -1, 0, 0, 0, 1, 0, 0, 1, 0, 0, 0, 0, 1, 0, -1, 1, 1, 0, 0, 1, 1, 0, 0, 1, 0, 1, -1, 0, 0, 0, 1, 1, 0, 1, 1, 0, 1, 1, 0, 0, -1, 0, 1, 0, 0, 1, 1, 1, 1, 0, 0, 1, 1, 1, 0, 1, 1, 0, 0, 1, 1, 0, 1, 0, 0, -1, 1, 0, 0, 0, 1, 0, -1, 0, -1, 0, 0, 0, 1, 1, 1, 1, 1, 1, 0, 1, 0, 1, 0, 0, 1, 0, 0, 1, 0, 1, 1, 0, 1, 1, 0, 1, 0, 1, 0, 1, 1, 0, 0, 1, 1, 1, 1, 0, 1, 1, 1, 1, 1, 1, 1, 1, 0, 0, 1, 0, 1, 1, 0, 0, 0, 1, 1, 1, 1, -1, 1, 1, 1, 1, 1, 1, 0, 1, 1, 1, 0, 1, 0, 0, 0, 0, 0, 0, 0, 0, 1, 1, 1, 0, 1, 0, 0, 1, 1, 0, 0, 1, 0, 1, 0, 0, 1, 0, 0, 0, 1, 1, 1, 1, 1, 1, 0, 1, 1, 1, 0, 1, 1, 0, 1, 0, 1, 0, -1, 1, 0, 1, 0, 1, 0, 0, 0, 1, 1, 0, -1, 0, 1, 1, 1, 1, 0, 0, -1, 0, 0, 0, 0, -1, 1, 1, 1, 1, 1, 1, 0, 0, 0, 0, 1, 1, 0, 0, 1, 0, 1, 1, 1, 0, 0, 0, 0, 1, 0, 0, 1, 0, -1, 0, 1, -1, 0, 0, 1, 0, 0, 1, 0, 1, 0, 1, 1, 1, 0, 0, 0, -1, 0, 1, 0, 1, 0, 0, 1, 0, 0, 1, 0, 0, 1, 1, 0, 0, 0, 0, 0, 1, 1, 0, 1, 0, 0, 0, 1, 0, 0, 0, -1, 1, 1, 0, 0, 1, 0, 1, 0, 0, 0, 0, 0, 0, 1, 1, 1, 1, 1, 0, 0, 1, 1, 0, 0, 0, 1, 0, 1, 1, -1, 1, 1, 1, 1, -1, 1, 0, 1, 0, -1, 1, 0, 0, 0, 0, 0, 0, 0, 1, 0, -1, 1, 0, 0, 0, 0, 0, 0, 0, 1, 0, -1, 1, 0, 1, 0, 1, 1, 0, 0, 0, 1, 0, 1, 0, 0, 1, 0, 1, 0, 1, -1, 0, 1, 0, 1, 1, 0, 0, 1, 0, 0, 0, 1, 0, 0, -1, 1, 1, 0, 1, 1, 0, 1, 1, 0, 1, 0, 0, 1, -1, 0, 1, 0, -1, 1, 1, 0, 0, 1, 0, 0, 1, 0, 0, 1, 1, 1, 0, 0, -1, 1, 0, 1, 0, 1, 0, 0, 0, 0, 0, 0, 0, -1, 1, 1, -1, 0, 0, 1, 0, 0, 0, -1, 1, 1, 1, 0, 1, 1, 1, 1, -1, 0, 0, 0, 1, 1, 0, -1, 1, 1, 0, 1, 0, 1, 1, 1, 1, 1, 0, 1, 0, 0, 1, 1, 1, 1, 0, 0, 1, 0, 0, 1, 1, 1, 1, 1, 1, 1, 1, 1, 0, 0, 0, -1, 1, -1, 0, 1, 0, 0, 0, 1, 0, -1, 1, 0, 1, 0, 0, 1, 0, 1, 0, 1, 1, 1, 1, 0, 1, 1, 1, 0, 1, 0, 1, 0, 0, 1, 0, 1, 0, 0, 1, 0, 1, 1, -1, 0, 0, 1, 1, 0, 0, 0, 0, 0, 0, 0, 1, 1, 1, 0, 0, 1, 1, 0, 1, 1, 0, -1, 0, 1, 0, 1, 1, 0, 0, 0, 0, 0, 1, 1, 1, 1, 1, 1, 1, 1, 1, 1, 1, 0, 0, 0, 1, 1, 1, 0, 0, 1, 1, 0, 1, 1, 0, 1, 1, 0, 0, 1, -1, 0, 1, 0, 1, 1, 0, -1, 0, -1, 0, -1, 0, 0, 1, 1, -1, 0, 0, 1, 1, 0, 1, 1, 1, 1, 0, 0, 0, 1, 1, -1, 0, 1, 0, 0, 0, 0, 1, 1, 1, 1, 0, -1, 1, 0, 0, 0, -1, 1, 1, 0, 1, -1, 0, 1, 1, 1, 1, 1, 1, 1, 0, 0, 1, 0, 1, 0, -1, 1, 0, 0, 1, 1, 0, 1, 0, 1, 0, 0, 1, 0, 1, 0, 1, 1, 0, 0, 1, 1, 1, 1, 1, 1, 0, 1, 1, 1, 1, 0, 1, 0, 0, 1, 1, 1, 1, 1, 1, 1, 1, 0, 1, 1, 1, 1, 0, 1, 1, 0, 1, 0, 0, 0, 1, 0, 0, 0, 0, 1, 1, 1, 0, 1, 1, 1, 0, 1, 1, 1, 0, 0, 0, 0, 1, 0, 1, 0, 1, 0, 1, 0, 1, 0, 0, -1, 1, 0, 0, -1, 1, 0, 0, 0, 0, -1, 1, 1, 0, 0, 1, 0, 1, 1, 0, 0, 1, 0, 0, 1, 0, 1, 1, 1, 1, 0, 1, 1, 0, 0, 1, 1, 1, 1, 0, 1, 1, 0, 0, 0, 0, 1, 1, 1, 1, 0, 1, 1, 1, 0, 1, 1, 1, 0, 0, 0, 0, 1, 1, 0, 0, 1, 0, 1, 1, 0, 0, 1, 1, 0, 0, 1, 0, 0, 0, 0, 1, 0, 1, 0, 0, 1, 0, 0, 0, 0, 0, 1, 0, -1, 0, 0, 0, 1, 0, 1, 0, 0, 1, 0, 1, 1, 0, 1, 1, 0, 0, 1, 1, 1, 0, 1, 1, 0, 0, 1, 1, 1, 0, 0, 1, 0, 0, 0, 1, 1, 0, 0, 1, 0, 1, 0, 0, 0, 0, 0, 1, 1, 1, 1, 1, 1, 1, 1, 0, 0, 1, 0, 0, 1, 0, 1, 0, 0, 0, 1, 0, -1, 0, 1, 1, 0, 0, 1, 1, 1, 1, 0, 1, 0, 0, 0, 1, 1, 1, 1, 1, 0, 1, 1, 1, 1, 1, 0, 0, 0, 0, 0, 0, 1, 0, 1, 1, 0, 1, 1, 0, 0, 1, 0, 0, 0, 0, 0, 1, 0, 0, 0, 0, 0, 0, 1, 1, 1, 0, 0, 0, 1, 1, 0, 1, 0, 1, 0, 1, -1, 1, 1, 1, 0, 0, 1, 1, 1, 0, 1, 1, 0, 1, 0, 0, 1, 1, -1, 0, 1, 1, 1, 0, 0, 1, 1, 1, 0, 0, 1, 1, 0, 1, 0, 0, 0, 0, 0, 1, 0, 1, 1, 0, 1, 0, 1, 1, 0, -1, 1, 1, 0, 1, 1, 1, 0, 0, 0, 0, 0, -1, 1, 1, 0, 0, 1, 0, 1, 1, 0, 1, 0, 0, 0, 1, 1, 0, 0, 1, 1, 0, 1, 0, 1, 1, 1, 1, 1, 0, 1, 1, 1, 0, 1, 1, 1, 1, 0, 1, 0, 1, 0, 1, 1, 0, 0, 1, 0, 0, 0, 0, 1, 1, 1, 1, 0, 0, 1, 1, 0, 0, 1, 1, 1, 1, 1, 1, 0, 0, 1, 1, 1, 1, 0, 1, 0, 0, 0, 0, 0, 1, 1, 0, 1, 1, 1, 0, 0, 1, 1, 0, 1, 0, 0, 1, 1, 0, 1, -1, 0, 1, 1, 0, 1, 1, 0, 0, 0, 1, 0, 1, 0, 0, 1, 1, 0, 0, 1, 1, 0, 1, 1, 1, 1, 0, 1, 0, 1, 0, -1, 0, 0, 1, 1, 1, 0, 1, 1, 1, 0, 0, 0, 0, 1, 0, 0, 0, 0, 1, 1, 1, 1, 0, 0, 0, 1, 0, 0, 0, 1, 0, 0, 1, 0, 0, 0, 1, 1, 0, 1, 1, 1, 0, 1, 0, 1, -1, 0, 0, 1, 1, 0, 0]\n",
      "[1, 0, 0, 0, 0, 0, 1, 1, 0, 0, 1, 0, 0, -1, 0, 1, 0, 1, 0, 1, 0, 0, 0, 1, 0, 0, 1, 0, 0, 0, 1, 0, 0, 0, 1, 1, 1, 0, 0, 0, 1, 0, 0, 0, 0, 1, 1, 1, 0, 0, 1, 0, 0, 0, 1, 1, 0, 1, 0, 1, 0, 0, 0, 1, 0, -1, 0, 0, 0, 1, 0, 0, 1, 0, 0, 1, 0, 0, 1, 1, 1, 1, 0, 1, 0, 0, 0, 0, 1, 0, 0, 1, 0, 1, 0, 0, 0, 0, 1, 0, 0, 1, 0, 0, 0, 0, 1, 0, -1, 1, 0, 1, 0, 0, 0, 1, 1, 0, 0, 0, 0, 1, 0, 1, 1, 1, 1, 1, 0, 1, 1, 0, -1, 1, 0, 1, 1, 0, 0, 0, 0, 1, 1, 1, -1, 0, 0, 0, 0, 1, 1, 1, 0, 0, 1, 0, 1, 1, 0, 1, 0, 0, 1, 1, 0, 0, 1, -1, -1, -1, -1, 0, 0, 1, 0, 0, 1, -1, 1, 1, 0, 1, -1, 1, 0, 1, 1, 0, 1, 0, 0, 0, 0, 1, 0, 0, 1, 0, 0, 0, 0, 1, 1, 1, 0, 1, 0, 0, 1, 1, 0, 1, 1, 0, 0, 0, 1, 1, 1, 1, -1, 1, 0, 0, 0, 1, 1, 1, -1, 0, 0, 0, 1, 1, 0, 1, 0, 0, 0, 0, 0, 1, 1, 1, 0, 0, 0, 1, 0, 1, 0, 0, 0, 0, 1, 0, 0, 0, -1, 1, 0, 0, 1, 0, 1, 0, 0, -1, 0, 1, 1, 1, 0, 1, 1, -1, 0, 0, -1, 0, 0, 0, 0, 0, 0, -1, 0, 0, 0, 0, -1, 0, 0, 0, 0, 1, 0, 1, 0, 1, 0, 0, 1, 0, 0, 0, 1, 0, 1, 0, 1, 1, 1, 1, 0, 0, 0, 0, 1, 0, 1, 0, 1, 1, 1, 0, 0, 0, 1, 1, 0, 0, 0, 1, 0, 1, 0, 0, 0, 0, 1, 0, 0, 1, 0, 0, 1, 0, 0, 0, 0, 0, 1, 0, 1, 1, 0, 1, -1, -1, 0, 0, 0, 0, 1, 1, 1, 1, 0, 0, 0, 1, 1, -1, 0, 1, 0, 0, 0, 1, 1, 0, 0, 1, 1, 0, 1, 0, 1, -1, 0, 1, 0, 0, 0, 1, 1, 1, 0, 1, 1, 0, -1, 0, 0, 0, 0, 1, 1, 0, 0, 1, 1, 1, 1, 0, 0, 1, 0, 1, 0, 1, 0, 0, 0, 1, 0, 1, 1, 0, 0, 1, 0, 0, 0, 0, -1, 0, 1, 0, 0, 1, 1, 0, 0, -1, 0, 0, 1, 0, 1, 0, 1, 0, 1, 0, 1, 0, 1, 0, 0, 0, 0, 1, -1, 0, 0, 1, 1, 0, 1, 0, 0, 1, 0, 0, 0, 1, 1, -1, 0, 0, 0, 1, 0, 0, 0, 0, 1, 0, 1, 1, 1, 0, 1, 1, 1, 1, 0, 0, 0, 1, 0, 0, -1, 0, 1, 0, 1, 1, 1, 1, 0, 1, 1, 0, 1, 0, 0, 1, 1, 1, 0, 0, 0, 1, 0, 0, -1, 0, 0, 0, 1, 1, 1, 0, 1, 1, 1, 0, 0, 1, 0, 1, 1, -1, 1, 1, 0, 0, 0, 0, 0, 0, 1, 1, 0, 1, -1, 1, -1, 1, 1, 1, -1, 1, 1, -1, 1, 1, 0, 0, 0, 0, 0, 0, 0, 0, 1, 0, 0, 1, 1, 0, 0, 1, 1, 0, 0, 0, 0, 0, 1, 1, 1, 0, 0, 0, 0, 0, 0, 0, 1, 0, 1, 0, 0, 0, 0, 0, 0, 0, 0, 0, 0, 0, -1, 0, 0, 1, 0, 1, 1, 0, 1, 1, 0, 0, 0, 0, 0, 0, 1, 0, 1, 1, 0, 1, 1, 1, 1, 0, 0, 0, 0, 1, 0, 0, 1, 1, 0, 1, 0, 0, 0, 1, 0, 1, 0, 0, 1, 0, 1, 1, 1, 0, 0, 0, 0, 0, 0, 1, 1, 1, 0, 0, 0, 0, 1, 1, 1, 0, 1, 1, 0, 1, 1, 0, 0, 1, 0, 0, 0, 0, 0, 0, 1, 1, 0, 1, 1, 0, 0, 0, 1, 0, 1, 0, 0, 1, 1, 0, -1, 0, 1, 0, 1, -1, 1, 1, 0, 0, 0, 1, 0, 0, 1, 1, 0, 1, 1, 0, 0, 0, 0, 0, 1, 0, 1, 0, 0, 0, 1, 0, 0, 1, 0, 1, 0, 0, 0, 0, 1, 1, 0, 0, 0, 0, 0, 1, 0, 1, 0, 1, 1, 1, 0, 0, 0, 0, 0, 0, 0, -1, 1, 1, 1, 1, 0, 0, 1, 0, 0, 0, 0, -1, 0, 0, 1, 0, 1, 1, 0, 0, 1, 0, 1, -1, 0, 1, 0, 0, 1, 1, 0, 0, 0, 1, 1, 1, -1, 0, -1, 0, 0, 0, 0, 0, 1, 0, 0, 0, 1, 0, 0, 1, 0, 0, 0, -1, 1, 0, 0, 0, 0, 0, 1, 0, 0, 0, 0, 1, 1, 0, 0, 1, 1, 0, 1, 0, 0, 1, 1, 0, 0, 0, 1, 1, 0, 0, 0, 0, 0, 0, 0, 1, 0, 1, 1, 0, 1, 0, 0, 0, 1, 0, 0, 0, 0, 0, 0, 0, 1, 0, 0, 0, 1, 0, 1, 1, 1, 0, 1, 1, 0, 0, 1, 1, 0, 0, -1, 0, 0, 1, 0, -1, 0, -1, 0, 0, 0, 0, 0, 0, 0, 1, 1, 0, 0, 0, 0, 0, 0, 1, 0, 1, 1, 1, 0, 1, 0, -1, 0, 0, 0, 1, 0, 1, 0, 0, 1, 1, 1, 0, 0, 0, 0, 1, 0, 0, 0, 1, 1, 0, 1, 0, -1, 0, 1, 0, 0, 0, 1, 0, 0, 0, 0, 0, 1, 0, 0, 0, 0, 1, 1, 1, 0, 0, 1, 1, 1, 0, 1, 1, 0, 0, 1, 0, 0, 0, 0, 1, 0, 0, -1, 0, 0, 1, 0, 0, 0, 0, 1]\n"
     ]
    }
   ]
  },
  {
   "cell_type": "code",
   "source": [
    "Y_pred_m = [y_pred[i] for i in men_indices]\n",
    "Y_pred_f = [y_pred[i] for i in women_indices]\n",
    "print(Y_pred_m)\n",
    "print(Y_pred_f)"
   ],
   "metadata": {
    "_uuid": "d8f59bdf-5e8d-4ba5-97ee-71948e149d15",
    "_cell_guid": "aa2d3056-1915-432c-802e-1cfd52f77c78",
    "collapsed": false,
    "jupyter": {
     "outputs_hidden": false
    },
    "execution": {
     "iopub.status.busy": "2023-07-10T12:29:51.720784Z",
     "iopub.execute_input": "2023-07-10T12:29:51.721209Z",
     "iopub.status.idle": "2023-07-10T12:29:51.745485Z",
     "shell.execute_reply.started": "2023-07-10T12:29:51.721172Z",
     "shell.execute_reply": "2023-07-10T12:29:51.744396Z"
    },
    "trusted": true,
    "ExecuteTime": {
     "end_time": "2023-11-14T14:52:42.801031500Z",
     "start_time": "2023-11-14T14:52:42.759028700Z"
    }
   },
   "execution_count": 117,
   "outputs": [
    {
     "name": "stdout",
     "output_type": "stream",
     "text": [
      "[1, 0, 0, 0, 0, 1, 1, 1, 0, 0, 1, 0, 0, 0, -1, 1, 1, 0, 1, 0, -1, 0, 0, 0, 1, 0, 0, 1, 1, 0, 1, 0, 1, 1, 1, 1, 1, 1, 1, 1, 1, 1, 1, 1, 1, 1, 1, 0, 0, 0, 0, 1, 1, 1, 1, 1, 0, 1, 0, 1, 0, 1, 0, 0, 1, 1, 0, 1, 1, 1, 1, 0, 0, 0, 1, 1, -1, 1, 0, 1, 0, 0, 0, 1, 0, 1, 1, 0, 1, 0, 0, 0, 1, 1, 0, 0, 1, 1, 0, 1, 0, 1, 0, 1, 0, 0, 0, -1, 1, 1, 0, 0, -1, 1, 1, 1, 0, -1, 1, 1, 1, 0, 1, 0, 0, 0, 0, 1, 1, 0, 0, 1, 1, -1, 0, 1, 1, 1, 1, 1, -1, 0, 0, 0, 0, 0, 0, 0, 0, -1, 1, 1, 0, 1, 1, 1, 1, 1, 1, 0, 0, 0, 1, 0, 0, 1, 1, 0, 0, 1, 1, 1, 1, 0, 1, 0, 0, 1, -1, 0, 0, 1, 1, 1, 0, 0, 0, 1, 0, 0, 0, 1, 1, 1, 0, 0, 0, 1, 0, 1, -1, 0, 0, 1, 0, 0, 1, 0, 1, 1, 1, 1, 1, 1, -1, 0, 1, 0, 1, 0, 1, 0, 1, 1, 1, 1, 1, 0, 1, 1, 1, 0, 1, 1, 1, 1, 1, 0, 1, 1, 1, 1, 1, 1, 0, 0, 0, 0, 1, 1, 1, 0, 1, 1, 0, -1, 0, 0, 1, 0, 0, 1, 0, 1, 1, 1, 0, 0, 1, 1, 0, 0, 0, 1, 1, 0, 0, 1, 1, 0, 1, 0, 0, 1, 0, 1, 1, 0, 0, 0, 1, 1, 1, 1, 0, 0, 1, 1, 0, 0, 1, 1, 0, 1, 1, 0, 0, 1, 1, 1, 1, 1, 1, 0, 0, 0, 1, 0, 1, 1, 1, 1, 1, 1, 1, 1, 1, 1, 1, 1, 1, 1, 1, 1, 0, 1, 0, 0, 1, 1, 1, 1, 0, 1, 0, 0, 0, 1, 0, 1, 1, 0, 1, 1, 1, 1, 0, 1, 0, 1, 0, 0, 0, 0, 1, 1, 0, 0, 0, 0, 1, -1, 1, 1, 1, 1, 1, 0, 1, 0, 0, 0, 0, 1, 1, 1, 1, -1, 1, 1, 1, 1, 0, 1, 1, 0, -1, 1, 0, 1, 1, 1, 0, 1, -1, 0, 1, 1, 0, 0, 1, 0, 0, 1, 0, 1, 0, 0, 0, 0, 0, 0, 0, 0, 0, 0, 1, -1, 1, 0, 0, 1, 1, 0, 1, 0, 1, 1, 0, 1, 0, 1, 1, 0, 0, 0, 1, 1, 1, 1, 1, 1, 1, 0, 1, 1, 0, 0, 0, -1, -1, 0, 0, 1, -1, -1, 1, 1, 0, 1, 0, 1, -1, 1, 1, 0, 0, 0, 0, 0, 0, 1, 1, 0, 0, 0, 0, 1, 0, 1, 0, 0, 0, 1, 0, -1, 1, 0, 1, 0, 1, 1, 1, 1, 0, 1, 1, 0, -1, 1, 0, 0, 0, 0, -1, 1, 1, 1, 1, 1, 0, 1, 1, 0, 0, 0, 0, 1, 0, 0, 1, 0, 1, 1, 1, 1, 0, 1, 1, 0, 0, 0, 0, 0, 0, 1, 1, 0, 0, 0, 1, 0, 0, 1, 0, 1, 0, 0, 0, 0, 1, 0, -1, 1, 0, 0, 1, 0, 1, -1, 1, 1, 0, 1, 1, 1, 0, 1, 0, 0, 1, 1, 0, 0, 0, 1, 0, 0, 1, 1, 0, 0, 0, 0, 1, 0, 0, 0, 0, 1, 1, 0, 1, 1, 1, 1, 1, 0, -1, 0, 0, 1, 0, 1, 1, 0, 1, 1, 1, 1, 0, 1, 0, 0, 1, 1, 1, 1, 1, 1, 0, 1, 1, 1, -1, 0, 1, 0, 1, 1, 0, 0, 1, 0, 0, 1, 1, 1, 0, 0, 1, 1, 1, 0, 0, 0, 0, 0, 1, 1, 1, 1, 1, 0, 1, 1, 0, -1, 0, 0, 0, 0, 1, 0, 0, 1, 0, 0, 0, 0, 1, 1, 1, 1, 1, 0, 0, 1, -1, 1, 1, 0, 0, 1, 1, 1, 0, 0, 0, 1, 0, 1, 0, 1, 0, 1, 1, 1, 0, 1, 0, -1, 0, 1, 0, 1, 0, 0, 1, 0, -1, 1, 0, 1, 0, 0, 0, 1, 1, 1, 0, 0, 0, 0, 0, 0, 1, 1, 0, 1, -1, 1, 0, -1, 1, 1, 0, 1, 0, 1, 1, 0, 1, -1, 0, 1, 0, 1, 1, 1, 1, 1, 0, 0, 0, 0, 1, 1, 0, 1, 1, 1, 1, 0, 0, 0, 1, 0, 1, 0, 1, 1, 1, 0, 0, 1, 1, 1, 1, 0, 1, 1, 0, 1, 1, 0, 0, 1, 0, 1, 1, 0, 1, 0, 0, 1, 0, 0, 0, 0, 1, 1, 0, 1, 0, 0, 1, 0, 1, 0, 0, 0, 1, 1, 0, 0, 1, 0, 1, 1, 0, 1, 1, 1, 1, 1, 1, 0, 0, 1, 0, 0, 1, 0, 0, 1, 0, 0, 1, 0, 0, 0, 0, 0, 1, 0, 1, 0, 0, 0, 1, 0, 0, 0, 0, 1, -1, 0, 1, 1, 1, 1, 0, 1, 0, 1, 0, 0, 1, 0, 1, 0, 1, 1, -1, 1, 1, 0, -1, 1, 1, 0, 1, 1, 0, 1, 0, 1, 1, 0, 0, 1, 1, 1, 1, 1, 0, 1, -1, 0, 1, 0, 0, -1, -1, 1, 0, 1, 0, 0, 0, 0, 0, -1, 0, 0, 1, 0, -1, 1, 1, 1, 0, 0, 0, 0, 0, 1, 1, 1, 0, 1, 1, 1, 0, 1, 1, 0, 1, 1, 0, 0, 1, 1, 1, 1, 1, 0, 1, 1, -1, 0, 1, 1, 0, 0, 0, 1, 1, 0, 0, -1, 1, 0, 0, 1, 0, 1, 1, 0, 1, 0, 0, 0, 1, 1, 1, 1, 1, 1, 1, 1, 0, 0, 0, 0, 1, 1, 1, 1, 1, 1, 1, 1, -1, 1, 1, 1, 0, 1, 1, 1, 0, 1, 1, 0, 0, 0, 1, 0, 1, 1, 0, 1, 1, 0, 1, 0, 0, 1, 0, 1, 1, 1, 0, 0, 0, 1, 0, 0, 1, 0, 0, 0, 1, 0, 0, 0, 1, 1, 1, -1, 1, 1, 0, 0, 0, 0, 1, 1, 0, 0, 1, 0, 1, 0, 1, 0, 1, 0, 1, 1, 0, 1, 1, 1, 1, 1, 1, 0, 0, 1, 0, 1, 0, 1, 1, 0, 1, 1, 0, 1, 1, 1, 1, 0, 0, 1, 1, 0, 1, 0, 1, 0, 1, 0, 0, 0, 1, 1, 0, 0, 0, 0, 0, 0, 0, 1, 1, 1, 0, 1, 1, 1, 1, 0, 1, 0, -1, 1, 1, 1, 0, 0, 0, 1, 1, 0, 1, 0, 0, -1, 0, 0, 1, 0, 1, 0, 1, 0, 0, 0, 1, 1, 1, 1, 1, 0, 1, 1, 1, 1, 1, 1, 1, 1, -1, 1, 1, 0, 0, 0, 0, -1, 0, 0, 1, 1, 1, 1, 1, 1, 1, 0, 0, 0, 1, 1, 0, 1, 1, 0, 1, 0, 1, -1, -1, 1, 0, 1, 1, 1, 1, 1, 0, 0, 1, 1, -1, 0, 0, 0, 1, 0, 0, -1, 1, 1, 1, 0, 1, 0, 0, 1, 1, 1, 0, 0, 0, 0, 0, 0, 0, 1, 0, 0, 1, 0, 0, 1, 0, 1, 0, 1, 0, 1, 1, 1, 0, 0, 1, -1, 1, 1, 0, 0, 1, 0, 1, 1, 0, 1, 0, 1, 0, 0, 1, 1, 1, 0, 1, 0, 1, 1, 0, 1, 0, -1, 0, 0, 0, 1, 1, 1, 0, 0, 0, 1, 1, 0, 1, 1, 0, 0, 0, 0, 1, 1, 1, 1, 0, 0, 1, 1, 0, 1, 1, 0, 1, 0, 1, 0, 0, 1, 1, 1, 1, 1, 1, 1, 1, 1, 0, 0, -1, 1, 0, 1, 0, 0, 1, 0, 0, 1, 1, 0, 1, 1, 0, 1, 1, 1, 0, 0, -1, 1, 0, 0, 0, 0, 1, 1, 0, 0, 1, 0, 0, 1, 0, 1, 0, 1, 1, 1, 1, 0, 1, 1, 0, 1, 0, 1, 0, 0, 0, 0, 1, 1, 1, 0, 1, 0, 0, 1, 1, 1, 1, 0, 1, 0, 0, 1, 1, 0, 1, 1, 1, 0, 0, 0, 1, 0, 1, 0, 0, 0, 1, 1, 1, 1, 1, 1, 1, 1, 1, 1, 1, 1, 0, 0, 1, 1, 1, 1, 0, 0, 1, 1, 1, 0, 1, 0, 1, 0, 1, 1, -1, 1, 1, 0, 1, 1, 1, 1, 0, 0, 1, 0, 1, 1, 1, 0, 1, 0, 1, 0, 1, 1, 0, 0, 1, 1, 1, 1, 0, 1, 0, 1, 0, 0, 1, 0, 1, 1, 0, 0, 1, 1, 1, 0, 1, 1, 1, 1, 1, 0, 1, 1, 1, 1, 0, 0, 1, 1, 1, 1, 1, 1, 0, 1, 1, 1, 1, 1, 1, 1, 0, 0, 0, 0, 1, 0, 0, 1, 0, 1, 0, 0, 1, 1, 0, 0, 1, 0, 1, 1, 0, 1, 1, 1, 1, -1, 0, 1, 1, -1, 1, 1, 0, 0, 0, 1, 0, 0, 1, 1, 1, 0, 0, 1, 1, 0, 0, 0, 1, 1, 1, 0, 0, 0, 0, 1, 0, 0, 1, 0, 1, 1, 1, 1, 0, 0, 1, 1, 0, 0, 1, 1, 0, 1, 0, 0, 1, 1, 1, 1, 0, 1, 1, 1, 1, 1, 0, 1, 0, 1, 1, 0, 0, 0, 1, 1, 1, 0, 0, 0, 0, 0, 0, 1, 1, 0, 1, 1, 0, 1, 0, 0, 0, 1, 0, 1, 0, 1, 1, 1, -1, 0, 0, 1, 1, 1, -1, 1, 1, 0, 1, -1, 0, 0, 1, 0, 1, 1, 1, 1, -1, 0, 0, 1, 1, 1, 1, 0, 1, 1, 1, 0, 1, 0, 0, 0, 0, -1, 0, 0, 1, 1, 0, 1, 0, 0, 1, 1, 1, 1, 1, 1, -1, 0, 0, 0, 0, 0, 0, 0, 0, 1, 1, 0, 1, 0, 0, 1, 0, 1, 0, 0, 1, 1, 1, 0, 0, 1, 0, 0, -1, 0, 0, 0, 1, 0, 1, 1, 1, 1, 1, 0, 1, 1, 1, 1, 0, 0, 0, 0, 1, 1, 0, 1, 1, 0, 1, 1, 0, 1, 1, 0, 0, 1, 1, 0, 1, -1, 0, 1, 0, 1, 0, 0, -1, 1, 1, 0, 0, 1, 0, 0, 1, 0, 1, 0, -1, 0, 1, 0, 0, 0, 1, 1, 0, -1, 0, 0, 0, 0, 0, 1, 0, 1, 1, 1, 1, 0, 0, 0, 1, 0, 1, 0, 1, 1, 0, 1, 1, 1, 1, 1, 0, 1, 1, 1, 1, -1, 0, 0, 1, 0, 0, -1, 1, 0, 0, 0, 0, 1, 0, 0, 0, 0, 1, 1, -1, 0, 1, 1, 1, 0, 0, 0, 1, 0, 0, 0, 1, 0, 1, 0, 0, 1, 1, 0, 0, 1, 1, 1, 0, 0, 0, 1, 1, 0, 1, 0, 1, 0, 0, 0, 0, 0, 1, 0, -1, 1, 0, 1, 1, 0, 0, 1, 0, 1, 0, 0, -1, 0, 1, 0, 1, 1, 0, 1, 0, 1, 0, 1, 1, 1, 1, 1, 1, 1, 1, 0, 1, 0, 0, 1, 0, 1, 0, 0, 0, 1, 0, 1, 1, 1, 1, 0, 0, 1, 0, 0, 0, 0, 0, 0, 0, 0, 0, 0, 0, 0, 1, 0, -1, 0, 1, -1, 0, -1, 0, 1, 0, 1, 0, 1, 0, 0, 1, 1, 1, 1, 0, 0, 1, 1, 1, 0, 1, 1, -1, 1, 1, 1, 1, 1, 1, 0, 0, 1, 0, 1, 1, 1, 0, 1, 0, 1, 1, 1, 1, 1, 0, 0, 1, 1, 0, 1, 0, 1, 1, 0, 1, 1, 1, 1, -1, 1, 1, 1, 1, 1, 0, 1, 0, 1, 1, 1, 0, 1, 0, 0, 0, 1, 0, 1, 1, 1, 1, 0, 1, 0, 0, 1, 1, 0, 1, 1, 0, 1, 1, 1, 0, 1, 0, 1, 1, 0, 0, 1, 0, 0, 0, 0, 1, 0, 0, 1, 0, 1, 0, 1, 1, 0, 0, 0, 1, 0, 1, 1, 0, 1, 0, 0, 0, 1, 0, 0, 1, 1, 1, 0, 1, 1, 1, 1, 0, 0, 1, 0, 0, 1, 1, 0, 1, 0, 1, 1, 0, 0, 0, 1, 0, 0, 0, 0, 1, 1, 1, 0, 0, 1, 0, 1, 0, 0, 1, 1, 1, 0, 0, 1, 0, 1, 1, 0, 0, 0, 0, 0, 1, 1, 1, 0, 0, 0, 1, 0, 1, 1, 0, 0, 0, 0, 1, 0, 1, 0, 0, 0, 1, 0, 0, 1, 1, 0, 1, 1, 0, 1, 1, 0, 0, 1, 1, 0, 1, 1, 1, 1, 0, 1, 1, 1, 0, -1, 0, 1, 1, 1, 0, 1, 1, 1, 0, 1, 1, 1, 1, 1, 1, 1, 0, 1, 0, 0, 0, 1, 1, 0, -1, 1, 1, 1, 1, -1, 0, 1, 1, 1, 0, 1, 1, 0, 1, 0, 1, 0, 1, 0, 0, 0, 1, 1, 1, -1, 0, 0, 1, 1, 0, 0, 1, 0, 0, 0, 0, -1, 1, 0, 0, 1, 1, 0, 1, -1, 1, 0, 0, 1, 1, 1, 0, 0, 0, 0, -1, 0, 1, 1, 1, 0, 0, 0, 1, 0, 1, 1, 1, 0, 0, 1, -1, 0, 0, 0, 0, 0, 1, 0, 1, 0, 0, 1, 1, -1, 0, 1, 0, 0, 1, 1, 1, 0, 0, 1, 1, 0, 0, 1, -1, 1, 0, 0, 0, 1, 1, 0, 1, 0, 1, 1, 1, 1, 1, 0, 1, 1, 0, 1, 1, 0, 0, 1, 0, 1, 0, 1, 1, 0, 0, 1, 0, 0, 0, 0, 0, 0, 0, 1, 1, -1, 0, 0, 0, 0, 1, 1, 0, 1, 1, 1, 0, 1, 0, 1, 1, 1, 0, 1, 0, -1, 0, 0, 0, 0, 0, 0, 1, 1, 1, 0, 1, 0, 0, 1, 1, 1, 1, 0, 0, 1, 1, 1, 1, 0, 1, -1, 1, 0, 1, 1, 0, 1, 0, 0, 0, 1, 0, -1, 1, 1, 0, 1, 0, 1, 1, 0, 1, 1, 0, 0, 0, 1, 1, 1, 0, 1, 0, 1, -1, 0, 0, 0, -1, 1, 0, 0, 1, 0, 1, 0, 1, 0, 1, 1, 0, 1, 0, 1, 0, 0, 0, 0, 0, 1, 1, 1, 1, 0, 1, 0, 1, 1, 1, 0, 0, 1, 0, 1, 1, 1, 1, 0, 0, 1, 1, 0, 1, 0, 1, 0, 1, 0, 1, 0, 1, 0, 1, 1, 0, 0, 0, 1, 1, 1, 1, 0, 1, 1, 1, 0, 1, 0, -1, 1, 1, 0, 1, 0, 0, 1, 0, 0, 1, 1, 1, 0, 0, 0, 1, 0, 0, 0, 0, 0, 0, 1, 0, 0, 0, 0, 0, 1, 1, 0, 1, 1, 1, 1, 0, 0, 1, 1, 0, 1, 0, 1, 0, 1, 1, 0, 1, 0, 1, 0, 0, 1, 1, 1, 0, 1, 0, 0, 0, 0, 0, 0, 1, 0, 1, 0, 0, 0, -1, 1, 1, 1, 0, 1, 0, 1, 1, 1, 0, 1, 1, 0, 0, 1, 1, 0, 0, 1, 1, 0, 1, 1, 0, 0, 1, 1, 0, 0, 0, 1, 1, 0, 0, 1, 0, 0, 1, 0, 0, 1, 0, 0, 0, 0, 1, 1, 0, 0, 1, 0, 0, 1, 1, 0, 0, 0, 0, 0, 1, 0, 1, 1, 0, 1, 0, 0, 1, 0, 1, 1, 0, 0, -1, 1, 1, 1, 0, -1, 1, 1, 1, 0, 0, 1, 1, 1, 0, 0, -1, 0, 1, 1, 1, 0, 1, 1, 1, 0, 1, 1, 1, 0, 1, 0, 1, 0, 0, 1, 1, -1, 0, 1, 1, 0, 1, 0, 1, 0, 0, 1, 1, 1, 0, 0, 0, 0, 1, 0, 1, 0, 1, 1, 1, 1, 1, 1, 1, 0, 0, 0, 0, 0, 0, 1, 1, 0, 1, 1, 0, 0, 1, 1, 0, 0, 1, 1, 1, 0, 0, 0, 0, 0, 0, 0, 0, 1, 1, 0, 1, 0, 0, 1, 0, 1, 0, 1, 1, 1, 1, 1, 1, 1, 0, 0, 1, -1, 1, 1, 0, 0, 1, 1, 1, 0, 1, 1, 1, 0, 0, 1, 0, 1, 0, 1, 0, 0, 1, 1, 0, 1, 0, 0, 1, 1, 0, 0, 0, 1, 1, 0, 0, 1, 0, 1, 0, -1, 0, 1, 1, -1, 1, 1, 1, 1, 1, 1, 1, 1, 0, 0, 1, 1, 0, -1, 1, 1, 1, 1, 1, 1, 0, -1, 1, 0, 0, -1, 1, 0, 0, 0, 1, 1, 0, 0, 0, 1, 0, 1, 1, 1, 1, 0, 0, 1, 1, 0, 1, 1, 1, 1, 0, 1, 1, 0, 1, 1, 0, 1, 1, 1, 1, 1, 0, 0, 1, 1, 1, 1, 1, 0, 0, 0, 1, 0, 1, 0, 1, 0, 1, 0, 0, 1, 0, 1, 0, 0, 0, 0, 0, 0, 0, 0, 0, 1, 0, -1, 0, 0, 1, 1, 0, 1, 0, 0, 1, 1, 1, 1, 1, 1, 1, 1, -1, 0, 1, 0, 0, 0, 1, 1, 1, -1, 0, 0, 1, 1, 1, 1, 1, 0, 0, 0, 0, 1, 0, 0, 1, 1, 0, 0, 1, 0, 1, 0, 0, 1, 1, 1, 0, 0, 0, 0, 0, 1, 1, 1, 1, 0, 1, 0, 1, 1, 1, 1, 1, 0, 1, 1, 1, 0, 0, 1, 1, 1, 0, 0, 0, 1, 0, 0, 1, 1, 0, 0, 1, 0, 1, 1, 1, 1, 0, 1, 1, 1, 0, 1, 0, 0, 1, -1, 1, 1, 1, 0, 0, 0, 0, 0, 1, 0, 0, 0, 0, 0, 1, 0, 1, 0, 0, 0, 1, 0, 1, 0, 1, 0, 1, 1, 0, 1, 0, 0, 0, 1, 0, 0, 1, 0, 0, 1, 0, 1, 0, 0, 0, 1, 1, 0, 1, 1, 0, 0, 0, 1, 1, 1, 0, 1, 0, 1, 1, 1, 0, 0, 0, 0, 1, 0, 0, 1, 0, 0, 1, -1, 0, 0, 0, 1, 1, 0, 0, 0, 0, -1, 0, 1, 0, 0, 0, 0, 1, 1, 1, 1, 0, 1, 0, 1, 1, 0, 0, 1, 1, 1, 0, 1, 1, 0, 1, 0, 1, 1, 0, 1, 0, 0, 1, 0, 0, 1, 0, 0, 1, 0, 1, 1, 1, 0, 1, 0, 0, 1, 1, 1, 0, 1, 1, 1, 1, 1, 0, 1, 1, 1, 1, 1, 1, 0, 0, 1, 1, 1, 1, 1, 0, 0, 0, 1, 0, 1, 0, 0, 0, 0, 1, 1, 0, 0, 0, 0, 1, 0, 1, 1, 0, 1, 1, 1, 0, 1, 0, 0, 1, 0, 0, 1, 0, 0, 1, 0, 1, 1, 1, 1, 0, 1, 1, 0, 0, 1, 1, 1, -1, 1, 0, 1, 1, 0, -1, 1, 1, 0, 0, 1, 1, 0, 0, 1, 1, 1, 1, 0, 0, 0, 0, 1, 0, 1, 1, 1, 1, 0, 1, 0, 0, 1, 1, 0, 1, 0, 1, 1, 1, 0, 1, 0, 1, 0, 1, 0, 0, 0, 1, 1, 1, 1, 1, 1, 0, 1, 1, 1, 1, 1, 1, 1, 0, 0, 1, 1, 1, 0, 1, 0, -1, 0, 0, 0, 1, 0, 0, 1, 1, 0, 0, 0, 1, 0, -1, 1, 1, 1, 0, 1, 1, 0, 0, 1, 0, 1, -1, 0, 0, 1, 1, 1, 0, 1, 0, 0, 1, 1, 0, 0, -1, 0, 1, 0, 1, 1, 1, 1, 0, 0, 0, 1, 1, 1, 0, 1, 0, 0, 0, 0, 1, 1, 1, 0, 0, -1, 1, 1, 0, 0, 1, 1, -1, 1, -1, 0, 0, 0, 1, 0, 1, 1, 1, 1, 0, 1, 0, 1, 0, 0, 1, 0, 0, 1, 0, 1, 1, 0, 1, 0, 0, 1, 0, 1, 0, 0, 1, 0, 0, 1, 1, 1, 1, 0, 1, 1, 1, 0, 1, 1, 0, 1, 0, 0, 1, 0, 1, 1, 0, 0, 0, 0, 1, 1, 1, -1, 1, 1, 1, 1, 1, 1, 0, 1, 1, 1, 0, 1, 0, 1, 0, 0, 0, 0, 0, 1, 0, 0, 1, 1, 1, 0, 0, 1, 1, 0, 0, 0, 0, 1, 0, 0, 0, 0, 0, 1, 1, 1, 1, 1, 1, 1, 0, 1, 1, 1, 0, 1, 1, 0, 1, 1, 1, 0, -1, 1, 1, 1, 0, 1, 0, 0, 0, 1, 1, 0, -1, 0, 1, 1, 1, 1, 0, 0, -1, 0, 0, 0, 0, -1, 1, 1, 1, 1, 1, 1, 0, 0, 1, 1, 1, 0, 1, 1, 1, 0, 1, 1, 1, 0, 0, 0, 0, 0, 0, 0, 1, 1, 1, 0, 1, -1, 0, 0, 1, 1, 0, 1, 1, 1, 1, 1, 1, 1, 0, 0, 0, -1, 0, 1, 0, 1, 1, 0, 1, 0, 0, 1, 0, 0, 1, 1, 0, 1, 1, 0, 0, 1, 1, 0, 1, 0, 1, 0, 1, 0, 1, 0, -1, 1, 1, 0, 0, 1, 1, 1, 1, 0, 1, 0, 0, 0, 1, 1, 1, 0, 1, 0, 0, 0, 1, 0, 0, 0, 1, 0, 1, 0, -1, 1, 1, 1, 1, -1, 1, 0, 0, 0, -1, 1, 0, 0, 0, 1, 0, 0, 1, 1, 0, -1, 1, 0, 0, 0, 0, 0, 1, 0, 0, 0, -1, 1, 1, 1, 0, 1, 1, 0, 0, 0, 0, 0, 1, 0, 0, 0, 0, 1, 0, 1, -1, 0, 1, 0, 1, 1, 1, 0, 1, 0, 0, 0, 1, 0, 0, -1, 1, 1, 0, 1, 1, 0, 0, 1, 1, 1, 0, 0, 1, -1, 1, 1, 0, -1, 1, 1, 1, 0, 1, 0, 0, 1, 0, 0, 1, 1, 1, 0, 0, -1, 1, 0, 1, 0, 1, 0, 0, 1, 0, 0, 0, 0, -1, 1, 1, -1, 1, 1, 1, 0, 0, 0, -1, 1, 1, 1, 0, 0, 1, 1, 1, -1, 1, 0, 1, 1, 1, 0, -1, 1, 1, 0, 1, 0, 1, 0, 1, 1, 1, 1, 1, 0, 0, 0, 1, 1, 1, 0, 1, 1, 0, 0, 1, 1, 1, 1, 1, 1, 1, 1, 1, 1, 0, 0, -1, 1, -1, 0, 1, 1, 1, 0, 1, 0, -1, 0, 0, 1, 0, 0, 1, 0, 1, 0, 1, 1, 1, 1, 0, 1, 1, 1, 0, 1, 0, 1, 0, 0, 1, 0, 1, 0, 0, 1, 0, 1, 0, -1, 1, 0, 1, 1, 0, 0, 0, 0, 0, 0, 0, 1, 1, 1, 0, 0, 1, 1, 0, 1, 1, 0, -1, 0, 1, 0, 1, 0, 0, 0, 0, 1, 0, 1, 1, 1, 0, 1, 1, 1, 1, 0, 1, 1, 0, 0, 0, 1, 1, 0, 0, 0, 0, 1, 0, 1, 1, 0, 1, 1, 0, 0, 1, -1, 0, 1, 0, 1, 1, 0, -1, 0, -1, 0, -1, 0, 0, 1, 0, -1, 1, 0, 1, 0, 1, 1, 1, 1, 1, 0, 0, 0, 1, 1, -1, 0, 1, 0, 0, 0, 1, 1, 1, 1, 1, 0, -1, 1, 0, 0, 0, -1, 1, 1, 0, 1, -1, 0, 1, 1, 1, 1, 1, 1, 1, 0, 0, 1, 0, 1, 0, -1, 1, 0, 1, 1, 1, 1, 1, 0, 1, 0, 0, 1, 0, 1, 0, 1, 1, 0, 0, 0, 1, 1, 1, 1, 1, 0, 1, 0, 1, 1, 0, 1, 0, 0, 1, 1, 0, 1, 1, 1, 1, 0, 0, 1, 0, 1, 0, 0, 1, 1, 0, 1, 0, 0, 0, 1, 0, 0, 0, 1, 0, 0, 1, 0, 1, 1, 1, 0, 1, 1, 0, 0, 1, 0, 0, 1, 1, 1, 0, 1, 0, 1, 0, 1, 0, 0, -1, 1, 1, 0, -1, 1, 0, 0, 0, 0, -1, 1, 0, 0, 0, 1, 0, 1, 1, 1, 0, 0, 0, 0, 1, 1, 1, 1, 1, 1, 1, 1, 1, 0, 0, 1, 1, 1, 1, 0, 0, 1, 0, 0, 0, 0, 1, 1, 1, 1, 1, 1, 1, 1, 0, 1, 1, 1, 1, 0, 0, 1, 1, 1, 1, 0, 1, 0, 0, 1, 0, 0, 1, 1, 0, 0, 1, 0, 0, 0, 0, 1, 0, 1, 0, 1, 1, 0, 0, 1, 0, 0, 1, 0, -1, 0, 0, 1, 1, 0, 1, 0, 0, 1, 0, 1, 1, 0, 1, 1, 0, 0, 1, 1, 1, 1, 1, 1, 1, 0, 1, 1, 0, 0, 0, 1, 1, 0, 0, 1, 1, 0, 0, 1, 0, 1, 0, 0, 0, 1, 0, 1, 1, 1, 1, 0, 1, 1, 1, 0, 0, 1, 0, 0, 1, 0, 1, 0, 0, 0, 0, 1, -1, 0, 1, 1, 0, 0, 1, 0, 1, 1, 1, 1, 1, 0, 0, 0, 1, 1, 1, 1, 0, 1, 1, 1, 1, 1, 0, 0, 0, 0, 0, 0, 1, 0, 1, 1, 0, 1, 1, 0, 0, 1, 0, 0, 0, 0, 0, 0, 0, 0, 0, 0, 0, 0, 1, 1, 1, 0, 0, 0, 1, 1, 0, 0, 0, 1, 0, 1, -1, 1, 1, 1, 0, 0, 1, 1, 1, 0, 1, 1, 0, 0, 0, 0, 1, 1, -1, 0, 1, 1, 1, 0, 0, 1, 0, 1, 0, 0, 1, 1, 0, 1, 0, 1, 0, 0, 1, 1, 0, 1, 1, 0, 1, 0, 1, 1, 0, -1, 1, 1, 0, 1, 1, 1, 0, 0, 0, 0, 0, -1, 1, 1, 0, 0, 1, 0, 1, 1, 1, 1, 0, 0, 1, 1, 1, 0, 0, 0, 1, 0, 1, 1, 1, 1, 1, 1, 0, 0, 1, 1, 1, 0, 1, 1, 1, 1, 1, 0, 0, 0, 0, 1, 0, 0, 0, 1, 0, 0, 0, 0, 1, 1, 1, 1, 1, 0, 1, 1, 0, 0, 1, 1, 1, 1, 0, 1, 0, 0, 1, 1, 1, 1, 0, 1, 0, 0, 1, 0, 1, 1, 1, 0, 1, 1, 1, 0, 0, 1, 1, 0, 1, 0, 0, 0, -1, 0, 0, -1, 0, 1, 1, 0, 1, 1, 0, 0, 0, 0, 0, 1, 1, 1, 1, 1, 0, 0, 1, 1, 0, 1, 1, 1, 1, 0, 0, 0, 1, 0, -1, 0, 0, 1, 1, 1, 0, 1, 1, 1, 1, 0, 0, 1, 1, 0, 0, 0, 0, 1, 0, 1, 1, 0, 0, 0, 1, 0, 0, 0, 0, 1, 0, 1, 0, 0, 0, 0, 1, 0, 1, 1, 1, 0, 1, 0, 1, -1, 0, 0, 1, 1, 0, 0]\n",
      "[1, 0, 0, 0, 0, 1, 0, 1, 0, 1, 1, 0, 0, -1, 1, 1, 0, 1, 0, 1, 0, 0, 0, 0, 0, 0, 0, 0, 1, 0, 1, 0, 0, 0, 1, 1, 1, 0, 0, 1, 0, 0, 0, 0, 1, 0, 1, 1, 0, 1, 1, 1, 0, 0, 0, 1, 0, 1, 0, 1, 0, 1, 0, 0, 0, 1, 0, 0, 0, 1, 0, 0, 1, 1, 1, 1, 0, 0, 1, 0, 1, 1, 0, 1, 0, 0, 0, 0, 1, 0, 0, 1, 0, 1, 0, 0, 0, 0, 1, 1, 0, 1, 0, 0, 0, 0, 0, 0, -1, 1, 0, 1, 0, 0, 0, 0, 1, 0, 0, 1, 0, 1, 0, 1, 1, 0, 1, 1, 0, 1, 1, 1, -1, 1, 0, 1, 1, 0, 0, 0, 0, 1, 1, 0, -1, 0, 0, 0, 0, 1, 0, 1, 0, 0, 1, 0, 1, 1, 0, 1, 0, 0, 1, 1, 0, 0, 1, -1, -1, -1, -1, 0, 1, 0, 0, 0, 0, -1, 1, 1, 0, 1, -1, 1, 0, 1, 1, 0, 1, 0, 0, 0, 0, 1, 0, 0, 1, 0, 0, 0, 0, 0, 0, 1, 1, 1, 0, 1, 1, 1, 0, 1, 1, 0, 0, 0, 1, 0, 1, 1, -1, 1, 0, 0, 0, 1, 1, 1, -1, 0, 0, 0, 1, 1, 0, 1, 0, 0, 0, 0, 0, 1, 1, 1, 0, 0, 0, 1, 0, 1, 0, 0, 0, 1, 0, 0, 1, 0, -1, 1, 0, 0, 1, 1, 1, 0, 1, -1, 0, 1, 1, 1, 0, 1, 0, -1, 0, 0, -1, 0, 0, 0, 0, 0, 0, -1, 0, 0, 1, 0, -1, 0, 0, 0, 0, 1, 0, 1, 0, 1, 0, 1, 0, 0, 0, 0, 1, 0, 1, 0, 1, 1, 1, 0, 1, 0, 0, 0, 1, 0, 1, 0, 1, 1, 1, 0, 0, 0, 1, 1, 0, 1, 1, 1, 0, 1, 1, 0, 0, 0, 0, 1, 0, 1, 1, 0, 0, 0, 1, 0, 0, 1, 1, 0, 0, 1, 0, 1, -1, -1, 1, 0, 0, 0, 1, 1, 1, 1, 0, 0, 0, 1, 1, -1, 0, 1, 0, 0, 0, 1, 1, 0, 0, 1, 1, 0, 1, 0, 1, -1, 1, 1, 1, 0, 0, 1, 1, 1, 0, 1, 1, 1, -1, 0, 1, 0, 0, 1, 1, 0, 0, 1, 1, 1, 1, 1, 0, 1, 1, 1, 1, 1, 0, 0, 0, 1, 1, 1, 1, 0, 0, 1, 0, 1, 1, 0, -1, 0, 1, 0, 0, 0, 1, 0, 0, -1, 0, 0, 1, 0, 1, 1, 1, 0, 1, 0, 1, 0, 1, 0, 0, 0, 1, 1, -1, 0, 0, 0, 1, 1, 1, 0, 0, 0, 0, 0, 0, 1, 1, -1, 0, 0, 0, 0, 0, 0, 0, 0, 1, 0, 1, 1, 1, 0, 1, 1, 1, 1, 0, 0, 0, 1, 0, 0, -1, 0, 1, 0, 1, 1, 1, 0, 0, 1, 1, 0, 0, 0, 0, 1, 1, 1, 0, 0, 0, 1, 0, 0, -1, 0, 1, 0, 1, 0, 1, 1, 1, 1, 1, 0, 0, 0, 0, 1, 1, -1, 1, 1, 0, 0, 0, 0, 0, 0, 1, 1, 0, 1, -1, 1, -1, 0, 0, 1, -1, 1, 0, -1, 1, 1, 0, 1, 0, 0, 0, 0, 0, 0, 1, 0, 0, 1, 1, 0, 0, 1, 1, 1, 0, 0, 0, 0, 0, 1, 1, 0, 0, 0, 1, 0, 0, 0, 1, 1, 0, 0, 1, 0, 0, 0, 0, 0, 0, 0, 0, 0, -1, 0, 1, 0, 0, 0, 1, 0, 0, 1, 0, 0, 1, 0, 0, 0, 1, 0, 1, 1, 1, 1, 1, 1, 1, 0, 0, 0, 0, 0, 0, 0, 1, 1, 0, 0, 0, 0, 0, 0, 0, 0, 0, 0, 0, 0, 1, 0, 1, 0, 0, 0, 0, 0, 1, 0, 1, 1, 0, 0, 1, 0, 1, 0, 1, 0, 0, 1, 0, 1, 1, 0, 0, 1, 0, 0, 0, 0, 0, 0, 0, 1, 0, 1, 0, 0, 0, 0, 1, 0, 1, 0, 0, 1, 0, 1, -1, 0, 1, 0, 1, -1, 1, 1, 0, 0, 1, 1, 0, 0, 1, 1, 0, 0, 1, 1, 0, 1, 0, 0, 1, 0, 1, 0, 0, 1, 1, 0, 0, 1, 0, 1, 1, 0, 0, 0, 1, 1, 0, 0, 0, 0, 0, 1, 0, 1, 0, 1, 1, 0, 0, 0, 0, 0, 0, 0, 0, -1, 1, 1, 1, 1, 0, 0, 1, 1, 0, 0, 0, -1, 0, 0, 0, 0, 1, 1, 0, 0, 1, 1, 1, -1, 0, 1, 0, 0, 1, 1, 0, 0, 0, 1, 1, 0, -1, 0, -1, 0, 0, 0, 0, 1, 1, 0, 0, 0, 0, 0, 0, 1, 0, 0, 1, -1, 1, 0, 0, 0, 0, 0, 1, 0, 0, 0, 0, 1, 1, 1, 0, 1, 0, 0, 1, 0, 0, 1, 1, 0, 0, 0, 1, 1, 0, 1, 1, 1, 0, 0, 0, 0, 0, 0, 1, 0, 0, 0, 0, 0, 1, 0, 0, 0, 0, 0, 0, 1, 1, 0, 0, 0, 1, 0, 1, 1, 1, 0, 1, 1, 0, 1, 0, 0, 1, 0, -1, 0, 0, 1, 0, -1, 0, -1, 0, 0, 0, 0, 0, 0, 1, 1, 1, 0, 1, 0, 0, 0, 0, 1, 1, 1, 1, 1, 0, 1, 0, -1, 1, 0, 0, 0, 0, 1, 0, 0, 1, 1, 1, 0, 0, 0, 0, 1, 0, 0, 0, 1, 1, 0, 1, 0, -1, 0, 1, 0, 1, 0, 1, 0, 0, 0, 0, 1, 1, 0, 0, 1, 0, 1, 0, 1, 0, 0, 1, 1, 1, 0, 1, 1, 0, 0, 0, 1, 0, 0, 0, 1, 0, 0, -1, 0, 0, 0, 0, 0, 0, 0, 1]\n"
     ]
    }
   ]
  },
  {
   "cell_type": "markdown",
   "source": [
    "**CM MALE**"
   ],
   "metadata": {
    "_uuid": "f1933bc1-3185-4c12-a476-60279590db84",
    "_cell_guid": "a94d6483-a6ab-40a8-b709-d7b485a59305",
    "trusted": true
   }
  },
  {
   "cell_type": "code",
   "source": [
    "cm_m = confusion_matrix(Y_test_m, Y_pred_m)\n",
    "\n",
    "# Visualize the confusion matrix using seaborn\n",
    "sns.heatmap(cm_m, annot=True, fmt='d', cmap='Blues', cbar=False)\n",
    "plt.xlabel('Predicted')\n",
    "plt.ylabel('True')\n",
    "plt.show()\n",
    "# Print the classification report\n",
    "report = classification_report(Y_test_m, Y_pred_m)\n",
    "print(f\"Classification report:\\n{report}\")"
   ],
   "metadata": {
    "_uuid": "0c732315-a4a6-4bd4-8eb2-94ee794b7ba1",
    "_cell_guid": "3f2d9599-1347-4b23-83ea-ee6260607e72",
    "collapsed": false,
    "jupyter": {
     "outputs_hidden": false
    },
    "execution": {
     "iopub.status.busy": "2023-07-10T12:29:51.74714Z",
     "iopub.execute_input": "2023-07-10T12:29:51.747856Z",
     "iopub.status.idle": "2023-07-10T12:29:51.954716Z",
     "shell.execute_reply.started": "2023-07-10T12:29:51.74781Z",
     "shell.execute_reply": "2023-07-10T12:29:51.953559Z"
    },
    "trusted": true,
    "ExecuteTime": {
     "end_time": "2023-11-14T14:52:42.898575Z",
     "start_time": "2023-11-14T14:52:42.765483300Z"
    }
   },
   "execution_count": 118,
   "outputs": [
    {
     "data": {
      "text/plain": "<Figure size 640x480 with 1 Axes>",
      "image/png": "[encoded data removed]"
     },
     "metadata": {},
     "output_type": "display_data"
    },
    {
     "name": "stdout",
     "output_type": "stream",
     "text": [
      "Classification report:\n",
      "              precision    recall  f1-score   support\n",
      "\n",
      "          -1       0.97      0.99      0.98       175\n",
      "           0       0.88      0.84      0.86      2136\n",
      "           1       0.85      0.89      0.87      2181\n",
      "\n",
      "    accuracy                           0.87      4492\n",
      "   macro avg       0.90      0.90      0.90      4492\n",
      "weighted avg       0.87      0.87      0.87      4492\n",
      "\n"
     ]
    }
   ]
  },
  {
   "cell_type": "markdown",
   "source": [
    "**CM FEMALE**"
   ],
   "metadata": {
    "_uuid": "6110e580-4b6c-49e5-ab24-f0a55a644ab6",
    "_cell_guid": "4b2938bd-0fa8-4b4b-b245-320002fead02",
    "trusted": true
   }
  },
  {
   "cell_type": "code",
   "source": [
    "cm_fm = confusion_matrix(Y_test_f, Y_pred_f)\n",
    "\n",
    "# Visualize the confusion matrix using seaborn\n",
    "sns.heatmap(cm_fm, annot=True, fmt='d', cmap='Blues', cbar=False)\n",
    "plt.xlabel('Predicted')\n",
    "plt.ylabel('True')\n",
    "plt.show()\n",
    "# Print the classification report\n",
    "report = classification_report(Y_test_f, Y_pred_f)\n",
    "print(f\"Classification report:\\n{report}\")"
   ],
   "metadata": {
    "_uuid": "91baa476-86ab-4249-8b99-0416639a1f1c",
    "_cell_guid": "f82ae072-31c2-49b8-a1a8-c6ff2d19a907",
    "collapsed": false,
    "jupyter": {
     "outputs_hidden": false
    },
    "execution": {
     "iopub.status.busy": "2023-07-10T12:29:51.956335Z",
     "iopub.execute_input": "2023-07-10T12:29:51.957001Z",
     "iopub.status.idle": "2023-07-10T12:29:52.146709Z",
     "shell.execute_reply.started": "2023-07-10T12:29:51.956961Z",
     "shell.execute_reply": "2023-07-10T12:29:52.145588Z"
    },
    "trusted": true,
    "ExecuteTime": {
     "end_time": "2023-11-14T14:52:42.982473700Z",
     "start_time": "2023-11-14T14:52:42.855340200Z"
    }
   },
   "execution_count": 119,
   "outputs": [
    {
     "data": {
      "text/plain": "<Figure size 640x480 with 1 Axes>",
      "image/png": "[encoded data removed]"
     },
     "metadata": {},
     "output_type": "display_data"
    },
    {
     "name": "stdout",
     "output_type": "stream",
     "text": [
      "Classification report:\n",
      "              precision    recall  f1-score   support\n",
      "\n",
      "          -1       1.00      0.98      0.99        50\n",
      "           0       0.88      0.86      0.87       578\n",
      "           1       0.79      0.82      0.80       375\n",
      "\n",
      "    accuracy                           0.85      1003\n",
      "   macro avg       0.89      0.89      0.89      1003\n",
      "weighted avg       0.85      0.85      0.85      1003\n",
      "\n"
     ]
    }
   ]
  }
 ]
}
