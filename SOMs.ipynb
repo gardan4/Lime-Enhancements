{
 "cells": [
  {
   "cell_type": "code",
   "execution_count": 1,
   "id": "eed0a1a6",
   "metadata": {
    "ExecuteTime": {
     "end_time": "2023-12-06T10:42:13.160591Z",
     "start_time": "2023-12-06T10:42:13.156951800Z"
    }
   },
   "outputs": [],
   "source": [
    "from minisom import MiniSom\n",
    "import numpy as np\n",
    "import matplotlib.pyplot as plt"
   ]
  },
  {
   "cell_type": "markdown",
   "id": "5678679b",
   "metadata": {},
   "source": [
    "First we need to import our data, where the dimension are the variables we are taking into account in our dataset."
   ]
  },
  {
   "cell_type": "code",
   "execution_count": 2,
   "id": "d70fe5cc",
   "metadata": {
    "ExecuteTime": {
     "end_time": "2023-12-06T10:42:13.164277700Z",
     "start_time": "2023-12-06T10:42:13.162104700Z"
    }
   },
   "outputs": [],
   "source": [
    "# Original data to train the SOM (5 dimensions)\n",
    "data_original = np.random.rand(100, 5)"
   ]
  },
  {
   "cell_type": "markdown",
   "id": "abe1a570",
   "metadata": {},
   "source": [
    "We need then to train our Self Organizing Maps on the data we have."
   ]
  },
  {
   "cell_type": "code",
   "execution_count": 3,
   "id": "07d19465",
   "metadata": {
    "ExecuteTime": {
     "end_time": "2023-12-06T10:42:13.202570700Z",
     "start_time": "2023-12-06T10:42:13.166275400Z"
    }
   },
   "outputs": [],
   "source": [
    "# Creating the SOM\n",
    "som = MiniSom(3, 3, 5, sigma=0.3, learning_rate=0.5)\n",
    "som.train_random(data_original, 1000)"
   ]
  },
  {
   "cell_type": "markdown",
   "id": "0623bd6f",
   "metadata": {},
   "source": [
    "Additionally, we generate perturbed data based on this instance, which is crucial for our explanation.\n",
    "This placeholder will later be replaced by perturbed data obtained from Lime's library."
   ]
  },
  {
   "cell_type": "code",
   "execution_count": 4,
   "id": "b5b58e4f",
   "metadata": {
    "ExecuteTime": {
     "end_time": "2023-12-06T10:42:13.210497500Z",
     "start_time": "2023-12-06T10:42:13.204481800Z"
    }
   },
   "outputs": [],
   "source": [
    "instance_to_explain = np.random.rand(5)\n",
    "\n",
    "perturbed_data = np.random.rand(10, 5)"
   ]
  },
  {
   "cell_type": "markdown",
   "id": "2ca911ad",
   "metadata": {},
   "source": [
    "Next, we calculate the distances between the instance to explain and the perturbed data, considering the SOM's topology.\\\n",
    "This calculation is vital for identifying the perturbed data point most similar to the instance within the SOM."
   ]
  },
  {
   "cell_type": "code",
   "execution_count": 5,
   "id": "72c3bbae",
   "metadata": {
    "ExecuteTime": {
     "end_time": "2023-12-06T10:42:13.211502400Z",
     "start_time": "2023-12-06T10:42:13.207995200Z"
    }
   },
   "outputs": [],
   "source": [
    "# Calculating distances on the SOM\n",
    "def distance_on_som(instance, perturbed_data):\n",
    "    instance_position = som.winner(instance)\n",
    "    perturbed_positions = [som.winner(perturbed) for perturbed in perturbed_data]\n",
    "    distances = [np.linalg.norm(np.array(instance_position) - np.array(pos)) for pos in perturbed_positions]\n",
    "    return distances\n",
    "\n",
    "# Calculating distances between the instance to explain and perturbed data on the SOM\n",
    "distances = distance_on_som(instance_to_explain, perturbed_data)"
   ]
  },
  {
   "cell_type": "markdown",
   "id": "48cb240f",
   "metadata": {},
   "source": [
    "Finally, we locate and designate the perturbed data point that exhibits the smallest distance to our instance.\\\n",
    "This designated data point is considered the best perturbed data for explaining the specific instance and we can continue then with the lime method."
   ]
  },
  {
   "cell_type": "code",
   "execution_count": 6,
   "id": "e667ee2c",
   "metadata": {
    "ExecuteTime": {
     "end_time": "2023-12-06T10:42:13.228532400Z",
     "start_time": "2023-12-06T10:42:13.212504900Z"
    }
   },
   "outputs": [
    {
     "name": "stdout",
     "output_type": "stream",
     "text": [
      "Instance to explain: [0.07767622 0.76997194 0.27535105 0.68922934 0.52623483]\n",
      "Best perturbed data: [0.70605919 0.38110461 0.86190279 0.27153979 0.03383156]\n"
     ]
    }
   ],
   "source": [
    "# Finding the perturbed data closest to the instance to explain on the SOM\n",
    "best_perturbed_data = perturbed_data[np.argmin(distances)]\n",
    "\n",
    "print(\"Instance to explain:\", instance_to_explain)\n",
    "print(\"Best perturbed data:\", best_perturbed_data)\n"
   ]
  },
  {
   "cell_type": "code",
   "execution_count": 7,
   "outputs": [
    {
     "data": {
      "text/plain": "<Figure size 800x700 with 2 Axes>",
      "image/png": "[encoded data removed]"
     },
     "metadata": {},
     "output_type": "display_data"
    },
    {
     "name": "stdout",
     "output_type": "stream",
     "text": [
      "Instance centroid: (2, 0)\n",
      "Perturbed instances centroids: [(array([0.70605919, 0.38110461, 0.86190279, 0.27153979, 0.03383156]), (0, 2)), (array([0.28042653, 0.06288305, 0.22837104, 0.57620929, 0.54839335]), (2, 0)), (array([0.91761395, 0.52840488, 0.7495238 , 0.86764113, 0.07461511]), (1, 2)), (array([0.22773999, 0.63006379, 0.76841386, 0.61095557, 0.61202634]), (1, 2)), (array([0.834496  , 0.59956402, 0.96978479, 0.98621444, 0.27493855]), (1, 2)), (array([0.37307292, 0.47993914, 0.12097329, 0.14864561, 0.99883425]), (1, 0)), (array([0.2568073 , 0.29950793, 0.9746504 , 0.66205981, 0.73008586]), (1, 2)), (array([0.06167664, 0.99692235, 0.04782825, 0.55167614, 0.11657066]), (2, 2)), (array([0.78947472, 0.13450066, 0.30144978, 0.34852841, 0.41607381]), (1, 0)), (array([0.46568885, 0.90742813, 0.05191268, 0.64576501, 0.22390079]), (1, 2))]\n",
      "\n",
      "Instances in the same cluster [0.70605919 0.38110461 0.86190279 0.27153979 0.03383156] (0, 2)\n",
      "\n",
      "Instances in the same cluster [0.28042653 0.06288305 0.22837104 0.57620929 0.54839335] (2, 0)\n",
      "\n",
      "Instances in the same cluster [0.91761395 0.52840488 0.7495238  0.86764113 0.07461511] (1, 2)\n",
      "\n",
      "Instances in the same cluster [0.22773999 0.63006379 0.76841386 0.61095557 0.61202634] (1, 2)\n",
      "\n",
      "Instances in the same cluster [0.834496   0.59956402 0.96978479 0.98621444 0.27493855] (1, 2)\n",
      "\n",
      "Instances in the same cluster [0.37307292 0.47993914 0.12097329 0.14864561 0.99883425] (1, 0)\n",
      "\n",
      "Instances in the same cluster [0.2568073  0.29950793 0.9746504  0.66205981 0.73008586] (1, 2)\n",
      "\n",
      "Instances in the same cluster [0.06167664 0.99692235 0.04782825 0.55167614 0.11657066] (2, 2)\n",
      "\n",
      "Instances in the same cluster [0.78947472 0.13450066 0.30144978 0.34852841 0.41607381] (1, 0)\n",
      "\n",
      "Instances in the same cluster [0.46568885 0.90742813 0.05191268 0.64576501 0.22390079] (1, 2)\n",
      "[1.1432635012816894, 0.7460254953923577, 1.1065626738289567, 0.5465265942059672, 1.1114869417953495, 0.8430846433209792, 0.8858540143547055, 0.5387714850521306, 1.0194972182055762, 0.5591669980604445]\n"
     ]
    }
   ],
   "source": [
    "#use the som class test\n",
    "from somlime import som\n",
    "\n",
    "som_shape  = (3,3)\n",
    "\n",
    "som_model = som.SOM(som_shape , data_original.shape[1], sigma=0.3, learning_rate=0.5)\n",
    "som_model.train(data_original, 1000)\n",
    "# https://github.com/JustGlowing/minisom/blob/master/examples/Clustering.ipynb\n",
    "#plot \n",
    "som_model.plot_distance_map()\n",
    "\n",
    "\n",
    "\n",
    "distances = som_model.distance_to_centroids(instance_to_explain, perturbed_data)\n",
    "print(distances)"
   ],
   "metadata": {
    "collapsed": false,
    "ExecuteTime": {
     "end_time": "2023-12-06T10:42:13.472163400Z",
     "start_time": "2023-12-06T10:42:13.219287700Z"
    }
   },
   "id": "967c476411afe89f"
  },
  {
   "cell_type": "code",
   "execution_count": 7,
   "outputs": [],
   "source": [],
   "metadata": {
    "collapsed": false,
    "ExecuteTime": {
     "end_time": "2023-12-06T10:42:13.472163400Z",
     "start_time": "2023-12-06T10:42:13.470136800Z"
    }
   },
   "id": "e63f8720d95fb95"
  }
 ],
 "metadata": {
  "kernelspec": {
   "display_name": "Python 3 (ipykernel)",
   "language": "python",
   "name": "python3"
  },
  "language_info": {
   "codemirror_mode": {
    "name": "ipython",
    "version": 3
   },
   "file_extension": ".py",
   "mimetype": "text/x-python",
   "name": "python",
   "nbconvert_exporter": "python",
   "pygments_lexer": "ipython3",
   "version": "3.11.4"
  }
 },
 "nbformat": 4,
 "nbformat_minor": 5
}
