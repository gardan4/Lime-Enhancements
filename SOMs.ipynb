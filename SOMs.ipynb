{
 "cells": [
  {
   "cell_type": "code",
   "execution_count": null,
   "id": "eed0a1a6",
   "metadata": {},
   "outputs": [],
   "source": [
    "from minisom import MiniSom\n",
    "import numpy as np"
   ]
  },
  {
   "cell_type": "markdown",
   "id": "5678679b",
   "metadata": {},
   "source": [
    "First we need to import our data, where the dimension are the variables we are taking into account in our dataset."
   ]
  },
  {
   "cell_type": "code",
   "execution_count": null,
   "id": "d70fe5cc",
   "metadata": {},
   "outputs": [],
   "source": [
    "# Original data to train the SOM (5 dimensions)\n",
    "data_original = np.random.rand(100, 5)"
   ]
  },
  {
   "cell_type": "markdown",
   "id": "abe1a570",
   "metadata": {},
   "source": [
    "We need then to train our Self Organizing Maps on the data we have."
   ]
  },
  {
   "cell_type": "code",
   "execution_count": null,
   "id": "07d19465",
   "metadata": {},
   "outputs": [],
   "source": [
    "# Creating the SOM\n",
    "som = MiniSom(3, 3, 5, sigma=0.3, learning_rate=0.5)\n",
    "som.train_random(data_original, 1000)"
   ]
  },
  {
   "cell_type": "markdown",
   "id": "0623bd6f",
   "metadata": {},
   "source": [
    "Additionally, we generate perturbed data based on this instance, which is crucial for our explanation.\n",
    "This placeholder will later be replaced by perturbed data obtained from Lime's library."
   ]
  },
  {
   "cell_type": "code",
   "execution_count": null,
   "id": "b5b58e4f",
   "metadata": {},
   "outputs": [],
   "source": [
    "instance_to_explain = np.random.rand(5)\n",
    "\n",
    "perturbed_data = np.random.rand(10, 5)"
   ]
  },
  {
   "cell_type": "markdown",
   "id": "2ca911ad",
   "metadata": {},
   "source": [
    "Next, we calculate the distances between the instance to explain and the perturbed data, considering the SOM's topology.\\\n",
    "This calculation is vital for identifying the perturbed data point most similar to the instance within the SOM."
   ]
  },
  {
   "cell_type": "code",
   "execution_count": null,
   "id": "72c3bbae",
   "metadata": {},
   "outputs": [],
   "source": [
    "# Calculating distances on the SOM\n",
    "def distance_on_som(instance, perturbed_data):\n",
    "    instance_position = som.winner(instance)\n",
    "    perturbed_positions = [som.winner(perturbed) for perturbed in perturbed_data]\n",
    "    distances = [np.linalg.norm(np.array(instance_position) - np.array(pos)) for pos in perturbed_positions]\n",
    "    return distances\n",
    "\n",
    "# Calculating distances between the instance to explain and perturbed data on the SOM\n",
    "distances = distance_on_som(instance_to_explain, perturbed_data)"
   ]
  },
  {
   "cell_type": "markdown",
   "id": "48cb240f",
   "metadata": {},
   "source": [
    "Finally, we locate and designate the perturbed data point that exhibits the smallest distance to our instance.\\\n",
    "This designated data point is considered the best perturbed data for explaining the specific instance and we can continue then with the lime method."
   ]
  },
  {
   "cell_type": "code",
   "execution_count": null,
   "id": "e667ee2c",
   "metadata": {},
   "outputs": [],
   "source": [
    "# Finding the perturbed data closest to the instance to explain on the SOM\n",
    "best_perturbed_data = perturbed_data[np.argmin(distances)]\n",
    "\n",
    "print(\"Instance to explain:\", instance_to_explain)\n",
    "print(\"Best perturbed data:\", best_perturbed_data)\n"
   ]
  }
 ],
 "metadata": {
  "kernelspec": {
   "display_name": "Python 3 (ipykernel)",
   "language": "python",
   "name": "python3"
  },
  "language_info": {
   "codemirror_mode": {
    "name": "ipython",
    "version": 3
   },
   "file_extension": ".py",
   "mimetype": "text/x-python",
   "name": "python",
   "nbconvert_exporter": "python",
   "pygments_lexer": "ipython3",
   "version": "3.11.4"
  }
 },
 "nbformat": 4,
 "nbformat_minor": 5
}
