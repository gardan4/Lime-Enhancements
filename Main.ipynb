{
 "cells": [
  {
   "cell_type": "code",
   "execution_count": 1,
   "outputs": [],
   "source": [
    "#self written libraries\n",
    "from model_builder import ModelBuild\n",
    "from data_prep import DataPrep"
   ],
   "metadata": {
    "collapsed": false,
    "ExecuteTime": {
     "end_time": "2024-01-17T13:24:50.914051600Z",
     "start_time": "2024-01-17T13:24:48.697760800Z"
    }
   }
  },
  {
   "cell_type": "code",
   "execution_count": 2,
   "metadata": {
    "collapsed": true,
    "ExecuteTime": {
     "end_time": "2024-01-17T13:24:50.930008500Z",
     "start_time": "2024-01-17T13:24:50.919038600Z"
    }
   },
   "outputs": [],
   "source": [
    "#other libraries\n",
    "from sklearn.model_selection import train_test_split\n",
    "import pandas as pd\n",
    "import matplotlib.pyplot as plt\n",
    "import seaborn as sns"
   ]
  },
  {
   "cell_type": "code",
   "execution_count": 3,
   "outputs": [],
   "source": [
    "data_location = \"./data/compas-scores-two-years.csv\"\n",
    "compas_score_full = pd.read_csv(data_location)\n",
    "data_prepper = DataPrep(compas_score_full)\n",
    "X, y = data_prepper.get()\n",
    "X_cols = X.columns\n",
    "X = X.to_numpy()\n",
    "y = y.to_numpy()"
   ],
   "metadata": {
    "collapsed": false,
    "ExecuteTime": {
     "end_time": "2024-01-17T13:24:51.191311900Z",
     "start_time": "2024-01-17T13:24:50.930008500Z"
    }
   }
  },
  {
   "cell_type": "code",
   "execution_count": 4,
   "outputs": [
    {
     "name": "stdout",
     "output_type": "stream",
     "text": [
      "Accuracy: 0.6820987654320988\n"
     ]
    },
    {
     "data": {
      "text/plain": "<Figure size 700x500 with 2 Axes>",
      "image/png": "[encoded data removed]"
     },
     "metadata": {},
     "output_type": "display_data"
    }
   ],
   "source": [
    "X_train, X_test, y_train, y_test = train_test_split(X, y, train_size=0.8, test_size=0.2, random_state=32, shuffle=True)\n",
    "modelBuilder = ModelBuild('DecisionTree')\n",
    "model, accuracy, cm = modelBuilder.train_eval(X_train, y_train, X_test, y_test)\n",
    "\n",
    "print(f\"Accuracy: {accuracy}\")\n",
    "plt.figure(figsize=(7,5))\n",
    "sns.heatmap(cm, annot=True)\n",
    "plt.title('Confusion Matrix')\n",
    "plt.xlabel('Predicted')\n",
    "plt.ylabel('Truth')\n",
    "plt.show()"
   ],
   "metadata": {
    "collapsed": false,
    "ExecuteTime": {
     "end_time": "2024-01-17T13:24:51.685536400Z",
     "start_time": "2024-01-17T13:24:51.194305900Z"
    }
   }
  },
  {
   "cell_type": "code",
   "execution_count": 5,
   "outputs": [
    {
     "name": "stdout",
     "output_type": "stream",
     "text": [
      "Instance to be explained:\n",
      "days_in_jail          30.0\n",
      "age                   22.0\n",
      "decile_score           9.0\n",
      "priors_count           2.0\n",
      "c_days_from_compas     0.0\n",
      "is_violent_recid       0.0\n",
      "v_decile_score        10.0\n",
      "Name: 0, dtype: float64\n",
      "Instance to be explained as list: [30. 22.  9.  2.  0.  0. 10.]\n",
      "None\n",
      "DecisionTreeRegressor(max_depth=3, max_leaf_nodes=8,\n",
      "                      random_state=RandomState(MT19937) at 0x1A1C3F52840)\n",
      "[0.66146474 0.16958893 0.15078902 0.         0.01815732]\n"
     ]
    },
    {
     "ename": "AttributeError",
     "evalue": "'DecisionTreeRegressor' object has no attribute 'intercept_'",
     "output_type": "error",
     "traceback": [
      "\u001B[1;31m---------------------------------------------------------------------------\u001B[0m",
      "\u001B[1;31mAttributeError\u001B[0m                            Traceback (most recent call last)",
      "Cell \u001B[1;32mIn[5], line 8\u001B[0m\n\u001B[0;32m      5\u001B[0m \u001B[38;5;28mprint\u001B[39m(\u001B[38;5;124mf\u001B[39m\u001B[38;5;124m\"\u001B[39m\u001B[38;5;124mInstance to be explained:\u001B[39m\u001B[38;5;130;01m\\n\u001B[39;00m\u001B[38;5;132;01m{\u001B[39;00mpd\u001B[38;5;241m.\u001B[39mDataFrame(X_test,\u001B[38;5;250m \u001B[39mcolumns\u001B[38;5;241m=\u001B[39mX_cols)\u001B[38;5;241m.\u001B[39miloc[\u001B[38;5;241m0\u001B[39m]\u001B[38;5;132;01m}\u001B[39;00m\u001B[38;5;124m\"\u001B[39m)\n\u001B[0;32m      7\u001B[0m \u001B[38;5;28mprint\u001B[39m(\u001B[38;5;124mf\u001B[39m\u001B[38;5;124m\"\u001B[39m\u001B[38;5;124mInstance to be explained as list: \u001B[39m\u001B[38;5;132;01m{\u001B[39;00mX_test[\u001B[38;5;241m0\u001B[39m]\u001B[38;5;132;01m}\u001B[39;00m\u001B[38;5;124m\"\u001B[39m)\n\u001B[1;32m----> 8\u001B[0m exp_inst \u001B[38;5;241m=\u001B[39m \u001B[43mexplainer_lime\u001B[49m\u001B[38;5;241;43m.\u001B[39;49m\u001B[43mexplain_instance\u001B[49m\u001B[43m(\u001B[49m\u001B[43mX_test\u001B[49m\u001B[43m[\u001B[49m\u001B[38;5;241;43m0\u001B[39;49m\u001B[43m]\u001B[49m\u001B[43m,\u001B[49m\u001B[43m \u001B[49m\u001B[43mmodel\u001B[49m\u001B[38;5;241;43m.\u001B[39;49m\u001B[43mpredict_proba\u001B[49m\u001B[43m,\u001B[49m\u001B[43m \u001B[49m\u001B[43mnum_features\u001B[49m\u001B[38;5;241;43m=\u001B[39;49m\u001B[38;5;241;43m5\u001B[39;49m\u001B[43m)\u001B[49m\n\u001B[0;32m      9\u001B[0m tree\u001B[38;5;241m.\u001B[39mplot_tree(exp_inst)\n",
      "File \u001B[1;32m~\\PycharmProjects\\Lime-Enhancements\\decision_tree_lime\\lime_tabular.py:469\u001B[0m, in \u001B[0;36mLimeTabularExplainerDT.explain_instance\u001B[1;34m(self, data_row, predict_fn, labels, top_labels, num_features, num_samples, distance_metric, model_regressor, sampling_method)\u001B[0m\n\u001B[0;32m    456\u001B[0m \u001B[38;5;66;03m# for label in labels:\u001B[39;00m\n\u001B[0;32m    457\u001B[0m \u001B[38;5;66;03m#     (ret_exp.intercept[label],\u001B[39;00m\n\u001B[0;32m    458\u001B[0m \u001B[38;5;66;03m#      ret_exp.local_exp[label],\u001B[39;00m\n\u001B[1;32m   (...)\u001B[0m\n\u001B[0;32m    466\u001B[0m \u001B[38;5;66;03m#             model_regressor=model_regressor,\u001B[39;00m\n\u001B[0;32m    467\u001B[0m \u001B[38;5;66;03m#             feature_selection=self.feature_selection)\u001B[39;00m\n\u001B[0;32m    468\u001B[0m \u001B[38;5;28;01mfor\u001B[39;00m label \u001B[38;5;129;01min\u001B[39;00m labels:\n\u001B[1;32m--> 469\u001B[0m     ret_exp \u001B[38;5;241m=\u001B[39m \u001B[38;5;28;43mself\u001B[39;49m\u001B[38;5;241;43m.\u001B[39;49m\u001B[43mbase\u001B[49m\u001B[38;5;241;43m.\u001B[39;49m\u001B[43mexplain_instance_with_data\u001B[49m\u001B[43m(\u001B[49m\n\u001B[0;32m    470\u001B[0m \u001B[43m            \u001B[49m\u001B[43mscaled_data\u001B[49m\u001B[43m,\u001B[49m\n\u001B[0;32m    471\u001B[0m \u001B[43m            \u001B[49m\u001B[43myss\u001B[49m\u001B[43m,\u001B[49m\n\u001B[0;32m    472\u001B[0m \u001B[43m            \u001B[49m\u001B[43mdistances\u001B[49m\u001B[43m,\u001B[49m\n\u001B[0;32m    473\u001B[0m \u001B[43m            \u001B[49m\u001B[43mlabel\u001B[49m\u001B[43m,\u001B[49m\n\u001B[0;32m    474\u001B[0m \u001B[43m            \u001B[49m\u001B[43mnum_features\u001B[49m\u001B[43m,\u001B[49m\n\u001B[0;32m    475\u001B[0m \u001B[43m            \u001B[49m\u001B[43mmodel_regressor\u001B[49m\u001B[38;5;241;43m=\u001B[39;49m\u001B[43mmodel_regressor\u001B[49m\u001B[43m,\u001B[49m\n\u001B[0;32m    476\u001B[0m \u001B[43m            \u001B[49m\u001B[43mfeature_selection\u001B[49m\u001B[38;5;241;43m=\u001B[39;49m\u001B[38;5;28;43mself\u001B[39;49m\u001B[38;5;241;43m.\u001B[39;49m\u001B[43mfeature_selection\u001B[49m\u001B[43m)\u001B[49m\n\u001B[0;32m    478\u001B[0m \u001B[38;5;66;03m# if self.mode == \"regression\":\u001B[39;00m\n\u001B[0;32m    479\u001B[0m \u001B[38;5;66;03m#     ret_exp.intercept[1] = ret_exp.intercept[0]\u001B[39;00m\n\u001B[0;32m    480\u001B[0m \u001B[38;5;66;03m#     ret_exp.local_exp[1] = [x for x in ret_exp.local_exp[0]]\u001B[39;00m\n\u001B[0;32m    481\u001B[0m \u001B[38;5;66;03m#     ret_exp.local_exp[0] = [(i, -1 * j) for i, j in ret_exp.local_exp[1]]\u001B[39;00m\n\u001B[0;32m    483\u001B[0m \u001B[38;5;28;01mreturn\u001B[39;00m ret_exp\n",
      "File \u001B[1;32m~\\PycharmProjects\\Lime-Enhancements\\decision_tree_lime\\lime_base.py:222\u001B[0m, in \u001B[0;36mLimeBase.explain_instance_with_data\u001B[1;34m(self, neighborhood_data, neighborhood_labels, distances, label, num_features, feature_selection, model_regressor)\u001B[0m\n\u001B[0;32m    220\u001B[0m     \u001B[38;5;28mprint\u001B[39m(\u001B[38;5;124m'\u001B[39m\u001B[38;5;124mPrediction_local\u001B[39m\u001B[38;5;124m'\u001B[39m, local_pred, )\n\u001B[0;32m    221\u001B[0m     \u001B[38;5;28mprint\u001B[39m(\u001B[38;5;124m'\u001B[39m\u001B[38;5;124mRight:\u001B[39m\u001B[38;5;124m'\u001B[39m, neighborhood_labels[\u001B[38;5;241m0\u001B[39m, label])\n\u001B[1;32m--> 222\u001B[0m \u001B[38;5;28;01mreturn\u001B[39;00m (\u001B[43measy_model\u001B[49m\u001B[38;5;241;43m.\u001B[39;49m\u001B[43mintercept_\u001B[49m,\n\u001B[0;32m    223\u001B[0m         \u001B[38;5;28msorted\u001B[39m(\u001B[38;5;28mzip\u001B[39m(used_features, easy_model\u001B[38;5;241m.\u001B[39mcoef_),\n\u001B[0;32m    224\u001B[0m                key\u001B[38;5;241m=\u001B[39m\u001B[38;5;28;01mlambda\u001B[39;00m x: np\u001B[38;5;241m.\u001B[39mabs(x[\u001B[38;5;241m1\u001B[39m]), reverse\u001B[38;5;241m=\u001B[39m\u001B[38;5;28;01mTrue\u001B[39;00m),\n\u001B[0;32m    225\u001B[0m         prediction_score, local_pred)\n",
      "\u001B[1;31mAttributeError\u001B[0m: 'DecisionTreeRegressor' object has no attribute 'intercept_'"
     ]
    }
   ],
   "source": [
    "from sklearn import tree\n",
    "explainer_lime = modelBuilder.decision_tree_explain(X_train, X_cols)\n",
    "\n",
    "#instance to explain (for easy column viewing converted to pandas)\n",
    "print(f\"Instance to be explained:\\n{pd.DataFrame(X_test, columns=X_cols).iloc[0]}\")\n",
    "\n",
    "print(f\"Instance to be explained as list: {X_test[0]}\")\n",
    "exp_inst = explainer_lime.explain_instance(X_test[0], model.predict_proba, num_features=5)\n",
    "tree.plot_tree(exp_inst)"
   ],
   "metadata": {
    "collapsed": false,
    "ExecuteTime": {
     "end_time": "2024-01-17T13:24:52.948614100Z",
     "start_time": "2024-01-17T13:24:51.691528500Z"
    }
   }
  },
  {
   "cell_type": "code",
   "execution_count": null,
   "outputs": [],
   "source": [],
   "metadata": {
    "collapsed": false,
    "ExecuteTime": {
     "start_time": "2024-01-17T13:24:52.878801500Z"
    }
   }
  },
  {
   "cell_type": "code",
   "execution_count": null,
   "outputs": [],
   "source": [],
   "metadata": {
    "collapsed": false
   }
  }
 ],
 "metadata": {
  "kernelspec": {
   "display_name": "Python 3",
   "language": "python",
   "name": "python3"
  },
  "language_info": {
   "codemirror_mode": {
    "name": "ipython",
    "version": 2
   },
   "file_extension": ".py",
   "mimetype": "text/x-python",
   "name": "python",
   "nbconvert_exporter": "python",
   "pygments_lexer": "ipython2",
   "version": "2.7.6"
  }
 },
 "nbformat": 4,
 "nbformat_minor": 0
}
