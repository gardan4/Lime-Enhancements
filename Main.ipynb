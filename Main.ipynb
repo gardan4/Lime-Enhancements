{
 "cells": [
  {
   "cell_type": "code",
   "execution_count": 2,
   "outputs": [],
   "source": [
    "#self written libraries\n",
    "from model_builder import ModelBuild\n",
    "from data_prep import DataPrep"
   ],
   "metadata": {
    "collapsed": false,
    "ExecuteTime": {
     "end_time": "2024-01-18T11:37:49.126437500Z",
     "start_time": "2024-01-18T11:37:49.090517100Z"
    }
   }
  },
  {
   "cell_type": "code",
   "execution_count": 3,
   "metadata": {
    "collapsed": true,
    "ExecuteTime": {
     "end_time": "2024-01-18T11:37:49.499470700Z",
     "start_time": "2024-01-18T11:37:49.469548700Z"
    }
   },
   "outputs": [],
   "source": [
    "#other libraries\n",
    "from sklearn.model_selection import train_test_split\n",
    "import pandas as pd\n",
    "import matplotlib.pyplot as plt\n",
    "import seaborn as sns"
   ]
  },
  {
   "cell_type": "code",
   "execution_count": 4,
   "outputs": [],
   "source": [
    "data_location = \"./data/compas-scores-two-years.csv\"\n",
    "compas_score_full = pd.read_csv(data_location)\n",
    "data_prepper = DataPrep(compas_score_full)\n",
    "X, y = data_prepper.get()\n",
    "X_cols = X.columns\n",
    "X = X.to_numpy()\n",
    "y = y.to_numpy()"
   ],
   "metadata": {
    "collapsed": false,
    "ExecuteTime": {
     "end_time": "2024-01-18T11:37:50.176815400Z",
     "start_time": "2024-01-18T11:37:49.889696300Z"
    }
   }
  },
  {
   "cell_type": "code",
   "execution_count": 5,
   "outputs": [
    {
     "name": "stdout",
     "output_type": "stream",
     "text": [
      "Accuracy: 0.6898148148148148\n"
     ]
    },
    {
     "data": {
      "text/plain": "<Figure size 700x500 with 2 Axes>",
      "image/png": "[encoded data removed]"
     },
     "metadata": {},
     "output_type": "display_data"
    }
   ],
   "source": [
    "X_train, X_test, y_train, y_test = train_test_split(X, y, train_size=0.8, test_size=0.2, random_state=32, shuffle=True)\n",
    "modelBuilder = ModelBuild('DecisionTree')\n",
    "model, accuracy, cm = modelBuilder.train_eval(X_train, y_train, X_test, y_test)\n",
    "\n",
    "print(f\"Accuracy: {accuracy}\")\n",
    "plt.figure(figsize=(7,5))\n",
    "sns.heatmap(cm, annot=True)\n",
    "plt.title('Confusion Matrix')\n",
    "plt.xlabel('Predicted')\n",
    "plt.ylabel('Truth')\n",
    "plt.show()"
   ],
   "metadata": {
    "collapsed": false,
    "ExecuteTime": {
     "end_time": "2024-01-18T11:37:50.746382900Z",
     "start_time": "2024-01-18T11:37:50.287866200Z"
    }
   }
  },
  {
   "cell_type": "code",
   "execution_count": 6,
   "outputs": [
    {
     "name": "stdout",
     "output_type": "stream",
     "text": [
      "Instance to be explained:\n",
      "days_in_jail          30.0\n",
      "age                   22.0\n",
      "decile_score           9.0\n",
      "priors_count           2.0\n",
      "c_days_from_compas     0.0\n",
      "is_violent_recid       0.0\n",
      "v_decile_score        10.0\n",
      "Name: 0, dtype: float64\n",
      "Instance to be explained as list: [30. 22.  9.  2.  0.  0. 10.]\n",
      "None\n",
      "DecisionTreeRegressor(max_depth=3, max_leaf_nodes=8,\n",
      "                      random_state=RandomState(MT19937) at 0x27D59E62840)\n",
      "(0, [(5, 0.6197954856327722), (1, 0.24476745714904777), (2, 0.11083560653627392), (3, 0.024601450681905945), (0, 0.0)], 0.16382917956468634, array([0.73257017]))\n"
     ]
    }
   ],
   "source": [
    "from sklearn import tree\n",
    "explainer_lime = modelBuilder.decision_tree_explain(X_train, X_cols)\n",
    "\n",
    "#instance to explain (for easy column viewing converted to pandas)\n",
    "print(f\"Instance to be explained:\\n{pd.DataFrame(X_test, columns=X_cols).iloc[0]}\")\n",
    "\n",
    "print(f\"Instance to be explained as list: {X_test[0]}\")\n",
    "exp_inst = explainer_lime.explain_instance(X_test[0], model.predict_proba, num_features=5)\n",
    "print(exp_inst)"
   ],
   "metadata": {
    "collapsed": false,
    "ExecuteTime": {
     "end_time": "2024-01-18T11:37:50.878607200Z",
     "start_time": "2024-01-18T11:37:50.724440700Z"
    }
   }
  },
  {
   "cell_type": "code",
   "execution_count": null,
   "outputs": [],
   "source": [],
   "metadata": {
    "collapsed": false,
    "ExecuteTime": {
     "start_time": "2024-01-17T13:24:52.878801500Z"
    }
   }
  },
  {
   "cell_type": "code",
   "execution_count": null,
   "outputs": [],
   "source": [],
   "metadata": {
    "collapsed": false
   }
  }
 ],
 "metadata": {
  "kernelspec": {
   "display_name": "Python 3",
   "language": "python",
   "name": "python3"
  },
  "language_info": {
   "codemirror_mode": {
    "name": "ipython",
    "version": 2
   },
   "file_extension": ".py",
   "mimetype": "text/x-python",
   "name": "python",
   "nbconvert_exporter": "python",
   "pygments_lexer": "ipython2",
   "version": "2.7.6"
  }
 },
 "nbformat": 4,
 "nbformat_minor": 0
}
