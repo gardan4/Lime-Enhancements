{
 "cells": [
  {
   "cell_type": "code",
   "execution_count": 1,
   "outputs": [],
   "source": [
    "#self written libraries\n",
    "from model_builder import ModelBuild\n",
    "from data_prep import DataPrep"
   ],
   "metadata": {
    "collapsed": false,
    "ExecuteTime": {
     "end_time": "2024-01-18T11:50:11.688342300Z",
     "start_time": "2024-01-18T11:50:11.182914200Z"
    }
   }
  },
  {
   "cell_type": "code",
   "execution_count": 2,
   "metadata": {
    "collapsed": true,
    "ExecuteTime": {
     "end_time": "2024-01-18T11:50:11.698315200Z",
     "start_time": "2024-01-18T11:50:11.692118900Z"
    }
   },
   "outputs": [],
   "source": [
    "#other libraries\n",
    "from sklearn.model_selection import train_test_split\n",
    "import pandas as pd\n",
    "import matplotlib.pyplot as plt\n",
    "import seaborn as sns"
   ]
  },
  {
   "cell_type": "code",
   "execution_count": 3,
   "outputs": [],
   "source": [
    "data_location = \"./data/compas-scores-two-years.csv\"\n",
    "compas_score_full = pd.read_csv(data_location)\n",
    "data_prepper = DataPrep(compas_score_full)\n",
    "X, y = data_prepper.get()\n",
    "X_cols = X.columns\n",
    "X = X.to_numpy()\n",
    "y = y.to_numpy()"
   ],
   "metadata": {
    "collapsed": false,
    "ExecuteTime": {
     "end_time": "2024-01-18T11:50:11.886811800Z",
     "start_time": "2024-01-18T11:50:11.704303800Z"
    }
   }
  },
  {
   "cell_type": "code",
   "execution_count": 4,
   "outputs": [
    {
     "name": "stdout",
     "output_type": "stream",
     "text": [
      "Accuracy: 0.6813271604938271\n"
     ]
    },
    {
     "data": {
      "text/plain": "<Figure size 700x500 with 2 Axes>",
      "image/png": "[encoded data removed]"
     },
     "metadata": {},
     "output_type": "display_data"
    }
   ],
   "source": [
    "X_train, X_test, y_train, y_test = train_test_split(X, y, train_size=0.8, test_size=0.2, random_state=32, shuffle=True)\n",
    "modelBuilder = ModelBuild('DecisionTree')\n",
    "model, accuracy, cm = modelBuilder.train_eval(X_train, y_train, X_test, y_test)\n",
    "\n",
    "print(f\"Accuracy: {accuracy}\")\n",
    "plt.figure(figsize=(7,5))\n",
    "sns.heatmap(cm, annot=True)\n",
    "plt.title('Confusion Matrix')\n",
    "plt.xlabel('Predicted')\n",
    "plt.ylabel('Truth')\n",
    "plt.show()"
   ],
   "metadata": {
    "collapsed": false,
    "ExecuteTime": {
     "end_time": "2024-01-18T11:50:12.221649800Z",
     "start_time": "2024-01-18T11:50:11.895836200Z"
    }
   }
  },
  {
   "cell_type": "code",
   "execution_count": 5,
   "outputs": [
    {
     "name": "stdout",
     "output_type": "stream",
     "text": [
      "Instance to be explained:\n",
      "days_in_jail          30.0\n",
      "age                   22.0\n",
      "decile_score           9.0\n",
      "priors_count           2.0\n",
      "c_days_from_compas     0.0\n",
      "is_violent_recid       0.0\n",
      "v_decile_score        10.0\n",
      "Name: 0, dtype: float64\n",
      "Instance to be explained as list: [30. 22.  9.  2.  0.  0. 10.]\n",
      "None\n",
      "DecisionTreeRegressor(max_depth=3, max_leaf_nodes=8,\n",
      "                      random_state=RandomState(MT19937) at 0x232BB476840)\n",
      "(0, [(5, 0.7103832629268945), (1, 0.207625347841109), (2, 0.046307118243894926), (3, 0.03568427098810166), (0, 0.0)], 0.13769368676231575, array([0.73006758]))\n"
     ]
    },
    {
     "ename": "AttributeError",
     "evalue": "'tuple' object has no attribute 'show_in_notebook'",
     "output_type": "error",
     "traceback": [
      "\u001B[1;31m---------------------------------------------------------------------------\u001B[0m",
      "\u001B[1;31mAttributeError\u001B[0m                            Traceback (most recent call last)",
      "Cell \u001B[1;32mIn[5], line 10\u001B[0m\n\u001B[0;32m      8\u001B[0m exp_inst \u001B[38;5;241m=\u001B[39m explainer_lime\u001B[38;5;241m.\u001B[39mexplain_instance(X_test[\u001B[38;5;241m0\u001B[39m], model\u001B[38;5;241m.\u001B[39mpredict_proba, num_features\u001B[38;5;241m=\u001B[39m\u001B[38;5;241m5\u001B[39m)\n\u001B[0;32m      9\u001B[0m \u001B[38;5;28mprint\u001B[39m(exp_inst)\n\u001B[1;32m---> 10\u001B[0m \u001B[43mexp_inst\u001B[49m\u001B[38;5;241;43m.\u001B[39;49m\u001B[43mshow_in_notebook\u001B[49m()\n",
      "\u001B[1;31mAttributeError\u001B[0m: 'tuple' object has no attribute 'show_in_notebook'"
     ]
    }
   ],
   "source": [
    "from sklearn import tree\n",
    "explainer_lime = modelBuilder.decision_tree_explain(X_train, X_cols)\n",
    "\n",
    "#instance to explain (for easy column viewing converted to pandas)\n",
    "print(f\"Instance to be explained:\\n{pd.DataFrame(X_test, columns=X_cols).iloc[0]}\")\n",
    "\n",
    "print(f\"Instance to be explained as list: {X_test[0]}\")\n",
    "exp_inst = explainer_lime.explain_instance(X_test[0], model.predict_proba, num_features=5)\n",
    "print(exp_inst)\n",
    "exp_inst.show_in_notebook()"
   ],
   "metadata": {
    "collapsed": false,
    "ExecuteTime": {
     "end_time": "2024-01-18T11:50:13.077783Z",
     "start_time": "2024-01-18T11:50:12.224657900Z"
    }
   }
  },
  {
   "cell_type": "code",
   "execution_count": null,
   "outputs": [],
   "source": [],
   "metadata": {
    "collapsed": false
   }
  },
  {
   "cell_type": "code",
   "execution_count": null,
   "outputs": [],
   "source": [],
   "metadata": {
    "collapsed": false
   }
  }
 ],
 "metadata": {
  "kernelspec": {
   "display_name": "Python 3",
   "language": "python",
   "name": "python3"
  },
  "language_info": {
   "codemirror_mode": {
    "name": "ipython",
    "version": 2
   },
   "file_extension": ".py",
   "mimetype": "text/x-python",
   "name": "python",
   "nbconvert_exporter": "python",
   "pygments_lexer": "ipython2",
   "version": "2.7.6"
  }
 },
 "nbformat": 4,
 "nbformat_minor": 0
}
