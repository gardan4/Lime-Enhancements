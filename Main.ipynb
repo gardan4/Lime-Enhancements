{
 "cells": [
  {
   "cell_type": "code",
   "execution_count": 1,
   "outputs": [],
   "source": [
    "#self written libraries\n",
    "from model_builder import ModelBuild\n",
    "from data_prep import DataPrep"
   ],
   "metadata": {
    "collapsed": false,
    "ExecuteTime": {
     "end_time": "2023-12-05T21:24:03.279096200Z",
     "start_time": "2023-12-05T21:24:02.835380800Z"
    }
   }
  },
  {
   "cell_type": "code",
   "execution_count": 2,
   "metadata": {
    "collapsed": true,
    "ExecuteTime": {
     "end_time": "2023-12-05T21:24:03.286538200Z",
     "start_time": "2023-12-05T21:24:03.280017Z"
    }
   },
   "outputs": [],
   "source": [
    "#other libraries\n",
    "from sklearn.model_selection import train_test_split\n",
    "import pandas as pd\n",
    "import matplotlib.pyplot as plt\n",
    "import seaborn as sns"
   ]
  },
  {
   "cell_type": "code",
   "execution_count": 3,
   "outputs": [],
   "source": [
    "data_location = \"./data/compas-scores-two-years.csv\"\n",
    "compas_score_full = pd.read_csv(data_location)\n",
    "data_prepper = DataPrep(compas_score_full)\n",
    "X, y = data_prepper.get()\n",
    "X_cols = X.columns\n",
    "X = X.to_numpy()\n",
    "y = y.to_numpy()"
   ],
   "metadata": {
    "collapsed": false,
    "ExecuteTime": {
     "end_time": "2023-12-05T21:24:03.386860700Z",
     "start_time": "2023-12-05T21:24:03.284033900Z"
    }
   }
  },
  {
   "cell_type": "code",
   "execution_count": 4,
   "outputs": [
    {
     "name": "stdout",
     "output_type": "stream",
     "text": [
      "Accuracy: 0.6782407407407407\n"
     ]
    },
    {
     "data": {
      "text/plain": "<Figure size 700x500 with 2 Axes>",
      "image/png": "[encoded data removed]"
     },
     "metadata": {},
     "output_type": "display_data"
    }
   ],
   "source": [
    "X_train, X_test, y_train, y_test = train_test_split(X, y, train_size=0.8, test_size=0.2, random_state=32, shuffle=True)\n",
    "modelBuilder = ModelBuild('DecisionTree')\n",
    "model, accuracy, cm = modelBuilder.train_eval(X_train, y_train, X_test, y_test)\n",
    "\n",
    "print(f\"Accuracy: {accuracy}\")\n",
    "plt.figure(figsize=(7,5))\n",
    "sns.heatmap(cm, annot=True)\n",
    "plt.title('Confusion Matrix')\n",
    "plt.xlabel('Predicted')\n",
    "plt.ylabel('Truth')\n",
    "plt.show()"
   ],
   "metadata": {
    "collapsed": false,
    "ExecuteTime": {
     "end_time": "2023-12-05T21:24:03.593277800Z",
     "start_time": "2023-12-05T21:24:03.389229500Z"
    }
   }
  },
  {
   "cell_type": "code",
   "execution_count": 6,
   "outputs": [
    {
     "name": "stdout",
     "output_type": "stream",
     "text": [
      "days_in_jail          30.0\n",
      "age                   22.0\n",
      "decile_score           9.0\n",
      "priors_count           2.0\n",
      "c_days_from_compas     0.0\n",
      "is_violent_recid       0.0\n",
      "v_decile_score        10.0\n",
      "Name: 0, dtype: float64\n"
     ]
    },
    {
     "ename": "FileNotFoundError",
     "evalue": "[Errno 2] No such file or directory: 'C:\\\\Users\\\\Marc\\\\Desktop\\\\Lime-Enhancements\\\\selfmade_lime\\\\bundle.js'",
     "output_type": "error",
     "traceback": [
      "\u001B[1;31m---------------------------------------------------------------------------\u001B[0m",
      "\u001B[1;31mFileNotFoundError\u001B[0m                         Traceback (most recent call last)",
      "Cell \u001B[1;32mIn[6], line 7\u001B[0m\n\u001B[0;32m      4\u001B[0m \u001B[38;5;28mprint\u001B[39m(pd\u001B[38;5;241m.\u001B[39mDataFrame(X_test, columns\u001B[38;5;241m=\u001B[39mX_cols)\u001B[38;5;241m.\u001B[39miloc[\u001B[38;5;241m0\u001B[39m])\n\u001B[0;32m      6\u001B[0m exp_inst \u001B[38;5;241m=\u001B[39m explainer_lime\u001B[38;5;241m.\u001B[39mexplain_instance(X_test[\u001B[38;5;241m0\u001B[39m], model\u001B[38;5;241m.\u001B[39mpredict_proba, num_features\u001B[38;5;241m=\u001B[39m\u001B[38;5;241m5\u001B[39m)\n\u001B[1;32m----> 7\u001B[0m exp_inst\u001B[38;5;241m.\u001B[39mshow_in_notebook()\n",
      "File \u001B[1;32m~\\Desktop\\Lime-Enhancements\\selfmade_lime\\explanation.py:194\u001B[0m, in \u001B[0;36mExplanation.show_in_notebook\u001B[1;34m(self, labels, predict_proba, show_predicted_value, **kwargs)\u001B[0m\n\u001B[0;32m    188\u001B[0m \u001B[38;5;250m\u001B[39m\u001B[38;5;124;03m\"\"\"Shows html explanation in ipython notebook.\u001B[39;00m\n\u001B[0;32m    189\u001B[0m \n\u001B[0;32m    190\u001B[0m \u001B[38;5;124;03mSee as_html() for parameters.\u001B[39;00m\n\u001B[0;32m    191\u001B[0m \u001B[38;5;124;03mThis will throw an error if you don't have IPython installed\"\"\"\u001B[39;00m\n\u001B[0;32m    193\u001B[0m \u001B[38;5;28;01mfrom\u001B[39;00m \u001B[38;5;21;01mIPython\u001B[39;00m\u001B[38;5;21;01m.\u001B[39;00m\u001B[38;5;21;01mcore\u001B[39;00m\u001B[38;5;21;01m.\u001B[39;00m\u001B[38;5;21;01mdisplay\u001B[39;00m \u001B[38;5;28;01mimport\u001B[39;00m display, HTML\n\u001B[1;32m--> 194\u001B[0m display(HTML(\u001B[38;5;28mself\u001B[39m\u001B[38;5;241m.\u001B[39mas_html(labels\u001B[38;5;241m=\u001B[39mlabels,\n\u001B[0;32m    195\u001B[0m                           predict_proba\u001B[38;5;241m=\u001B[39mpredict_proba,\n\u001B[0;32m    196\u001B[0m                           show_predicted_value\u001B[38;5;241m=\u001B[39mshow_predicted_value,\n\u001B[0;32m    197\u001B[0m                           \u001B[38;5;241m*\u001B[39m\u001B[38;5;241m*\u001B[39mkwargs)))\n",
      "File \u001B[1;32m~\\Desktop\\Lime-Enhancements\\selfmade_lime\\explanation.py:249\u001B[0m, in \u001B[0;36mExplanation.as_html\u001B[1;34m(self, labels, predict_proba, show_predicted_value, **kwargs)\u001B[0m\n\u001B[0;32m    246\u001B[0m     labels \u001B[38;5;241m=\u001B[39m \u001B[38;5;28mself\u001B[39m\u001B[38;5;241m.\u001B[39mavailable_labels()\n\u001B[0;32m    248\u001B[0m this_dir, _ \u001B[38;5;241m=\u001B[39m os\u001B[38;5;241m.\u001B[39mpath\u001B[38;5;241m.\u001B[39msplit(\u001B[38;5;18m__file__\u001B[39m)\n\u001B[1;32m--> 249\u001B[0m bundle \u001B[38;5;241m=\u001B[39m \u001B[38;5;28mopen\u001B[39m(os\u001B[38;5;241m.\u001B[39mpath\u001B[38;5;241m.\u001B[39mjoin(this_dir, \u001B[38;5;124m'\u001B[39m\u001B[38;5;124mbundle.js\u001B[39m\u001B[38;5;124m'\u001B[39m),\n\u001B[0;32m    250\u001B[0m               encoding\u001B[38;5;241m=\u001B[39m\u001B[38;5;124m\"\u001B[39m\u001B[38;5;124mutf8\u001B[39m\u001B[38;5;124m\"\u001B[39m)\u001B[38;5;241m.\u001B[39mread()\n\u001B[0;32m    252\u001B[0m out \u001B[38;5;241m=\u001B[39m \u001B[38;5;124mu\u001B[39m\u001B[38;5;124m'''\u001B[39m\u001B[38;5;124m<html>\u001B[39m\n\u001B[0;32m    253\u001B[0m \u001B[38;5;124m<meta http-equiv=\u001B[39m\u001B[38;5;124m\"\u001B[39m\u001B[38;5;124mcontent-type\u001B[39m\u001B[38;5;124m\"\u001B[39m\u001B[38;5;124m content=\u001B[39m\u001B[38;5;124m\"\u001B[39m\u001B[38;5;124mtext/html; charset=UTF8\u001B[39m\u001B[38;5;124m\"\u001B[39m\u001B[38;5;124m>\u001B[39m\n\u001B[0;32m    254\u001B[0m \u001B[38;5;124m<head><script>\u001B[39m\u001B[38;5;132;01m%s\u001B[39;00m\u001B[38;5;124m </script></head><body>\u001B[39m\u001B[38;5;124m'''\u001B[39m \u001B[38;5;241m%\u001B[39m bundle\n\u001B[0;32m    255\u001B[0m random_id \u001B[38;5;241m=\u001B[39m id_generator(size\u001B[38;5;241m=\u001B[39m\u001B[38;5;241m15\u001B[39m, random_state\u001B[38;5;241m=\u001B[39mcheck_random_state(\u001B[38;5;28mself\u001B[39m\u001B[38;5;241m.\u001B[39mrandom_state))\n",
      "\u001B[1;31mFileNotFoundError\u001B[0m: [Errno 2] No such file or directory: 'C:\\\\Users\\\\Marc\\\\Desktop\\\\Lime-Enhancements\\\\selfmade_lime\\\\bundle.js'"
     ]
    }
   ],
   "source": [
    "explainer_lime = modelBuilder.selfmade_explain(X_train, X_cols)\n",
    "\n",
    "#instance to explain (for easy column viewing converted to pandas)\n",
    "print(pd.DataFrame(X_test, columns=X_cols).iloc[0])\n",
    "\n",
    "exp_inst = explainer_lime.explain_instance(X_test[0], model.predict_proba, num_features=5)\n",
    "exp_inst.show_in_notebook()"
   ],
   "metadata": {
    "collapsed": false,
    "ExecuteTime": {
     "end_time": "2023-12-05T21:24:52.648410Z",
     "start_time": "2023-12-05T21:24:51.773947800Z"
    }
   }
  },
  {
   "cell_type": "code",
   "execution_count": null,
   "outputs": [],
   "source": [],
   "metadata": {
    "collapsed": false
   }
  }
 ],
 "metadata": {
  "kernelspec": {
   "display_name": "Python 3",
   "language": "python",
   "name": "python3"
  },
  "language_info": {
   "codemirror_mode": {
    "name": "ipython",
    "version": 2
   },
   "file_extension": ".py",
   "mimetype": "text/x-python",
   "name": "python",
   "nbconvert_exporter": "python",
   "pygments_lexer": "ipython2",
   "version": "2.7.6"
  }
 },
 "nbformat": 4,
 "nbformat_minor": 0
}
